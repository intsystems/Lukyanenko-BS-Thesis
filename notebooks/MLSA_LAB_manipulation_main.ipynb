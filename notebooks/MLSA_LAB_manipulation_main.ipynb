{
 "cells": [
  {
   "cell_type": "markdown",
   "metadata": {
    "id": "iy0eN0gYbQ18"
   },
   "source": [
    "### Imports"
   ]
  },
  {
   "cell_type": "code",
   "execution_count": 1,
   "metadata": {
    "id": "ECffSCKybZLv"
   },
   "outputs": [],
   "source": [
    "%load_ext autoreload\n",
    "%autoreload 2\n",
    "\n",
    "import sys\n",
    "from IPython.display import clear_output\n",
    "from typing import List\n",
    "import matplotlib.pyplot as plt"
   ]
  },
  {
   "cell_type": "code",
   "execution_count": 2,
   "metadata": {
    "id": "HAJQw7oPbT4Q"
   },
   "outputs": [],
   "source": [
    "# !pip3 install transformers\n",
    "# !python -m spacy download ru_core_news_md\n",
    "# clear_output()"
   ]
  },
  {
   "cell_type": "code",
   "execution_count": 3,
   "metadata": {
    "colab": {
     "base_uri": "https://localhost:8080/",
     "height": 104,
     "referenced_widgets": [
      "95137ffb09814d6e8a374ad4a1091e79",
      "3c83861e6a2544ff811136181bd5aff5",
      "9f51a27a30644bfaa5fa35c35b9b8a80",
      "5ae93387319247a1b110d54d25ae48a2",
      "5995b7b9019944b5bdeadb60c1892301",
      "99039ffc7a56495d9f9ddd2a6335c7f5",
      "accce3de1a6d4ee18732e389bc784f95",
      "63edbe9f183a48828aa0b632ffc6f6e6",
      "d4ecacdaa4024af0a341779c742cebd8",
      "2404962f262f49b592605798f4a6871d",
      "2b9e761fc4554aec9959d6b80e3b5bcd"
     ]
    },
    "id": "EsI5v0sQalId",
    "outputId": "fd3051e5-444b-4314-d348-54852f986381"
   },
   "outputs": [],
   "source": [
    "import pandas as pd\n",
    "import numpy as np\n",
    "import json\n",
    "import torch\n",
    "\n",
    "from sklearn.model_selection import train_test_split\n",
    "\n",
    "sys.path.insert(0, \"../\")\n",
    "from manipulation_helpers.data_preparation import ManipulationDataset, markup_conll, encode_tags, get_connections, Markup, read_markup"
   ]
  },
  {
   "cell_type": "markdown",
   "metadata": {
    "id": "x57ER_-VBB9s"
   },
   "source": [
    "## Data processing"
   ]
  },
  {
   "cell_type": "markdown",
   "metadata": {
    "id": "XW8nkzyeHOib"
   },
   "source": [
    "### .tsv -> markup"
   ]
  },
  {
   "cell_type": "code",
   "execution_count": 4,
   "metadata": {
    "colab": {
     "base_uri": "https://localhost:8080/"
    },
    "id": "8XgzfEweP5E7",
    "outputId": "e9103369-bc46-40c3-d10b-318d9b29585c"
   },
   "outputs": [
    {
     "name": "stdout",
     "output_type": "stream",
     "text": [
      "Всего разметок: 1883\n"
     ]
    }
   ],
   "source": [
    "# Путь до разметки\n",
    "PATH_TO_MARKUP = '../../data/assignments_from_pool_1115675__03-10-2022.tsv'\n",
    "markup = read_markup(PATH_TO_MARKUP)\n",
    "print(\"Всего разметок:\", len(markup))"
   ]
  },
  {
   "cell_type": "code",
   "execution_count": 5,
   "metadata": {},
   "outputs": [
    {
     "data": {
      "text/plain": [
       "[{'class_name': 'Прием маскировки под ссылку на авторитет (деавторизация)',\n",
       "  'text': 'Переговоры лидеров',\n",
       "  'start': 0,\n",
       "  'end': 19,\n",
       "  'manipulation_target_id': 'no-entity',\n",
       "  'manipulation_target_text': 'Сущность не названа в тексте'},\n",
       " {'class_name': 'Прием маскировки под ссылку на авторитет (деавторизация)',\n",
       "  'text': 'Пекине - Лавров*',\n",
       "  'start': 158,\n",
       "  'end': 175,\n",
       "  'manipulation_target_id': '5',\n",
       "  'manipulation_target_text': '6. пекине-лавров'}]"
      ]
     },
     "execution_count": 5,
     "metadata": {},
     "output_type": "execute_result"
    }
   ],
   "source": [
    "markup[\"output_result\"].iloc[0]"
   ]
  },
  {
   "cell_type": "code",
   "execution_count": 6,
   "metadata": {},
   "outputs": [
    {
     "data": {
      "text/plain": [
       "[{'name': 'россия', 'from': 19, 'to': 25},\n",
       " {'name': 'китай', 'from': 28, 'to': 33},\n",
       " {'name': 'пекин', 'from': 56, 'to': 62},\n",
       " {'name': 'рф', 'from': 83, 'to': 85},\n",
       " {'name': 'кнр', 'from': 88, 'to': 91},\n",
       " {'name': 'пекине-лавров', 'from': 114, 'to': 129}]"
      ]
     },
     "execution_count": 6,
     "metadata": {},
     "output_type": "execute_result"
    }
   ],
   "source": [
    "markup[\"input_entitiesdata\"].iloc[0]"
   ]
  },
  {
   "cell_type": "code",
   "execution_count": 7,
   "metadata": {},
   "outputs": [
    {
     "data": {
      "text/html": [
       "<div>\n",
       "<style scoped>\n",
       "    .dataframe tbody tr th:only-of-type {\n",
       "        vertical-align: middle;\n",
       "    }\n",
       "\n",
       "    .dataframe tbody tr th {\n",
       "        vertical-align: top;\n",
       "    }\n",
       "\n",
       "    .dataframe thead th {\n",
       "        text-align: right;\n",
       "    }\n",
       "</style>\n",
       "<table border=\"1\" class=\"dataframe\">\n",
       "  <thead>\n",
       "    <tr style=\"text-align: right;\">\n",
       "      <th></th>\n",
       "      <th>input_input</th>\n",
       "      <th>input_document_id</th>\n",
       "      <th>input_entitiesdata</th>\n",
       "      <th>output_result</th>\n",
       "      <th>output_document_id</th>\n",
       "      <th>output_text_review_mode</th>\n",
       "      <th>golden_result</th>\n",
       "      <th>golden_document_id</th>\n",
       "      <th>golden_text_review_mode</th>\n",
       "      <th>hint_text</th>\n",
       "      <th>hint_default_language</th>\n",
       "      <th>assignment_link</th>\n",
       "      <th>assignment_task_id</th>\n",
       "      <th>assignment_assignment_id</th>\n",
       "      <th>assignment_worker_id</th>\n",
       "      <th>assignment_status</th>\n",
       "      <th>assignment_started</th>\n",
       "    </tr>\n",
       "  </thead>\n",
       "  <tbody>\n",
       "    <tr>\n",
       "      <th>0</th>\n",
       "      <td>Переговоры лидеров России и Китая состоятся 4 ...</td>\n",
       "      <td>05c3dbcf-e721-3609-b05a-dcd5b5d1e444</td>\n",
       "      <td>[{'name': 'россия', 'from': 19, 'to': 25}, {'n...</td>\n",
       "      <td>[{'class_name': 'Прием маскировки под ссылку н...</td>\n",
       "      <td>05c3dbcf-e721-3609-b05a-dcd5b5d1e444</td>\n",
       "      <td>{\"class\":\"text__selected\"\\,\"textInputClasses\":...</td>\n",
       "      <td>NaN</td>\n",
       "      <td>NaN</td>\n",
       "      <td>NaN</td>\n",
       "      <td>NaN</td>\n",
       "      <td>NaN</td>\n",
       "      <td>https://sandbox.toloka.yandex.com/task/1115675...</td>\n",
       "      <td>c4b7444c-c5d8-4103-9e59-0aa545c2d230</td>\n",
       "      <td>000011061b--621dd95a614c2310d60d0973</td>\n",
       "      <td>58a52b1b5e173593bc52fbdfe9042122</td>\n",
       "      <td>APPROVED</td>\n",
       "      <td>2022-03-01T08:29:14.268</td>\n",
       "    </tr>\n",
       "  </tbody>\n",
       "</table>\n",
       "</div>"
      ],
      "text/plain": [
       "                                         input_input  \\\n",
       "0  Переговоры лидеров России и Китая состоятся 4 ...   \n",
       "\n",
       "                      input_document_id  \\\n",
       "0  05c3dbcf-e721-3609-b05a-dcd5b5d1e444   \n",
       "\n",
       "                                  input_entitiesdata  \\\n",
       "0  [{'name': 'россия', 'from': 19, 'to': 25}, {'n...   \n",
       "\n",
       "                                       output_result  \\\n",
       "0  [{'class_name': 'Прием маскировки под ссылку н...   \n",
       "\n",
       "                     output_document_id  \\\n",
       "0  05c3dbcf-e721-3609-b05a-dcd5b5d1e444   \n",
       "\n",
       "                             output_text_review_mode  golden_result  \\\n",
       "0  {\"class\":\"text__selected\"\\,\"textInputClasses\":...            NaN   \n",
       "\n",
       "   golden_document_id  golden_text_review_mode  hint_text  \\\n",
       "0                 NaN                      NaN        NaN   \n",
       "\n",
       "   hint_default_language                                    assignment_link  \\\n",
       "0                    NaN  https://sandbox.toloka.yandex.com/task/1115675...   \n",
       "\n",
       "                     assignment_task_id              assignment_assignment_id  \\\n",
       "0  c4b7444c-c5d8-4103-9e59-0aa545c2d230  000011061b--621dd95a614c2310d60d0973   \n",
       "\n",
       "               assignment_worker_id assignment_status       assignment_started  \n",
       "0  58a52b1b5e173593bc52fbdfe9042122          APPROVED  2022-03-01T08:29:14.268  "
      ]
     },
     "execution_count": 7,
     "metadata": {},
     "output_type": "execute_result"
    }
   ],
   "source": [
    "markup.head(1)"
   ]
  },
  {
   "cell_type": "markdown",
   "metadata": {
    "id": "HS_8n7ncBdzO"
   },
   "source": [
    "### markup -> list"
   ]
  },
  {
   "cell_type": "markdown",
   "metadata": {
    "id": "QqgG1NZLFXm1"
   },
   "source": [
    "Приводим данные к формату conll:"
   ]
  },
  {
   "cell_type": "code",
   "execution_count": 8,
   "metadata": {},
   "outputs": [
    {
     "data": {
      "text/plain": [
       "(['Переговоры',\n",
       "  'лидеров',\n",
       "  'России',\n",
       "  'и',\n",
       "  'Китая',\n",
       "  'состоятся',\n",
       "  '4',\n",
       "  'февраля',\n",
       "  'в',\n",
       "  'Пекине',\n",
       "  '.',\n",
       "  'Переговоры',\n",
       "  'лидеров',\n",
       "  'РФ',\n",
       "  'и',\n",
       "  'КНР',\n",
       "  'состоятся',\n",
       "  '4',\n",
       "  'февраля',\n",
       "  'в',\n",
       "  'Пекине',\n",
       "  '-',\n",
       "  'Лавров',\n",
       "  '.'],\n",
       " [Markup(manipulation_class='B-Прием_маскировки_под_ссылку_на_авторитет', manipulation_target=0, entity_id=0),\n",
       "  Markup(manipulation_class='I-Прием_маскировки_под_ссылку_на_авторитет', manipulation_target=0, entity_id=0),\n",
       "  Markup(manipulation_class='O', manipulation_target=0, entity_id=1),\n",
       "  Markup(manipulation_class='O', manipulation_target=0, entity_id=0),\n",
       "  Markup(manipulation_class='O', manipulation_target=0, entity_id=2),\n",
       "  Markup(manipulation_class='O', manipulation_target=0, entity_id=0),\n",
       "  Markup(manipulation_class='O', manipulation_target=0, entity_id=0),\n",
       "  Markup(manipulation_class='O', manipulation_target=0, entity_id=0),\n",
       "  Markup(manipulation_class='O', manipulation_target=0, entity_id=0),\n",
       "  Markup(manipulation_class='O', manipulation_target=0, entity_id=3),\n",
       "  Markup(manipulation_class='O', manipulation_target=0, entity_id=0),\n",
       "  Markup(manipulation_class='O', manipulation_target=0, entity_id=0),\n",
       "  Markup(manipulation_class='O', manipulation_target=0, entity_id=0),\n",
       "  Markup(manipulation_class='O', manipulation_target=0, entity_id=4),\n",
       "  Markup(manipulation_class='O', manipulation_target=0, entity_id=0),\n",
       "  Markup(manipulation_class='O', manipulation_target=0, entity_id=5),\n",
       "  Markup(manipulation_class='O', manipulation_target=0, entity_id=0),\n",
       "  Markup(manipulation_class='O', manipulation_target=0, entity_id=0),\n",
       "  Markup(manipulation_class='O', manipulation_target=0, entity_id=0),\n",
       "  Markup(manipulation_class='O', manipulation_target=0, entity_id=0),\n",
       "  Markup(manipulation_class='B-Прием_маскировки_под_ссылку_на_авторитет', manipulation_target=5, entity_id=6),\n",
       "  Markup(manipulation_class='I-Прием_маскировки_под_ссылку_на_авторитет', manipulation_target=5, entity_id=6),\n",
       "  Markup(manipulation_class='I-Прием_маскировки_под_ссылку_на_авторитет', manipulation_target=5, entity_id=6),\n",
       "  Markup(manipulation_class='O', manipulation_target=0, entity_id=0)])"
      ]
     },
     "execution_count": 8,
     "metadata": {},
     "output_type": "execute_result"
    }
   ],
   "source": [
    "# пример работы фунции\n",
    "index = 0\n",
    "markup_conll(markup[\"input_input\"].iloc[index], markup[\"output_result\"].iloc[index], markup[\"input_entitiesdata\"].iloc[index])"
   ]
  },
  {
   "cell_type": "code",
   "execution_count": 9,
   "metadata": {},
   "outputs": [],
   "source": [
    "texts: List[str] = []\n",
    "markups: List[List[Markup]] = []\n",
    "for index, row in markup.iterrows():\n",
    "    text, row_markup = markup_conll(row[\"input_input\"], row[\"output_result\"], row[\"input_entitiesdata\"])\n",
    "\n",
    "    texts.append(text)\n",
    "    markups.append(row_markup)\n",
    "clear_output()"
   ]
  },
  {
   "cell_type": "code",
   "execution_count": 10,
   "metadata": {
    "id": "8NE1q4zV0iBN"
   },
   "outputs": [],
   "source": [
    "unique_tags = {x.manipulation_class for m in markups for x in m}\n",
    "tag2id = {tag: id for id, tag in enumerate(unique_tags)}\n",
    "id2tag = {id: tag for tag, id in tag2id.items()}"
   ]
  },
  {
   "cell_type": "code",
   "execution_count": 11,
   "metadata": {
    "id": "IfvINqAO0f-y"
   },
   "outputs": [],
   "source": [
    "train_texts, val_texts, train_markups, val_markups, train_ids, val_ids = train_test_split(texts, markups, range(len(texts)), test_size=.2, random_state=42)"
   ]
  },
  {
   "cell_type": "code",
   "execution_count": 12,
   "metadata": {},
   "outputs": [
    {
     "data": {
      "image/png": "[encoded data removed]",
      "text/plain": [
       "<Figure size 640x480 with 1 Axes>"
      ]
     },
     "metadata": {},
     "output_type": "display_data"
    }
   ],
   "source": [
    "plt.hist(list(map(len, train_texts)), bins=100)\n",
    "plt.grid()\n",
    "plt.show()"
   ]
  },
  {
   "cell_type": "markdown",
   "metadata": {
    "id": "hNxhWd_T1EtX"
   },
   "source": [
    "### Dataset & tokenization"
   ]
  },
  {
   "cell_type": "code",
   "execution_count": 13,
   "metadata": {},
   "outputs": [],
   "source": [
    "MODEL_NAME = \"cointegrated/rubert-tiny2\""
   ]
  },
  {
   "cell_type": "code",
   "execution_count": 14,
   "metadata": {
    "colab": {
     "base_uri": "https://localhost:8080/",
     "height": 145,
     "referenced_widgets": [
      "c7f8d8a485224936a1cacd30992ecfaf",
      "57fb6f35d7a348e9a2c6ba1faf29e958",
      "016fc8c503b54f189f957b669c71a26e",
      "8f61b032b2c247108bc9095704d98a7f",
      "3920af8f30984fd2a1cca7612a8d18e2",
      "400fa383d57c42fa99beacaec34620fb",
      "ed3c15a6454f4d859da9ddda5309ddc9",
      "0d3033340f8245fd8b7e8241d6e127e6",
      "0da8c5dea72d4fe78ae6dcff5c8e506f",
      "94aa186571084f13bba03cc1bd9a5eea",
      "21e24ac2f3d94626a677847689ddbd9a",
      "8eb91316d7404290994c0bd9501d0822",
      "0e92efa99ed743fa9818816d596652d6",
      "0449db57c1e145e098a091e9feefe221",
      "4102b9cf35524f9cbebd1a3e3f3e58d9",
      "5989838623394b6e8cba65cb8fd6a6ff",
      "d4b7eb4a7b0e4ad3a21cac7ef0a64e3d",
      "5a4dc2eee66c4285b2893dccf6925aa9",
      "52acebf3e896497aa8acf4150778b1b9",
      "870cc081f34743aaaf5c67c37b88a171",
      "090e5747605b46c9a629cdf2d9386227",
      "52ee1cce85244afe90d99eba4846338e",
      "f25133c0476d4285a73ff4d024f7299c",
      "b32c20ea00dd4e4a883d86d7c0f3960a",
      "511dc23755f34ff3a8fdca48cbc7adff",
      "0147b84e402c41fab361cf4ffd3bb981",
      "38cf6349c84d4a9888a17b0fd50f5c6b",
      "527404036dc44d948e0f48d3eae26639",
      "f576ba8868e64edfa07ee44b4570fec7",
      "b53397011aaa45c696975f0be1649e46",
      "34cd48e8cd6a466d8004521218b868f1",
      "7267b1022fe64b52b328e9e1191ae49c",
      "6c23ac409c084146a4824b6a3db710b8",
      "d5ec30e7ed564fe28b1ce146f6dafe88",
      "b001ac3cd94b4c9490bdd2b60ede2002",
      "8ee062f75c1346138ce6d1a87e53916d",
      "ce458b402a6048378191019fe67fa1ed",
      "e90d9ff82d54475c80fbc0d4b9d40d8a",
      "0f32089159e048ffbed3a94c819c498d",
      "60ee1d72ecd14f92b84a0d2a00bc6b3f",
      "a6e8344e7e9f4074a42703198d673ce8",
      "f78df426e48a45c287ffdfacb465deb0",
      "0b4c30ddb811414c8dfc2bf865c69c4c",
      "64bbb46587c748028429921cab1cfc89"
     ]
    },
    "id": "K9nNS6Ij1Cg2",
    "outputId": "c0a91487-3492-4577-8d30-4f74583f746c"
   },
   "outputs": [],
   "source": [
    "from transformers import BertTokenizerFast\n",
    "tokenizer = BertTokenizerFast.from_pretrained(MODEL_NAME)#, local_files_only=True)\n",
    "train_encodings = tokenizer(train_texts, is_split_into_words=True, return_offsets_mapping=True, padding=True, truncation=True, max_length=512)\n",
    "val_encodings = tokenizer(val_texts, is_split_into_words=True, return_offsets_mapping=True, padding=True, truncation=True, max_length=512)"
   ]
  },
  {
   "cell_type": "code",
   "execution_count": 15,
   "metadata": {
    "colab": {
     "base_uri": "https://localhost:8080/"
    },
    "id": "PqWzN5kj3QIo",
    "outputId": "33694bfe-6e26-4f79-a473-d665ff274d89"
   },
   "outputs": [],
   "source": [
    "train_labels = encode_tags(train_markups, train_encodings, \"manipulation_class\", tag2id=tag2id)\n",
    "val_labels = encode_tags(val_markups, val_encodings, \"manipulation_class\", tag2id=tag2id)\n",
    "\n",
    "train_entities = encode_tags(train_markups, train_encodings, \"entity_id\")\n",
    "val_entities = encode_tags(val_markups, val_encodings, \"entity_id\")\n",
    "\n",
    "train_manipulation_targets = encode_tags(train_markups, train_encodings, \"manipulation_target\")\n",
    "val_manipulation_targets = encode_tags(val_markups, val_encodings, \"manipulation_target\")"
   ]
  },
  {
   "cell_type": "code",
   "execution_count": 16,
   "metadata": {
    "id": "GziQKMnrNvDP"
   },
   "outputs": [],
   "source": [
    "train_connections, train_connections_ans = get_connections(train_entities, train_manipulation_targets)\n",
    "val_connections, val_connections_ans = get_connections(val_entities, val_manipulation_targets)"
   ]
  },
  {
   "cell_type": "code",
   "execution_count": 17,
   "metadata": {
    "colab": {
     "base_uri": "https://localhost:8080/"
    },
    "id": "TtCG6jgVGsUc",
    "outputId": "6c18572d-988a-44c1-8f9f-97def24a76a2"
   },
   "outputs": [
    {
     "data": {
      "text/plain": [
       "(1506, 1506)"
      ]
     },
     "execution_count": 17,
     "metadata": {},
     "output_type": "execute_result"
    }
   ],
   "source": [
    "len(train_encodings['input_ids']), len(train_labels)"
   ]
  },
  {
   "cell_type": "code",
   "execution_count": 40,
   "metadata": {
    "id": "VppXxBUQ3Qdy"
   },
   "outputs": [],
   "source": [
    "import torch\n",
    "from torch.utils.data import DataLoader\n",
    "\n",
    "train_dataset = ManipulationDataset(train_encodings, train_labels, train_connections, train_connections_ans)\n",
    "val_dataset = ManipulationDataset(val_encodings, val_labels, val_connections, val_connections_ans)\n",
    "train_loader = DataLoader(train_dataset, batch_size=8)\n",
    "val_loader = DataLoader(val_dataset, batch_size=8)"
   ]
  },
  {
   "cell_type": "code",
   "execution_count": 41,
   "metadata": {
    "id": "RutybSbw6kkj"
   },
   "outputs": [],
   "source": [
    "input_ids, attention_mask, labels, connection_matrix = train_dataset[303]"
   ]
  },
  {
   "cell_type": "code",
   "execution_count": 42,
   "metadata": {},
   "outputs": [
    {
     "name": "stdout",
     "output_type": "stream",
     "text": [
      "tensor([0, 1, 0, 0, 0, 0, 0, 0, 0, 0, 0, 0, 0, 0, 0, 0, 0, 0, 0, 1, 0, 0])\n"
     ]
    },
    {
     "data": {
      "text/plain": [
       "<matplotlib.image.AxesImage at 0x2a72dd49510>"
      ]
     },
     "execution_count": 42,
     "metadata": {},
     "output_type": "execute_result"
    },
    {
     "data": {
      "image/png": "[encoded data removed]",
      "text/plain": [
       "<Figure size 640x480 with 1 Axes>"
      ]
     },
     "metadata": {},
     "output_type": "display_data"
    }
   ],
   "source": [
    "print(connections_ans)\n",
    "plt.imshow(connection_matrix)"
   ]
  },
  {
   "cell_type": "markdown",
   "metadata": {
    "id": "ahxzHvkGBIPw"
   },
   "source": [
    "## Model pipeline"
   ]
  },
  {
   "cell_type": "markdown",
   "metadata": {
    "id": "Aainm0OrF6-Y"
   },
   "source": [
    "### Pytorch Model"
   ]
  },
  {
   "cell_type": "markdown",
   "metadata": {
    "id": "lNxzpZAGgK4m"
   },
   "source": [
    "![image.png](data:image/png;base64,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)"
   ]
  },
  {
   "cell_type": "code",
   "execution_count": 49,
   "metadata": {
    "id": "d22vgoMfxbES"
   },
   "outputs": [],
   "source": [
    "from torch import nn\n",
    "from transformers import AutoModel\n",
    "from manipulation_helpers.models import ComplexModel"
   ]
  },
  {
   "cell_type": "markdown",
   "metadata": {
    "id": "1hck5MypEBG7"
   },
   "source": [
    "### Training"
   ]
  },
  {
   "cell_type": "code",
   "execution_count": 50,
   "metadata": {
    "colab": {
     "base_uri": "https://localhost:8080/"
    },
    "id": "_ItGoo0Mjf2Z",
    "outputId": "adb5a112-9cda-48d4-af5e-25fbc9281d90"
   },
   "outputs": [
    {
     "name": "stderr",
     "output_type": "stream",
     "text": [
      "Some weights of the model checkpoint at cointegrated/rubert-tiny2 were not used when initializing BertModel: ['cls.predictions.bias', 'cls.predictions.transform.LayerNorm.bias', 'cls.seq_relationship.bias', 'cls.predictions.transform.LayerNorm.weight', 'cls.predictions.decoder.weight', 'cls.predictions.decoder.bias', 'cls.predictions.transform.dense.weight', 'cls.seq_relationship.weight', 'cls.predictions.transform.dense.bias']\n",
      "- This IS expected if you are initializing BertModel from the checkpoint of a model trained on another task or with another architecture (e.g. initializing a BertForSequenceClassification model from a BertForPreTraining model).\n",
      "- This IS NOT expected if you are initializing BertModel from the checkpoint of a model that you expect to be exactly identical (initializing a BertForSequenceClassification model from a BertForSequenceClassification model).\n"
     ]
    }
   ],
   "source": [
    "model = ComplexModel(MODEL_NAME)"
   ]
  },
  {
   "cell_type": "code",
   "execution_count": 51,
   "metadata": {},
   "outputs": [
    {
     "name": "stderr",
     "output_type": "stream",
     "text": [
      "  8%|██████▊                                                                          | 16/189 [02:14<24:15,  8.41s/it]\n"
     ]
    },
    {
     "ename": "KeyboardInterrupt",
     "evalue": "",
     "output_type": "error",
     "traceback": [
      "\u001b[1;31m---------------------------------------------------------------------------\u001b[0m",
      "\u001b[1;31mKeyboardInterrupt\u001b[0m                         Traceback (most recent call last)",
      "Cell \u001b[1;32mIn[51], line 35\u001b[0m\n\u001b[0;32m     33\u001b[0m     epoch_con_loss\u001b[38;5;241m.\u001b[39mappend(loss2\u001b[38;5;241m.\u001b[39mitem())\n\u001b[0;32m     34\u001b[0m     loss \u001b[38;5;241m=\u001b[39m loss1 \u001b[38;5;241m+\u001b[39m loss2 \u001b[38;5;241m*\u001b[39m \u001b[38;5;241m3\u001b[39m\n\u001b[1;32m---> 35\u001b[0m     \u001b[43mloss\u001b[49m\u001b[38;5;241;43m.\u001b[39;49m\u001b[43mbackward\u001b[49m\u001b[43m(\u001b[49m\u001b[43m)\u001b[49m\n\u001b[0;32m     36\u001b[0m     optim\u001b[38;5;241m.\u001b[39mstep()\n\u001b[0;32m     37\u001b[0m train_man_losses\u001b[38;5;241m.\u001b[39mappend(np\u001b[38;5;241m.\u001b[39mmean(epoch_man_loss))\n",
      "File \u001b[1;32mE:\\anaconda\\envs\\manipulation\\lib\\site-packages\\torch\\_tensor.py:487\u001b[0m, in \u001b[0;36mTensor.backward\u001b[1;34m(self, gradient, retain_graph, create_graph, inputs)\u001b[0m\n\u001b[0;32m    477\u001b[0m \u001b[38;5;28;01mif\u001b[39;00m has_torch_function_unary(\u001b[38;5;28mself\u001b[39m):\n\u001b[0;32m    478\u001b[0m     \u001b[38;5;28;01mreturn\u001b[39;00m handle_torch_function(\n\u001b[0;32m    479\u001b[0m         Tensor\u001b[38;5;241m.\u001b[39mbackward,\n\u001b[0;32m    480\u001b[0m         (\u001b[38;5;28mself\u001b[39m,),\n\u001b[1;32m   (...)\u001b[0m\n\u001b[0;32m    485\u001b[0m         inputs\u001b[38;5;241m=\u001b[39minputs,\n\u001b[0;32m    486\u001b[0m     )\n\u001b[1;32m--> 487\u001b[0m \u001b[43mtorch\u001b[49m\u001b[38;5;241;43m.\u001b[39;49m\u001b[43mautograd\u001b[49m\u001b[38;5;241;43m.\u001b[39;49m\u001b[43mbackward\u001b[49m\u001b[43m(\u001b[49m\n\u001b[0;32m    488\u001b[0m \u001b[43m    \u001b[49m\u001b[38;5;28;43mself\u001b[39;49m\u001b[43m,\u001b[49m\u001b[43m \u001b[49m\u001b[43mgradient\u001b[49m\u001b[43m,\u001b[49m\u001b[43m \u001b[49m\u001b[43mretain_graph\u001b[49m\u001b[43m,\u001b[49m\u001b[43m \u001b[49m\u001b[43mcreate_graph\u001b[49m\u001b[43m,\u001b[49m\u001b[43m \u001b[49m\u001b[43minputs\u001b[49m\u001b[38;5;241;43m=\u001b[39;49m\u001b[43minputs\u001b[49m\n\u001b[0;32m    489\u001b[0m \u001b[43m\u001b[49m\u001b[43m)\u001b[49m\n",
      "File \u001b[1;32mE:\\anaconda\\envs\\manipulation\\lib\\site-packages\\torch\\autograd\\__init__.py:197\u001b[0m, in \u001b[0;36mbackward\u001b[1;34m(tensors, grad_tensors, retain_graph, create_graph, grad_variables, inputs)\u001b[0m\n\u001b[0;32m    192\u001b[0m     retain_graph \u001b[38;5;241m=\u001b[39m create_graph\n\u001b[0;32m    194\u001b[0m \u001b[38;5;66;03m# The reason we repeat same the comment below is that\u001b[39;00m\n\u001b[0;32m    195\u001b[0m \u001b[38;5;66;03m# some Python versions print out the first line of a multi-line function\u001b[39;00m\n\u001b[0;32m    196\u001b[0m \u001b[38;5;66;03m# calls in the traceback and some print out the last line\u001b[39;00m\n\u001b[1;32m--> 197\u001b[0m \u001b[43mVariable\u001b[49m\u001b[38;5;241;43m.\u001b[39;49m\u001b[43m_execution_engine\u001b[49m\u001b[38;5;241;43m.\u001b[39;49m\u001b[43mrun_backward\u001b[49m\u001b[43m(\u001b[49m\u001b[43m  \u001b[49m\u001b[38;5;66;43;03m# Calls into the C++ engine to run the backward pass\u001b[39;49;00m\n\u001b[0;32m    198\u001b[0m \u001b[43m    \u001b[49m\u001b[43mtensors\u001b[49m\u001b[43m,\u001b[49m\u001b[43m \u001b[49m\u001b[43mgrad_tensors_\u001b[49m\u001b[43m,\u001b[49m\u001b[43m \u001b[49m\u001b[43mretain_graph\u001b[49m\u001b[43m,\u001b[49m\u001b[43m \u001b[49m\u001b[43mcreate_graph\u001b[49m\u001b[43m,\u001b[49m\u001b[43m \u001b[49m\u001b[43minputs\u001b[49m\u001b[43m,\u001b[49m\n\u001b[0;32m    199\u001b[0m \u001b[43m    \u001b[49m\u001b[43mallow_unreachable\u001b[49m\u001b[38;5;241;43m=\u001b[39;49m\u001b[38;5;28;43;01mTrue\u001b[39;49;00m\u001b[43m,\u001b[49m\u001b[43m \u001b[49m\u001b[43maccumulate_grad\u001b[49m\u001b[38;5;241;43m=\u001b[39;49m\u001b[38;5;28;43;01mTrue\u001b[39;49;00m\u001b[43m)\u001b[49m\n",
      "\u001b[1;31mKeyboardInterrupt\u001b[0m: "
     ]
    }
   ],
   "source": [
    "from transformers import AdamW\n",
    "from tqdm import tqdm\n",
    "\n",
    "device = torch.device('cuda') if torch.cuda.is_available() else torch.device('cpu')\n",
    "\n",
    "model.to(device)\n",
    "model.train()\n",
    "accumulation_steps = 1\n",
    "empty_batches = []\n",
    "\n",
    "train_loader = DataLoader(train_dataset, batch_size=8, shuffle=True)\n",
    "\n",
    "optim = AdamW(model.parameters(), lr=5e-5)\n",
    "criterion_man = nn.CrossEntropyLoss(ignore_index=-100)\n",
    "criterion_con = nn.CrossEntropyLoss(ignore_index=-1)\n",
    "\n",
    "train_man_losses = []\n",
    "train_con_losses = []\n",
    "\n",
    "for epoch in range(1):\n",
    "    epoch_man_loss = []\n",
    "    epoch_con_loss = []\n",
    "    for input_ids, attention_mask, labels, connections_matrix in tqdm(train_loader):\n",
    "        optim.zero_grad()\n",
    "        input_ids = input_ids.to(device)\n",
    "        attention_mask = attention_mask.to(device)\n",
    "        labels = labels.to(device)\n",
    "        connections_matrix = connections_matrix.to(device)\n",
    "        manipulation_output, connection_output = model(input_ids, attention_mask=attention_mask)\n",
    "        loss1 = criterion_man(manipulation_output.reshape(-1, 37), labels.reshape(-1))\n",
    "        loss2 = criterion_con(connection_output.reshape(-1), connections_matrix.reshape(-1))\n",
    "        epoch_man_loss.append(loss1.item())\n",
    "        epoch_con_loss.append(loss2.item())\n",
    "        loss = loss1 + loss2 * 3\n",
    "        loss.backward()\n",
    "        optim.step()\n",
    "    train_man_losses.append(np.mean(epoch_man_loss))\n",
    "    train_con_losses.append(np.mean(epoch_con_loss))\n",
    "    print(f\"Epoch: {epoch}, Loss man: {train_man_losses[-1]}, Loss con: {train_con_losses[-1]}\")"
   ]
  },
  {
   "cell_type": "code",
   "execution_count": 47,
   "metadata": {},
   "outputs": [
    {
     "data": {
      "text/plain": [
       "device(type='cuda')"
      ]
     },
     "execution_count": 47,
     "metadata": {},
     "output_type": "execute_result"
    }
   ],
   "source": [
    "device"
   ]
  },
  {
   "cell_type": "markdown",
   "metadata": {
    "id": "ee16-8WJiykP"
   },
   "source": [
    "### Evaluation"
   ]
  },
  {
   "cell_type": "code",
   "execution_count": null,
   "metadata": {
    "colab": {
     "base_uri": "https://localhost:8080/"
    },
    "id": "NM07-wabjelc",
    "outputId": "0f8b970d-80e9-4707-ff22-cd5f2eb9e3f7"
   },
   "outputs": [],
   "source": [
    "model.eval()\n",
    "val_predict = []\n",
    "val_labels = []\n",
    "\n",
    "with torch.no_grad():\n",
    "    i = 0\n",
    "    for input_ids, attention_mask, labels, connections, connections_ans in train_loader:\n",
    "        input_ids = input_ids.to(device)\n",
    "        attention_mask = attention_mask.to(device)\n",
    "        connections = connections\n",
    "        labels = labels.to(device)\n",
    "        logits, con_logits = model(\n",
    "            input_ids=input_ids, \n",
    "            connections=connections, \n",
    "            attention_mask=attention_mask, \n",
    "            labels=labels)\n",
    "        # labels = labels.view(-1).to('cpu')\n",
    "        y_hats = logits.argmax(-1)\n",
    "        # val_predict.extend([x for x in y_hats[0]])\n",
    "        val_labels += labels.cpu().numpy().tolist()\n",
    "        val_predict += y_hats.cpu().numpy().tolist()"
   ]
  },
  {
   "cell_type": "code",
   "execution_count": null,
   "metadata": {},
   "outputs": [],
   "source": [
    "import numpy as np\n",
    "from datasets import load_metric\n",
    "\n",
    "metric = load_metric(\"seqeval\")\n",
    "\n",
    "def compute_metrics(predictions, labels):\n",
    "    # Remove ignored index (special tokens)\n",
    "    true_predictions = [\n",
    "        [id2tag[p] for (p, l) in zip(prediction, label) if l != -100]\n",
    "        for prediction, label in zip(predictions, labels)\n",
    "    ]\n",
    "    true_labels = [\n",
    "        [id2tag[l] for (p, l) in zip(prediction, label) if l != -100]\n",
    "        for prediction, label in zip(predictions, labels)\n",
    "    ]\n",
    "    results = metric.compute(predictions=true_predictions, references=true_labels)\n",
    "    return {\n",
    "        \"precision\": results[\"overall_precision\"],\n",
    "        \"recall\": results[\"overall_recall\"],\n",
    "        \"f1\": results[\"overall_f1\"],\n",
    "        \"accuracy\": results[\"overall_accuracy\"],\n",
    "    }"
   ]
  },
  {
   "cell_type": "code",
   "execution_count": null,
   "metadata": {},
   "outputs": [],
   "source": [
    "compute_metrics(val_predict, val_labels)"
   ]
  },
  {
   "cell_type": "code",
   "execution_count": null,
   "metadata": {},
   "outputs": [],
   "source": []
  }
 ],
 "metadata": {
  "colab": {
   "collapsed_sections": [
    "iy0eN0gYbQ18",
    "x57ER_-VBB9s",
    "XW8nkzyeHOib",
    "HS_8n7ncBdzO",
    "hNxhWd_T1EtX"
   ],
   "provenance": []
  },
  "gpuClass": "standard",
  "kernelspec": {
   "display_name": "Python 3",
   "language": "python",
   "name": "python3"
  },
  "language_info": {
   "codemirror_mode": {
    "name": "ipython",
    "version": 3
   },
   "file_extension": ".py",
   "mimetype": "text/x-python",
   "name": "python",
   "nbconvert_exporter": "python",
   "pygments_lexer": "ipython3",
   "version": "3.8.8 (tags/v3.8.8:024d805, Feb 19 2021, 13:18:16) [MSC v.1928 64 bit (AMD64)]"
  },
  "vscode": {
   "interpreter": {
    "hash": "f261383535a6e7abda10c30e3260dad396a2cb02ffb411dbc1ac78ad6ca0d946"
   }
  },
  "widgets": {
   "application/vnd.jupyter.widget-state+json": {
    "0147b84e402c41fab361cf4ffd3bb981": {
     "model_module": "@jupyter-widgets/controls",
     "model_module_version": "1.5.0",
     "model_name": "HTMLModel",
     "state": {
      "_dom_classes": [],
      "_model_module": "@jupyter-widgets/controls",
      "_model_module_version": "1.5.0",
      "_model_name": "HTMLModel",
      "_view_count": null,
      "_view_module": "@jupyter-widgets/controls",
      "_view_module_version": "1.5.0",
      "_view_name": "HTMLView",
      "description": "",
      "description_tooltip": null,
      "layout": "IPY_MODEL_7267b1022fe64b52b328e9e1191ae49c",
      "placeholder": "​",
      "style": "IPY_MODEL_6c23ac409c084146a4824b6a3db710b8",
      "value": " 112/112 [00:00&lt;00:00, 2.38kB/s]"
     }
    },
    "016fc8c503b54f189f957b669c71a26e": {
     "model_module": "@jupyter-widgets/controls",
     "model_module_version": "1.5.0",
     "model_name": "FloatProgressModel",
     "state": {
      "_dom_classes": [],
      "_model_module": "@jupyter-widgets/controls",
      "_model_module_version": "1.5.0",
      "_model_name": "FloatProgressModel",
      "_view_count": null,
      "_view_module": "@jupyter-widgets/controls",
      "_view_module_version": "1.5.0",
      "_view_name": "ProgressView",
      "bar_style": "success",
      "description": "",
      "description_tooltip": null,
      "layout": "IPY_MODEL_0d3033340f8245fd8b7e8241d6e127e6",
      "max": 24,
      "min": 0,
      "orientation": "horizontal",
      "style": "IPY_MODEL_0da8c5dea72d4fe78ae6dcff5c8e506f",
      "value": 24
     }
    },
    "0449db57c1e145e098a091e9feefe221": {
     "model_module": "@jupyter-widgets/controls",
     "model_module_version": "1.5.0",
     "model_name": "FloatProgressModel",
     "state": {
      "_dom_classes": [],
      "_model_module": "@jupyter-widgets/controls",
      "_model_module_version": "1.5.0",
      "_model_name": "FloatProgressModel",
      "_view_count": null,
      "_view_module": "@jupyter-widgets/controls",
      "_view_module_version": "1.5.0",
      "_view_name": "ProgressView",
      "bar_style": "success",
      "description": "",
      "description_tooltip": null,
      "layout": "IPY_MODEL_52acebf3e896497aa8acf4150778b1b9",
      "max": 1649718,
      "min": 0,
      "orientation": "horizontal",
      "style": "IPY_MODEL_870cc081f34743aaaf5c67c37b88a171",
      "value": 1649718
     }
    },
    "04add7f857ed40f9b9f77437e566135b": {
     "model_module": "@jupyter-widgets/base",
     "model_module_version": "1.2.0",
     "model_name": "LayoutModel",
     "state": {
      "_model_module": "@jupyter-widgets/base",
      "_model_module_version": "1.2.0",
      "_model_name": "LayoutModel",
      "_view_count": null,
      "_view_module": "@jupyter-widgets/base",
      "_view_module_version": "1.2.0",
      "_view_name": "LayoutView",
      "align_content": null,
      "align_items": null,
      "align_self": null,
      "border": null,
      "bottom": null,
      "display": null,
      "flex": null,
      "flex_flow": null,
      "grid_area": null,
      "grid_auto_columns": null,
      "grid_auto_flow": null,
      "grid_auto_rows": null,
      "grid_column": null,
      "grid_gap": null,
      "grid_row": null,
      "grid_template_areas": null,
      "grid_template_columns": null,
      "grid_template_rows": null,
      "height": null,
      "justify_content": null,
      "justify_items": null,
      "left": null,
      "margin": null,
      "max_height": null,
      "max_width": null,
      "min_height": null,
      "min_width": null,
      "object_fit": null,
      "object_position": null,
      "order": null,
      "overflow": null,
      "overflow_x": null,
      "overflow_y": null,
      "padding": null,
      "right": null,
      "top": null,
      "visibility": null,
      "width": null
     }
    },
    "090e5747605b46c9a629cdf2d9386227": {
     "model_module": "@jupyter-widgets/base",
     "model_module_version": "1.2.0",
     "model_name": "LayoutModel",
     "state": {
      "_model_module": "@jupyter-widgets/base",
      "_model_module_version": "1.2.0",
      "_model_name": "LayoutModel",
      "_view_count": null,
      "_view_module": "@jupyter-widgets/base",
      "_view_module_version": "1.2.0",
      "_view_name": "LayoutView",
      "align_content": null,
      "align_items": null,
      "align_self": null,
      "border": null,
      "bottom": null,
      "display": null,
      "flex": null,
      "flex_flow": null,
      "grid_area": null,
      "grid_auto_columns": null,
      "grid_auto_flow": null,
      "grid_auto_rows": null,
      "grid_column": null,
      "grid_gap": null,
      "grid_row": null,
      "grid_template_areas": null,
      "grid_template_columns": null,
      "grid_template_rows": null,
      "height": null,
      "justify_content": null,
      "justify_items": null,
      "left": null,
      "margin": null,
      "max_height": null,
      "max_width": null,
      "min_height": null,
      "min_width": null,
      "object_fit": null,
      "object_position": null,
      "order": null,
      "overflow": null,
      "overflow_x": null,
      "overflow_y": null,
      "padding": null,
      "right": null,
      "top": null,
      "visibility": null,
      "width": null
     }
    },
    "0b4c30ddb811414c8dfc2bf865c69c4c": {
     "model_module": "@jupyter-widgets/base",
     "model_module_version": "1.2.0",
     "model_name": "LayoutModel",
     "state": {
      "_model_module": "@jupyter-widgets/base",
      "_model_module_version": "1.2.0",
      "_model_name": "LayoutModel",
      "_view_count": null,
      "_view_module": "@jupyter-widgets/base",
      "_view_module_version": "1.2.0",
      "_view_name": "LayoutView",
      "align_content": null,
      "align_items": null,
      "align_self": null,
      "border": null,
      "bottom": null,
      "display": null,
      "flex": null,
      "flex_flow": null,
      "grid_area": null,
      "grid_auto_columns": null,
      "grid_auto_flow": null,
      "grid_auto_rows": null,
      "grid_column": null,
      "grid_gap": null,
      "grid_row": null,
      "grid_template_areas": null,
      "grid_template_columns": null,
      "grid_template_rows": null,
      "height": null,
      "justify_content": null,
      "justify_items": null,
      "left": null,
      "margin": null,
      "max_height": null,
      "max_width": null,
      "min_height": null,
      "min_width": null,
      "object_fit": null,
      "object_position": null,
      "order": null,
      "overflow": null,
      "overflow_x": null,
      "overflow_y": null,
      "padding": null,
      "right": null,
      "top": null,
      "visibility": null,
      "width": null
     }
    },
    "0d3033340f8245fd8b7e8241d6e127e6": {
     "model_module": "@jupyter-widgets/base",
     "model_module_version": "1.2.0",
     "model_name": "LayoutModel",
     "state": {
      "_model_module": "@jupyter-widgets/base",
      "_model_module_version": "1.2.0",
      "_model_name": "LayoutModel",
      "_view_count": null,
      "_view_module": "@jupyter-widgets/base",
      "_view_module_version": "1.2.0",
      "_view_name": "LayoutView",
      "align_content": null,
      "align_items": null,
      "align_self": null,
      "border": null,
      "bottom": null,
      "display": null,
      "flex": null,
      "flex_flow": null,
      "grid_area": null,
      "grid_auto_columns": null,
      "grid_auto_flow": null,
      "grid_auto_rows": null,
      "grid_column": null,
      "grid_gap": null,
      "grid_row": null,
      "grid_template_areas": null,
      "grid_template_columns": null,
      "grid_template_rows": null,
      "height": null,
      "justify_content": null,
      "justify_items": null,
      "left": null,
      "margin": null,
      "max_height": null,
      "max_width": null,
      "min_height": null,
      "min_width": null,
      "object_fit": null,
      "object_position": null,
      "order": null,
      "overflow": null,
      "overflow_x": null,
      "overflow_y": null,
      "padding": null,
      "right": null,
      "top": null,
      "visibility": null,
      "width": null
     }
    },
    "0da8c5dea72d4fe78ae6dcff5c8e506f": {
     "model_module": "@jupyter-widgets/controls",
     "model_module_version": "1.5.0",
     "model_name": "ProgressStyleModel",
     "state": {
      "_model_module": "@jupyter-widgets/controls",
      "_model_module_version": "1.5.0",
      "_model_name": "ProgressStyleModel",
      "_view_count": null,
      "_view_module": "@jupyter-widgets/base",
      "_view_module_version": "1.2.0",
      "_view_name": "StyleView",
      "bar_color": null,
      "description_width": ""
     }
    },
    "0e92efa99ed743fa9818816d596652d6": {
     "model_module": "@jupyter-widgets/controls",
     "model_module_version": "1.5.0",
     "model_name": "HTMLModel",
     "state": {
      "_dom_classes": [],
      "_model_module": "@jupyter-widgets/controls",
      "_model_module_version": "1.5.0",
      "_model_name": "HTMLModel",
      "_view_count": null,
      "_view_module": "@jupyter-widgets/controls",
      "_view_module_version": "1.5.0",
      "_view_name": "HTMLView",
      "description": "",
      "description_tooltip": null,
      "layout": "IPY_MODEL_d4b7eb4a7b0e4ad3a21cac7ef0a64e3d",
      "placeholder": "​",
      "style": "IPY_MODEL_5a4dc2eee66c4285b2893dccf6925aa9",
      "value": "Downloading: 100%"
     }
    },
    "0f32089159e048ffbed3a94c819c498d": {
     "model_module": "@jupyter-widgets/base",
     "model_module_version": "1.2.0",
     "model_name": "LayoutModel",
     "state": {
      "_model_module": "@jupyter-widgets/base",
      "_model_module_version": "1.2.0",
      "_model_name": "LayoutModel",
      "_view_count": null,
      "_view_module": "@jupyter-widgets/base",
      "_view_module_version": "1.2.0",
      "_view_name": "LayoutView",
      "align_content": null,
      "align_items": null,
      "align_self": null,
      "border": null,
      "bottom": null,
      "display": null,
      "flex": null,
      "flex_flow": null,
      "grid_area": null,
      "grid_auto_columns": null,
      "grid_auto_flow": null,
      "grid_auto_rows": null,
      "grid_column": null,
      "grid_gap": null,
      "grid_row": null,
      "grid_template_areas": null,
      "grid_template_columns": null,
      "grid_template_rows": null,
      "height": null,
      "justify_content": null,
      "justify_items": null,
      "left": null,
      "margin": null,
      "max_height": null,
      "max_width": null,
      "min_height": null,
      "min_width": null,
      "object_fit": null,
      "object_position": null,
      "order": null,
      "overflow": null,
      "overflow_x": null,
      "overflow_y": null,
      "padding": null,
      "right": null,
      "top": null,
      "visibility": null,
      "width": null
     }
    },
    "115cbc195fdb4b5488d3520f81539276": {
     "model_module": "@jupyter-widgets/base",
     "model_module_version": "1.2.0",
     "model_name": "LayoutModel",
     "state": {
      "_model_module": "@jupyter-widgets/base",
      "_model_module_version": "1.2.0",
      "_model_name": "LayoutModel",
      "_view_count": null,
      "_view_module": "@jupyter-widgets/base",
      "_view_module_version": "1.2.0",
      "_view_name": "LayoutView",
      "align_content": null,
      "align_items": null,
      "align_self": null,
      "border": null,
      "bottom": null,
      "display": null,
      "flex": null,
      "flex_flow": null,
      "grid_area": null,
      "grid_auto_columns": null,
      "grid_auto_flow": null,
      "grid_auto_rows": null,
      "grid_column": null,
      "grid_gap": null,
      "grid_row": null,
      "grid_template_areas": null,
      "grid_template_columns": null,
      "grid_template_rows": null,
      "height": null,
      "justify_content": null,
      "justify_items": null,
      "left": null,
      "margin": null,
      "max_height": null,
      "max_width": null,
      "min_height": null,
      "min_width": null,
      "object_fit": null,
      "object_position": null,
      "order": null,
      "overflow": null,
      "overflow_x": null,
      "overflow_y": null,
      "padding": null,
      "right": null,
      "top": null,
      "visibility": null,
      "width": null
     }
    },
    "21e24ac2f3d94626a677847689ddbd9a": {
     "model_module": "@jupyter-widgets/controls",
     "model_module_version": "1.5.0",
     "model_name": "DescriptionStyleModel",
     "state": {
      "_model_module": "@jupyter-widgets/controls",
      "_model_module_version": "1.5.0",
      "_model_name": "DescriptionStyleModel",
      "_view_count": null,
      "_view_module": "@jupyter-widgets/base",
      "_view_module_version": "1.2.0",
      "_view_name": "StyleView",
      "description_width": ""
     }
    },
    "2404962f262f49b592605798f4a6871d": {
     "model_module": "@jupyter-widgets/base",
     "model_module_version": "1.2.0",
     "model_name": "LayoutModel",
     "state": {
      "_model_module": "@jupyter-widgets/base",
      "_model_module_version": "1.2.0",
      "_model_name": "LayoutModel",
      "_view_count": null,
      "_view_module": "@jupyter-widgets/base",
      "_view_module_version": "1.2.0",
      "_view_name": "LayoutView",
      "align_content": null,
      "align_items": null,
      "align_self": null,
      "border": null,
      "bottom": null,
      "display": null,
      "flex": null,
      "flex_flow": null,
      "grid_area": null,
      "grid_auto_columns": null,
      "grid_auto_flow": null,
      "grid_auto_rows": null,
      "grid_column": null,
      "grid_gap": null,
      "grid_row": null,
      "grid_template_areas": null,
      "grid_template_columns": null,
      "grid_template_rows": null,
      "height": null,
      "justify_content": null,
      "justify_items": null,
      "left": null,
      "margin": null,
      "max_height": null,
      "max_width": null,
      "min_height": null,
      "min_width": null,
      "object_fit": null,
      "object_position": null,
      "order": null,
      "overflow": null,
      "overflow_x": null,
      "overflow_y": null,
      "padding": null,
      "right": null,
      "top": null,
      "visibility": null,
      "width": null
     }
    },
    "2b9e761fc4554aec9959d6b80e3b5bcd": {
     "model_module": "@jupyter-widgets/controls",
     "model_module_version": "1.5.0",
     "model_name": "DescriptionStyleModel",
     "state": {
      "_model_module": "@jupyter-widgets/controls",
      "_model_module_version": "1.5.0",
      "_model_name": "DescriptionStyleModel",
      "_view_count": null,
      "_view_module": "@jupyter-widgets/base",
      "_view_module_version": "1.2.0",
      "_view_name": "StyleView",
      "description_width": ""
     }
    },
    "34cd48e8cd6a466d8004521218b868f1": {
     "model_module": "@jupyter-widgets/controls",
     "model_module_version": "1.5.0",
     "model_name": "ProgressStyleModel",
     "state": {
      "_model_module": "@jupyter-widgets/controls",
      "_model_module_version": "1.5.0",
      "_model_name": "ProgressStyleModel",
      "_view_count": null,
      "_view_module": "@jupyter-widgets/base",
      "_view_module_version": "1.2.0",
      "_view_name": "StyleView",
      "bar_color": null,
      "description_width": ""
     }
    },
    "38cf6349c84d4a9888a17b0fd50f5c6b": {
     "model_module": "@jupyter-widgets/base",
     "model_module_version": "1.2.0",
     "model_name": "LayoutModel",
     "state": {
      "_model_module": "@jupyter-widgets/base",
      "_model_module_version": "1.2.0",
      "_model_name": "LayoutModel",
      "_view_count": null,
      "_view_module": "@jupyter-widgets/base",
      "_view_module_version": "1.2.0",
      "_view_name": "LayoutView",
      "align_content": null,
      "align_items": null,
      "align_self": null,
      "border": null,
      "bottom": null,
      "display": null,
      "flex": null,
      "flex_flow": null,
      "grid_area": null,
      "grid_auto_columns": null,
      "grid_auto_flow": null,
      "grid_auto_rows": null,
      "grid_column": null,
      "grid_gap": null,
      "grid_row": null,
      "grid_template_areas": null,
      "grid_template_columns": null,
      "grid_template_rows": null,
      "height": null,
      "justify_content": null,
      "justify_items": null,
      "left": null,
      "margin": null,
      "max_height": null,
      "max_width": null,
      "min_height": null,
      "min_width": null,
      "object_fit": null,
      "object_position": null,
      "order": null,
      "overflow": null,
      "overflow_x": null,
      "overflow_y": null,
      "padding": null,
      "right": null,
      "top": null,
      "visibility": null,
      "width": null
     }
    },
    "3920af8f30984fd2a1cca7612a8d18e2": {
     "model_module": "@jupyter-widgets/base",
     "model_module_version": "1.2.0",
     "model_name": "LayoutModel",
     "state": {
      "_model_module": "@jupyter-widgets/base",
      "_model_module_version": "1.2.0",
      "_model_name": "LayoutModel",
      "_view_count": null,
      "_view_module": "@jupyter-widgets/base",
      "_view_module_version": "1.2.0",
      "_view_name": "LayoutView",
      "align_content": null,
      "align_items": null,
      "align_self": null,
      "border": null,
      "bottom": null,
      "display": null,
      "flex": null,
      "flex_flow": null,
      "grid_area": null,
      "grid_auto_columns": null,
      "grid_auto_flow": null,
      "grid_auto_rows": null,
      "grid_column": null,
      "grid_gap": null,
      "grid_row": null,
      "grid_template_areas": null,
      "grid_template_columns": null,
      "grid_template_rows": null,
      "height": null,
      "justify_content": null,
      "justify_items": null,
      "left": null,
      "margin": null,
      "max_height": null,
      "max_width": null,
      "min_height": null,
      "min_width": null,
      "object_fit": null,
      "object_position": null,
      "order": null,
      "overflow": null,
      "overflow_x": null,
      "overflow_y": null,
      "padding": null,
      "right": null,
      "top": null,
      "visibility": null,
      "width": null
     }
    },
    "3c83861e6a2544ff811136181bd5aff5": {
     "model_module": "@jupyter-widgets/controls",
     "model_module_version": "1.5.0",
     "model_name": "HTMLModel",
     "state": {
      "_dom_classes": [],
      "_model_module": "@jupyter-widgets/controls",
      "_model_module_version": "1.5.0",
      "_model_name": "HTMLModel",
      "_view_count": null,
      "_view_module": "@jupyter-widgets/controls",
      "_view_module_version": "1.5.0",
      "_view_name": "HTMLView",
      "description": "",
      "description_tooltip": null,
      "layout": "IPY_MODEL_99039ffc7a56495d9f9ddd2a6335c7f5",
      "placeholder": "​",
      "style": "IPY_MODEL_accce3de1a6d4ee18732e389bc784f95",
      "value": ""
     }
    },
    "400fa383d57c42fa99beacaec34620fb": {
     "model_module": "@jupyter-widgets/base",
     "model_module_version": "1.2.0",
     "model_name": "LayoutModel",
     "state": {
      "_model_module": "@jupyter-widgets/base",
      "_model_module_version": "1.2.0",
      "_model_name": "LayoutModel",
      "_view_count": null,
      "_view_module": "@jupyter-widgets/base",
      "_view_module_version": "1.2.0",
      "_view_name": "LayoutView",
      "align_content": null,
      "align_items": null,
      "align_self": null,
      "border": null,
      "bottom": null,
      "display": null,
      "flex": null,
      "flex_flow": null,
      "grid_area": null,
      "grid_auto_columns": null,
      "grid_auto_flow": null,
      "grid_auto_rows": null,
      "grid_column": null,
      "grid_gap": null,
      "grid_row": null,
      "grid_template_areas": null,
      "grid_template_columns": null,
      "grid_template_rows": null,
      "height": null,
      "justify_content": null,
      "justify_items": null,
      "left": null,
      "margin": null,
      "max_height": null,
      "max_width": null,
      "min_height": null,
      "min_width": null,
      "object_fit": null,
      "object_position": null,
      "order": null,
      "overflow": null,
      "overflow_x": null,
      "overflow_y": null,
      "padding": null,
      "right": null,
      "top": null,
      "visibility": null,
      "width": null
     }
    },
    "4102b9cf35524f9cbebd1a3e3f3e58d9": {
     "model_module": "@jupyter-widgets/controls",
     "model_module_version": "1.5.0",
     "model_name": "HTMLModel",
     "state": {
      "_dom_classes": [],
      "_model_module": "@jupyter-widgets/controls",
      "_model_module_version": "1.5.0",
      "_model_name": "HTMLModel",
      "_view_count": null,
      "_view_module": "@jupyter-widgets/controls",
      "_view_module_version": "1.5.0",
      "_view_name": "HTMLView",
      "description": "",
      "description_tooltip": null,
      "layout": "IPY_MODEL_090e5747605b46c9a629cdf2d9386227",
      "placeholder": "​",
      "style": "IPY_MODEL_52ee1cce85244afe90d99eba4846338e",
      "value": " 1.65M/1.65M [00:00&lt;00:00, 11.4MB/s]"
     }
    },
    "4819c9d7766a4d368f890b2c85411cb5": {
     "model_module": "@jupyter-widgets/controls",
     "model_module_version": "1.5.0",
     "model_name": "DescriptionStyleModel",
     "state": {
      "_model_module": "@jupyter-widgets/controls",
      "_model_module_version": "1.5.0",
      "_model_name": "DescriptionStyleModel",
      "_view_count": null,
      "_view_module": "@jupyter-widgets/base",
      "_view_module_version": "1.2.0",
      "_view_name": "StyleView",
      "description_width": ""
     }
    },
    "4d0ebb6920a341c0b21e13eb836b3da2": {
     "model_module": "@jupyter-widgets/controls",
     "model_module_version": "1.5.0",
     "model_name": "HBoxModel",
     "state": {
      "_dom_classes": [],
      "_model_module": "@jupyter-widgets/controls",
      "_model_module_version": "1.5.0",
      "_model_name": "HBoxModel",
      "_view_count": null,
      "_view_module": "@jupyter-widgets/controls",
      "_view_module_version": "1.5.0",
      "_view_name": "HBoxView",
      "box_style": "",
      "children": [
       "IPY_MODEL_c6f26a55dd0646edadf5cf3218d05c21",
       "IPY_MODEL_9d3f15faef3e4c8da84043c5442c5834",
       "IPY_MODEL_86ee73209cf1403aa50719f2229b538a"
      ],
      "layout": "IPY_MODEL_115cbc195fdb4b5488d3520f81539276"
     }
    },
    "511dc23755f34ff3a8fdca48cbc7adff": {
     "model_module": "@jupyter-widgets/controls",
     "model_module_version": "1.5.0",
     "model_name": "FloatProgressModel",
     "state": {
      "_dom_classes": [],
      "_model_module": "@jupyter-widgets/controls",
      "_model_module_version": "1.5.0",
      "_model_name": "FloatProgressModel",
      "_view_count": null,
      "_view_module": "@jupyter-widgets/controls",
      "_view_module_version": "1.5.0",
      "_view_name": "ProgressView",
      "bar_style": "success",
      "description": "",
      "description_tooltip": null,
      "layout": "IPY_MODEL_b53397011aaa45c696975f0be1649e46",
      "max": 112,
      "min": 0,
      "orientation": "horizontal",
      "style": "IPY_MODEL_34cd48e8cd6a466d8004521218b868f1",
      "value": 112
     }
    },
    "527404036dc44d948e0f48d3eae26639": {
     "model_module": "@jupyter-widgets/base",
     "model_module_version": "1.2.0",
     "model_name": "LayoutModel",
     "state": {
      "_model_module": "@jupyter-widgets/base",
      "_model_module_version": "1.2.0",
      "_model_name": "LayoutModel",
      "_view_count": null,
      "_view_module": "@jupyter-widgets/base",
      "_view_module_version": "1.2.0",
      "_view_name": "LayoutView",
      "align_content": null,
      "align_items": null,
      "align_self": null,
      "border": null,
      "bottom": null,
      "display": null,
      "flex": null,
      "flex_flow": null,
      "grid_area": null,
      "grid_auto_columns": null,
      "grid_auto_flow": null,
      "grid_auto_rows": null,
      "grid_column": null,
      "grid_gap": null,
      "grid_row": null,
      "grid_template_areas": null,
      "grid_template_columns": null,
      "grid_template_rows": null,
      "height": null,
      "justify_content": null,
      "justify_items": null,
      "left": null,
      "margin": null,
      "max_height": null,
      "max_width": null,
      "min_height": null,
      "min_width": null,
      "object_fit": null,
      "object_position": null,
      "order": null,
      "overflow": null,
      "overflow_x": null,
      "overflow_y": null,
      "padding": null,
      "right": null,
      "top": null,
      "visibility": null,
      "width": null
     }
    },
    "52acebf3e896497aa8acf4150778b1b9": {
     "model_module": "@jupyter-widgets/base",
     "model_module_version": "1.2.0",
     "model_name": "LayoutModel",
     "state": {
      "_model_module": "@jupyter-widgets/base",
      "_model_module_version": "1.2.0",
      "_model_name": "LayoutModel",
      "_view_count": null,
      "_view_module": "@jupyter-widgets/base",
      "_view_module_version": "1.2.0",
      "_view_name": "LayoutView",
      "align_content": null,
      "align_items": null,
      "align_self": null,
      "border": null,
      "bottom": null,
      "display": null,
      "flex": null,
      "flex_flow": null,
      "grid_area": null,
      "grid_auto_columns": null,
      "grid_auto_flow": null,
      "grid_auto_rows": null,
      "grid_column": null,
      "grid_gap": null,
      "grid_row": null,
      "grid_template_areas": null,
      "grid_template_columns": null,
      "grid_template_rows": null,
      "height": null,
      "justify_content": null,
      "justify_items": null,
      "left": null,
      "margin": null,
      "max_height": null,
      "max_width": null,
      "min_height": null,
      "min_width": null,
      "object_fit": null,
      "object_position": null,
      "order": null,
      "overflow": null,
      "overflow_x": null,
      "overflow_y": null,
      "padding": null,
      "right": null,
      "top": null,
      "visibility": null,
      "width": null
     }
    },
    "52ee1cce85244afe90d99eba4846338e": {
     "model_module": "@jupyter-widgets/controls",
     "model_module_version": "1.5.0",
     "model_name": "DescriptionStyleModel",
     "state": {
      "_model_module": "@jupyter-widgets/controls",
      "_model_module_version": "1.5.0",
      "_model_name": "DescriptionStyleModel",
      "_view_count": null,
      "_view_module": "@jupyter-widgets/base",
      "_view_module_version": "1.2.0",
      "_view_name": "StyleView",
      "description_width": ""
     }
    },
    "55694d78d0be4317a45c7b00438d12ff": {
     "model_module": "@jupyter-widgets/base",
     "model_module_version": "1.2.0",
     "model_name": "LayoutModel",
     "state": {
      "_model_module": "@jupyter-widgets/base",
      "_model_module_version": "1.2.0",
      "_model_name": "LayoutModel",
      "_view_count": null,
      "_view_module": "@jupyter-widgets/base",
      "_view_module_version": "1.2.0",
      "_view_name": "LayoutView",
      "align_content": null,
      "align_items": null,
      "align_self": null,
      "border": null,
      "bottom": null,
      "display": null,
      "flex": null,
      "flex_flow": null,
      "grid_area": null,
      "grid_auto_columns": null,
      "grid_auto_flow": null,
      "grid_auto_rows": null,
      "grid_column": null,
      "grid_gap": null,
      "grid_row": null,
      "grid_template_areas": null,
      "grid_template_columns": null,
      "grid_template_rows": null,
      "height": null,
      "justify_content": null,
      "justify_items": null,
      "left": null,
      "margin": null,
      "max_height": null,
      "max_width": null,
      "min_height": null,
      "min_width": null,
      "object_fit": null,
      "object_position": null,
      "order": null,
      "overflow": null,
      "overflow_x": null,
      "overflow_y": null,
      "padding": null,
      "right": null,
      "top": null,
      "visibility": null,
      "width": null
     }
    },
    "575827bed55548afb2cb8646a5c08c42": {
     "model_module": "@jupyter-widgets/base",
     "model_module_version": "1.2.0",
     "model_name": "LayoutModel",
     "state": {
      "_model_module": "@jupyter-widgets/base",
      "_model_module_version": "1.2.0",
      "_model_name": "LayoutModel",
      "_view_count": null,
      "_view_module": "@jupyter-widgets/base",
      "_view_module_version": "1.2.0",
      "_view_name": "LayoutView",
      "align_content": null,
      "align_items": null,
      "align_self": null,
      "border": null,
      "bottom": null,
      "display": null,
      "flex": null,
      "flex_flow": null,
      "grid_area": null,
      "grid_auto_columns": null,
      "grid_auto_flow": null,
      "grid_auto_rows": null,
      "grid_column": null,
      "grid_gap": null,
      "grid_row": null,
      "grid_template_areas": null,
      "grid_template_columns": null,
      "grid_template_rows": null,
      "height": null,
      "justify_content": null,
      "justify_items": null,
      "left": null,
      "margin": null,
      "max_height": null,
      "max_width": null,
      "min_height": null,
      "min_width": null,
      "object_fit": null,
      "object_position": null,
      "order": null,
      "overflow": null,
      "overflow_x": null,
      "overflow_y": null,
      "padding": null,
      "right": null,
      "top": null,
      "visibility": null,
      "width": null
     }
    },
    "57fb6f35d7a348e9a2c6ba1faf29e958": {
     "model_module": "@jupyter-widgets/controls",
     "model_module_version": "1.5.0",
     "model_name": "HTMLModel",
     "state": {
      "_dom_classes": [],
      "_model_module": "@jupyter-widgets/controls",
      "_model_module_version": "1.5.0",
      "_model_name": "HTMLModel",
      "_view_count": null,
      "_view_module": "@jupyter-widgets/controls",
      "_view_module_version": "1.5.0",
      "_view_name": "HTMLView",
      "description": "",
      "description_tooltip": null,
      "layout": "IPY_MODEL_400fa383d57c42fa99beacaec34620fb",
      "placeholder": "​",
      "style": "IPY_MODEL_ed3c15a6454f4d859da9ddda5309ddc9",
      "value": "Downloading: 100%"
     }
    },
    "5989838623394b6e8cba65cb8fd6a6ff": {
     "model_module": "@jupyter-widgets/base",
     "model_module_version": "1.2.0",
     "model_name": "LayoutModel",
     "state": {
      "_model_module": "@jupyter-widgets/base",
      "_model_module_version": "1.2.0",
      "_model_name": "LayoutModel",
      "_view_count": null,
      "_view_module": "@jupyter-widgets/base",
      "_view_module_version": "1.2.0",
      "_view_name": "LayoutView",
      "align_content": null,
      "align_items": null,
      "align_self": null,
      "border": null,
      "bottom": null,
      "display": null,
      "flex": null,
      "flex_flow": null,
      "grid_area": null,
      "grid_auto_columns": null,
      "grid_auto_flow": null,
      "grid_auto_rows": null,
      "grid_column": null,
      "grid_gap": null,
      "grid_row": null,
      "grid_template_areas": null,
      "grid_template_columns": null,
      "grid_template_rows": null,
      "height": null,
      "justify_content": null,
      "justify_items": null,
      "left": null,
      "margin": null,
      "max_height": null,
      "max_width": null,
      "min_height": null,
      "min_width": null,
      "object_fit": null,
      "object_position": null,
      "order": null,
      "overflow": null,
      "overflow_x": null,
      "overflow_y": null,
      "padding": null,
      "right": null,
      "top": null,
      "visibility": null,
      "width": null
     }
    },
    "5995b7b9019944b5bdeadb60c1892301": {
     "model_module": "@jupyter-widgets/base",
     "model_module_version": "1.2.0",
     "model_name": "LayoutModel",
     "state": {
      "_model_module": "@jupyter-widgets/base",
      "_model_module_version": "1.2.0",
      "_model_name": "LayoutModel",
      "_view_count": null,
      "_view_module": "@jupyter-widgets/base",
      "_view_module_version": "1.2.0",
      "_view_name": "LayoutView",
      "align_content": null,
      "align_items": null,
      "align_self": null,
      "border": null,
      "bottom": null,
      "display": null,
      "flex": null,
      "flex_flow": null,
      "grid_area": null,
      "grid_auto_columns": null,
      "grid_auto_flow": null,
      "grid_auto_rows": null,
      "grid_column": null,
      "grid_gap": null,
      "grid_row": null,
      "grid_template_areas": null,
      "grid_template_columns": null,
      "grid_template_rows": null,
      "height": null,
      "justify_content": null,
      "justify_items": null,
      "left": null,
      "margin": null,
      "max_height": null,
      "max_width": null,
      "min_height": null,
      "min_width": null,
      "object_fit": null,
      "object_position": null,
      "order": null,
      "overflow": null,
      "overflow_x": null,
      "overflow_y": null,
      "padding": null,
      "right": null,
      "top": null,
      "visibility": null,
      "width": null
     }
    },
    "5a4dc2eee66c4285b2893dccf6925aa9": {
     "model_module": "@jupyter-widgets/controls",
     "model_module_version": "1.5.0",
     "model_name": "DescriptionStyleModel",
     "state": {
      "_model_module": "@jupyter-widgets/controls",
      "_model_module_version": "1.5.0",
      "_model_name": "DescriptionStyleModel",
      "_view_count": null,
      "_view_module": "@jupyter-widgets/base",
      "_view_module_version": "1.2.0",
      "_view_name": "StyleView",
      "description_width": ""
     }
    },
    "5ae93387319247a1b110d54d25ae48a2": {
     "model_module": "@jupyter-widgets/controls",
     "model_module_version": "1.5.0",
     "model_name": "HTMLModel",
     "state": {
      "_dom_classes": [],
      "_model_module": "@jupyter-widgets/controls",
      "_model_module_version": "1.5.0",
      "_model_name": "HTMLModel",
      "_view_count": null,
      "_view_module": "@jupyter-widgets/controls",
      "_view_module_version": "1.5.0",
      "_view_name": "HTMLView",
      "description": "",
      "description_tooltip": null,
      "layout": "IPY_MODEL_2404962f262f49b592605798f4a6871d",
      "placeholder": "​",
      "style": "IPY_MODEL_2b9e761fc4554aec9959d6b80e3b5bcd",
      "value": " 0/0 [00:00&lt;?, ?it/s]"
     }
    },
    "60ee1d72ecd14f92b84a0d2a00bc6b3f": {
     "model_module": "@jupyter-widgets/controls",
     "model_module_version": "1.5.0",
     "model_name": "DescriptionStyleModel",
     "state": {
      "_model_module": "@jupyter-widgets/controls",
      "_model_module_version": "1.5.0",
      "_model_name": "DescriptionStyleModel",
      "_view_count": null,
      "_view_module": "@jupyter-widgets/base",
      "_view_module_version": "1.2.0",
      "_view_name": "StyleView",
      "description_width": ""
     }
    },
    "63edbe9f183a48828aa0b632ffc6f6e6": {
     "model_module": "@jupyter-widgets/base",
     "model_module_version": "1.2.0",
     "model_name": "LayoutModel",
     "state": {
      "_model_module": "@jupyter-widgets/base",
      "_model_module_version": "1.2.0",
      "_model_name": "LayoutModel",
      "_view_count": null,
      "_view_module": "@jupyter-widgets/base",
      "_view_module_version": "1.2.0",
      "_view_name": "LayoutView",
      "align_content": null,
      "align_items": null,
      "align_self": null,
      "border": null,
      "bottom": null,
      "display": null,
      "flex": null,
      "flex_flow": null,
      "grid_area": null,
      "grid_auto_columns": null,
      "grid_auto_flow": null,
      "grid_auto_rows": null,
      "grid_column": null,
      "grid_gap": null,
      "grid_row": null,
      "grid_template_areas": null,
      "grid_template_columns": null,
      "grid_template_rows": null,
      "height": null,
      "justify_content": null,
      "justify_items": null,
      "left": null,
      "margin": null,
      "max_height": null,
      "max_width": null,
      "min_height": null,
      "min_width": null,
      "object_fit": null,
      "object_position": null,
      "order": null,
      "overflow": null,
      "overflow_x": null,
      "overflow_y": null,
      "padding": null,
      "right": null,
      "top": null,
      "visibility": null,
      "width": "20px"
     }
    },
    "64bbb46587c748028429921cab1cfc89": {
     "model_module": "@jupyter-widgets/controls",
     "model_module_version": "1.5.0",
     "model_name": "DescriptionStyleModel",
     "state": {
      "_model_module": "@jupyter-widgets/controls",
      "_model_module_version": "1.5.0",
      "_model_name": "DescriptionStyleModel",
      "_view_count": null,
      "_view_module": "@jupyter-widgets/base",
      "_view_module_version": "1.2.0",
      "_view_name": "StyleView",
      "description_width": ""
     }
    },
    "6c23ac409c084146a4824b6a3db710b8": {
     "model_module": "@jupyter-widgets/controls",
     "model_module_version": "1.5.0",
     "model_name": "DescriptionStyleModel",
     "state": {
      "_model_module": "@jupyter-widgets/controls",
      "_model_module_version": "1.5.0",
      "_model_name": "DescriptionStyleModel",
      "_view_count": null,
      "_view_module": "@jupyter-widgets/base",
      "_view_module_version": "1.2.0",
      "_view_name": "StyleView",
      "description_width": ""
     }
    },
    "7267b1022fe64b52b328e9e1191ae49c": {
     "model_module": "@jupyter-widgets/base",
     "model_module_version": "1.2.0",
     "model_name": "LayoutModel",
     "state": {
      "_model_module": "@jupyter-widgets/base",
      "_model_module_version": "1.2.0",
      "_model_name": "LayoutModel",
      "_view_count": null,
      "_view_module": "@jupyter-widgets/base",
      "_view_module_version": "1.2.0",
      "_view_name": "LayoutView",
      "align_content": null,
      "align_items": null,
      "align_self": null,
      "border": null,
      "bottom": null,
      "display": null,
      "flex": null,
      "flex_flow": null,
      "grid_area": null,
      "grid_auto_columns": null,
      "grid_auto_flow": null,
      "grid_auto_rows": null,
      "grid_column": null,
      "grid_gap": null,
      "grid_row": null,
      "grid_template_areas": null,
      "grid_template_columns": null,
      "grid_template_rows": null,
      "height": null,
      "justify_content": null,
      "justify_items": null,
      "left": null,
      "margin": null,
      "max_height": null,
      "max_width": null,
      "min_height": null,
      "min_width": null,
      "object_fit": null,
      "object_position": null,
      "order": null,
      "overflow": null,
      "overflow_x": null,
      "overflow_y": null,
      "padding": null,
      "right": null,
      "top": null,
      "visibility": null,
      "width": null
     }
    },
    "86ee73209cf1403aa50719f2229b538a": {
     "model_module": "@jupyter-widgets/controls",
     "model_module_version": "1.5.0",
     "model_name": "HTMLModel",
     "state": {
      "_dom_classes": [],
      "_model_module": "@jupyter-widgets/controls",
      "_model_module_version": "1.5.0",
      "_model_name": "HTMLModel",
      "_view_count": null,
      "_view_module": "@jupyter-widgets/controls",
      "_view_module_version": "1.5.0",
      "_view_name": "HTMLView",
      "description": "",
      "description_tooltip": null,
      "layout": "IPY_MODEL_04add7f857ed40f9b9f77437e566135b",
      "placeholder": "​",
      "style": "IPY_MODEL_4819c9d7766a4d368f890b2c85411cb5",
      "value": " 681M/681M [00:30&lt;00:00, 50.2MB/s]"
     }
    },
    "870cc081f34743aaaf5c67c37b88a171": {
     "model_module": "@jupyter-widgets/controls",
     "model_module_version": "1.5.0",
     "model_name": "ProgressStyleModel",
     "state": {
      "_model_module": "@jupyter-widgets/controls",
      "_model_module_version": "1.5.0",
      "_model_name": "ProgressStyleModel",
      "_view_count": null,
      "_view_module": "@jupyter-widgets/base",
      "_view_module_version": "1.2.0",
      "_view_name": "StyleView",
      "bar_color": null,
      "description_width": ""
     }
    },
    "8eb91316d7404290994c0bd9501d0822": {
     "model_module": "@jupyter-widgets/controls",
     "model_module_version": "1.5.0",
     "model_name": "HBoxModel",
     "state": {
      "_dom_classes": [],
      "_model_module": "@jupyter-widgets/controls",
      "_model_module_version": "1.5.0",
      "_model_name": "HBoxModel",
      "_view_count": null,
      "_view_module": "@jupyter-widgets/controls",
      "_view_module_version": "1.5.0",
      "_view_name": "HBoxView",
      "box_style": "",
      "children": [
       "IPY_MODEL_0e92efa99ed743fa9818816d596652d6",
       "IPY_MODEL_0449db57c1e145e098a091e9feefe221",
       "IPY_MODEL_4102b9cf35524f9cbebd1a3e3f3e58d9"
      ],
      "layout": "IPY_MODEL_5989838623394b6e8cba65cb8fd6a6ff"
     }
    },
    "8ee062f75c1346138ce6d1a87e53916d": {
     "model_module": "@jupyter-widgets/controls",
     "model_module_version": "1.5.0",
     "model_name": "FloatProgressModel",
     "state": {
      "_dom_classes": [],
      "_model_module": "@jupyter-widgets/controls",
      "_model_module_version": "1.5.0",
      "_model_name": "FloatProgressModel",
      "_view_count": null,
      "_view_module": "@jupyter-widgets/controls",
      "_view_module_version": "1.5.0",
      "_view_name": "ProgressView",
      "bar_style": "success",
      "description": "",
      "description_tooltip": null,
      "layout": "IPY_MODEL_a6e8344e7e9f4074a42703198d673ce8",
      "max": 642,
      "min": 0,
      "orientation": "horizontal",
      "style": "IPY_MODEL_f78df426e48a45c287ffdfacb465deb0",
      "value": 642
     }
    },
    "8f61b032b2c247108bc9095704d98a7f": {
     "model_module": "@jupyter-widgets/controls",
     "model_module_version": "1.5.0",
     "model_name": "HTMLModel",
     "state": {
      "_dom_classes": [],
      "_model_module": "@jupyter-widgets/controls",
      "_model_module_version": "1.5.0",
      "_model_name": "HTMLModel",
      "_view_count": null,
      "_view_module": "@jupyter-widgets/controls",
      "_view_module_version": "1.5.0",
      "_view_name": "HTMLView",
      "description": "",
      "description_tooltip": null,
      "layout": "IPY_MODEL_94aa186571084f13bba03cc1bd9a5eea",
      "placeholder": "​",
      "style": "IPY_MODEL_21e24ac2f3d94626a677847689ddbd9a",
      "value": " 24.0/24.0 [00:00&lt;00:00, 675B/s]"
     }
    },
    "94aa186571084f13bba03cc1bd9a5eea": {
     "model_module": "@jupyter-widgets/base",
     "model_module_version": "1.2.0",
     "model_name": "LayoutModel",
     "state": {
      "_model_module": "@jupyter-widgets/base",
      "_model_module_version": "1.2.0",
      "_model_name": "LayoutModel",
      "_view_count": null,
      "_view_module": "@jupyter-widgets/base",
      "_view_module_version": "1.2.0",
      "_view_name": "LayoutView",
      "align_content": null,
      "align_items": null,
      "align_self": null,
      "border": null,
      "bottom": null,
      "display": null,
      "flex": null,
      "flex_flow": null,
      "grid_area": null,
      "grid_auto_columns": null,
      "grid_auto_flow": null,
      "grid_auto_rows": null,
      "grid_column": null,
      "grid_gap": null,
      "grid_row": null,
      "grid_template_areas": null,
      "grid_template_columns": null,
      "grid_template_rows": null,
      "height": null,
      "justify_content": null,
      "justify_items": null,
      "left": null,
      "margin": null,
      "max_height": null,
      "max_width": null,
      "min_height": null,
      "min_width": null,
      "object_fit": null,
      "object_position": null,
      "order": null,
      "overflow": null,
      "overflow_x": null,
      "overflow_y": null,
      "padding": null,
      "right": null,
      "top": null,
      "visibility": null,
      "width": null
     }
    },
    "95137ffb09814d6e8a374ad4a1091e79": {
     "model_module": "@jupyter-widgets/controls",
     "model_module_version": "1.5.0",
     "model_name": "HBoxModel",
     "state": {
      "_dom_classes": [],
      "_model_module": "@jupyter-widgets/controls",
      "_model_module_version": "1.5.0",
      "_model_name": "HBoxModel",
      "_view_count": null,
      "_view_module": "@jupyter-widgets/controls",
      "_view_module_version": "1.5.0",
      "_view_name": "HBoxView",
      "box_style": "",
      "children": [
       "IPY_MODEL_3c83861e6a2544ff811136181bd5aff5",
       "IPY_MODEL_9f51a27a30644bfaa5fa35c35b9b8a80",
       "IPY_MODEL_5ae93387319247a1b110d54d25ae48a2"
      ],
      "layout": "IPY_MODEL_5995b7b9019944b5bdeadb60c1892301"
     }
    },
    "99039ffc7a56495d9f9ddd2a6335c7f5": {
     "model_module": "@jupyter-widgets/base",
     "model_module_version": "1.2.0",
     "model_name": "LayoutModel",
     "state": {
      "_model_module": "@jupyter-widgets/base",
      "_model_module_version": "1.2.0",
      "_model_name": "LayoutModel",
      "_view_count": null,
      "_view_module": "@jupyter-widgets/base",
      "_view_module_version": "1.2.0",
      "_view_name": "LayoutView",
      "align_content": null,
      "align_items": null,
      "align_self": null,
      "border": null,
      "bottom": null,
      "display": null,
      "flex": null,
      "flex_flow": null,
      "grid_area": null,
      "grid_auto_columns": null,
      "grid_auto_flow": null,
      "grid_auto_rows": null,
      "grid_column": null,
      "grid_gap": null,
      "grid_row": null,
      "grid_template_areas": null,
      "grid_template_columns": null,
      "grid_template_rows": null,
      "height": null,
      "justify_content": null,
      "justify_items": null,
      "left": null,
      "margin": null,
      "max_height": null,
      "max_width": null,
      "min_height": null,
      "min_width": null,
      "object_fit": null,
      "object_position": null,
      "order": null,
      "overflow": null,
      "overflow_x": null,
      "overflow_y": null,
      "padding": null,
      "right": null,
      "top": null,
      "visibility": null,
      "width": null
     }
    },
    "9d3f15faef3e4c8da84043c5442c5834": {
     "model_module": "@jupyter-widgets/controls",
     "model_module_version": "1.5.0",
     "model_name": "FloatProgressModel",
     "state": {
      "_dom_classes": [],
      "_model_module": "@jupyter-widgets/controls",
      "_model_module_version": "1.5.0",
      "_model_name": "FloatProgressModel",
      "_view_count": null,
      "_view_module": "@jupyter-widgets/controls",
      "_view_module_version": "1.5.0",
      "_view_name": "ProgressView",
      "bar_style": "success",
      "description": "",
      "description_tooltip": null,
      "layout": "IPY_MODEL_55694d78d0be4317a45c7b00438d12ff",
      "max": 714355318,
      "min": 0,
      "orientation": "horizontal",
      "style": "IPY_MODEL_d281d45d498a4dcaaf48478e88d2feea",
      "value": 714355318
     }
    },
    "9f51a27a30644bfaa5fa35c35b9b8a80": {
     "model_module": "@jupyter-widgets/controls",
     "model_module_version": "1.5.0",
     "model_name": "FloatProgressModel",
     "state": {
      "_dom_classes": [],
      "_model_module": "@jupyter-widgets/controls",
      "_model_module_version": "1.5.0",
      "_model_name": "FloatProgressModel",
      "_view_count": null,
      "_view_module": "@jupyter-widgets/controls",
      "_view_module_version": "1.5.0",
      "_view_name": "ProgressView",
      "bar_style": "success",
      "description": "",
      "description_tooltip": null,
      "layout": "IPY_MODEL_63edbe9f183a48828aa0b632ffc6f6e6",
      "max": 1,
      "min": 0,
      "orientation": "horizontal",
      "style": "IPY_MODEL_d4ecacdaa4024af0a341779c742cebd8",
      "value": 0
     }
    },
    "a6e8344e7e9f4074a42703198d673ce8": {
     "model_module": "@jupyter-widgets/base",
     "model_module_version": "1.2.0",
     "model_name": "LayoutModel",
     "state": {
      "_model_module": "@jupyter-widgets/base",
      "_model_module_version": "1.2.0",
      "_model_name": "LayoutModel",
      "_view_count": null,
      "_view_module": "@jupyter-widgets/base",
      "_view_module_version": "1.2.0",
      "_view_name": "LayoutView",
      "align_content": null,
      "align_items": null,
      "align_self": null,
      "border": null,
      "bottom": null,
      "display": null,
      "flex": null,
      "flex_flow": null,
      "grid_area": null,
      "grid_auto_columns": null,
      "grid_auto_flow": null,
      "grid_auto_rows": null,
      "grid_column": null,
      "grid_gap": null,
      "grid_row": null,
      "grid_template_areas": null,
      "grid_template_columns": null,
      "grid_template_rows": null,
      "height": null,
      "justify_content": null,
      "justify_items": null,
      "left": null,
      "margin": null,
      "max_height": null,
      "max_width": null,
      "min_height": null,
      "min_width": null,
      "object_fit": null,
      "object_position": null,
      "order": null,
      "overflow": null,
      "overflow_x": null,
      "overflow_y": null,
      "padding": null,
      "right": null,
      "top": null,
      "visibility": null,
      "width": null
     }
    },
    "accce3de1a6d4ee18732e389bc784f95": {
     "model_module": "@jupyter-widgets/controls",
     "model_module_version": "1.5.0",
     "model_name": "DescriptionStyleModel",
     "state": {
      "_model_module": "@jupyter-widgets/controls",
      "_model_module_version": "1.5.0",
      "_model_name": "DescriptionStyleModel",
      "_view_count": null,
      "_view_module": "@jupyter-widgets/base",
      "_view_module_version": "1.2.0",
      "_view_name": "StyleView",
      "description_width": ""
     }
    },
    "b001ac3cd94b4c9490bdd2b60ede2002": {
     "model_module": "@jupyter-widgets/controls",
     "model_module_version": "1.5.0",
     "model_name": "HTMLModel",
     "state": {
      "_dom_classes": [],
      "_model_module": "@jupyter-widgets/controls",
      "_model_module_version": "1.5.0",
      "_model_name": "HTMLModel",
      "_view_count": null,
      "_view_module": "@jupyter-widgets/controls",
      "_view_module_version": "1.5.0",
      "_view_name": "HTMLView",
      "description": "",
      "description_tooltip": null,
      "layout": "IPY_MODEL_0f32089159e048ffbed3a94c819c498d",
      "placeholder": "​",
      "style": "IPY_MODEL_60ee1d72ecd14f92b84a0d2a00bc6b3f",
      "value": "Downloading: 100%"
     }
    },
    "b32c20ea00dd4e4a883d86d7c0f3960a": {
     "model_module": "@jupyter-widgets/controls",
     "model_module_version": "1.5.0",
     "model_name": "HTMLModel",
     "state": {
      "_dom_classes": [],
      "_model_module": "@jupyter-widgets/controls",
      "_model_module_version": "1.5.0",
      "_model_name": "HTMLModel",
      "_view_count": null,
      "_view_module": "@jupyter-widgets/controls",
      "_view_module_version": "1.5.0",
      "_view_name": "HTMLView",
      "description": "",
      "description_tooltip": null,
      "layout": "IPY_MODEL_527404036dc44d948e0f48d3eae26639",
      "placeholder": "​",
      "style": "IPY_MODEL_f576ba8868e64edfa07ee44b4570fec7",
      "value": "Downloading: 100%"
     }
    },
    "b53397011aaa45c696975f0be1649e46": {
     "model_module": "@jupyter-widgets/base",
     "model_module_version": "1.2.0",
     "model_name": "LayoutModel",
     "state": {
      "_model_module": "@jupyter-widgets/base",
      "_model_module_version": "1.2.0",
      "_model_name": "LayoutModel",
      "_view_count": null,
      "_view_module": "@jupyter-widgets/base",
      "_view_module_version": "1.2.0",
      "_view_name": "LayoutView",
      "align_content": null,
      "align_items": null,
      "align_self": null,
      "border": null,
      "bottom": null,
      "display": null,
      "flex": null,
      "flex_flow": null,
      "grid_area": null,
      "grid_auto_columns": null,
      "grid_auto_flow": null,
      "grid_auto_rows": null,
      "grid_column": null,
      "grid_gap": null,
      "grid_row": null,
      "grid_template_areas": null,
      "grid_template_columns": null,
      "grid_template_rows": null,
      "height": null,
      "justify_content": null,
      "justify_items": null,
      "left": null,
      "margin": null,
      "max_height": null,
      "max_width": null,
      "min_height": null,
      "min_width": null,
      "object_fit": null,
      "object_position": null,
      "order": null,
      "overflow": null,
      "overflow_x": null,
      "overflow_y": null,
      "padding": null,
      "right": null,
      "top": null,
      "visibility": null,
      "width": null
     }
    },
    "c6f26a55dd0646edadf5cf3218d05c21": {
     "model_module": "@jupyter-widgets/controls",
     "model_module_version": "1.5.0",
     "model_name": "HTMLModel",
     "state": {
      "_dom_classes": [],
      "_model_module": "@jupyter-widgets/controls",
      "_model_module_version": "1.5.0",
      "_model_name": "HTMLModel",
      "_view_count": null,
      "_view_module": "@jupyter-widgets/controls",
      "_view_module_version": "1.5.0",
      "_view_name": "HTMLView",
      "description": "",
      "description_tooltip": null,
      "layout": "IPY_MODEL_575827bed55548afb2cb8646a5c08c42",
      "placeholder": "​",
      "style": "IPY_MODEL_dd8da89ab45244d09c69a68fa9dc9425",
      "value": "Downloading pytorch_model.bin: 100%"
     }
    },
    "c7f8d8a485224936a1cacd30992ecfaf": {
     "model_module": "@jupyter-widgets/controls",
     "model_module_version": "1.5.0",
     "model_name": "HBoxModel",
     "state": {
      "_dom_classes": [],
      "_model_module": "@jupyter-widgets/controls",
      "_model_module_version": "1.5.0",
      "_model_name": "HBoxModel",
      "_view_count": null,
      "_view_module": "@jupyter-widgets/controls",
      "_view_module_version": "1.5.0",
      "_view_name": "HBoxView",
      "box_style": "",
      "children": [
       "IPY_MODEL_57fb6f35d7a348e9a2c6ba1faf29e958",
       "IPY_MODEL_016fc8c503b54f189f957b669c71a26e",
       "IPY_MODEL_8f61b032b2c247108bc9095704d98a7f"
      ],
      "layout": "IPY_MODEL_3920af8f30984fd2a1cca7612a8d18e2"
     }
    },
    "ce458b402a6048378191019fe67fa1ed": {
     "model_module": "@jupyter-widgets/controls",
     "model_module_version": "1.5.0",
     "model_name": "HTMLModel",
     "state": {
      "_dom_classes": [],
      "_model_module": "@jupyter-widgets/controls",
      "_model_module_version": "1.5.0",
      "_model_name": "HTMLModel",
      "_view_count": null,
      "_view_module": "@jupyter-widgets/controls",
      "_view_module_version": "1.5.0",
      "_view_name": "HTMLView",
      "description": "",
      "description_tooltip": null,
      "layout": "IPY_MODEL_0b4c30ddb811414c8dfc2bf865c69c4c",
      "placeholder": "​",
      "style": "IPY_MODEL_64bbb46587c748028429921cab1cfc89",
      "value": " 642/642 [00:00&lt;00:00, 14.8kB/s]"
     }
    },
    "d281d45d498a4dcaaf48478e88d2feea": {
     "model_module": "@jupyter-widgets/controls",
     "model_module_version": "1.5.0",
     "model_name": "ProgressStyleModel",
     "state": {
      "_model_module": "@jupyter-widgets/controls",
      "_model_module_version": "1.5.0",
      "_model_name": "ProgressStyleModel",
      "_view_count": null,
      "_view_module": "@jupyter-widgets/base",
      "_view_module_version": "1.2.0",
      "_view_name": "StyleView",
      "bar_color": null,
      "description_width": ""
     }
    },
    "d4b7eb4a7b0e4ad3a21cac7ef0a64e3d": {
     "model_module": "@jupyter-widgets/base",
     "model_module_version": "1.2.0",
     "model_name": "LayoutModel",
     "state": {
      "_model_module": "@jupyter-widgets/base",
      "_model_module_version": "1.2.0",
      "_model_name": "LayoutModel",
      "_view_count": null,
      "_view_module": "@jupyter-widgets/base",
      "_view_module_version": "1.2.0",
      "_view_name": "LayoutView",
      "align_content": null,
      "align_items": null,
      "align_self": null,
      "border": null,
      "bottom": null,
      "display": null,
      "flex": null,
      "flex_flow": null,
      "grid_area": null,
      "grid_auto_columns": null,
      "grid_auto_flow": null,
      "grid_auto_rows": null,
      "grid_column": null,
      "grid_gap": null,
      "grid_row": null,
      "grid_template_areas": null,
      "grid_template_columns": null,
      "grid_template_rows": null,
      "height": null,
      "justify_content": null,
      "justify_items": null,
      "left": null,
      "margin": null,
      "max_height": null,
      "max_width": null,
      "min_height": null,
      "min_width": null,
      "object_fit": null,
      "object_position": null,
      "order": null,
      "overflow": null,
      "overflow_x": null,
      "overflow_y": null,
      "padding": null,
      "right": null,
      "top": null,
      "visibility": null,
      "width": null
     }
    },
    "d4ecacdaa4024af0a341779c742cebd8": {
     "model_module": "@jupyter-widgets/controls",
     "model_module_version": "1.5.0",
     "model_name": "ProgressStyleModel",
     "state": {
      "_model_module": "@jupyter-widgets/controls",
      "_model_module_version": "1.5.0",
      "_model_name": "ProgressStyleModel",
      "_view_count": null,
      "_view_module": "@jupyter-widgets/base",
      "_view_module_version": "1.2.0",
      "_view_name": "StyleView",
      "bar_color": null,
      "description_width": ""
     }
    },
    "d5ec30e7ed564fe28b1ce146f6dafe88": {
     "model_module": "@jupyter-widgets/controls",
     "model_module_version": "1.5.0",
     "model_name": "HBoxModel",
     "state": {
      "_dom_classes": [],
      "_model_module": "@jupyter-widgets/controls",
      "_model_module_version": "1.5.0",
      "_model_name": "HBoxModel",
      "_view_count": null,
      "_view_module": "@jupyter-widgets/controls",
      "_view_module_version": "1.5.0",
      "_view_name": "HBoxView",
      "box_style": "",
      "children": [
       "IPY_MODEL_b001ac3cd94b4c9490bdd2b60ede2002",
       "IPY_MODEL_8ee062f75c1346138ce6d1a87e53916d",
       "IPY_MODEL_ce458b402a6048378191019fe67fa1ed"
      ],
      "layout": "IPY_MODEL_e90d9ff82d54475c80fbc0d4b9d40d8a"
     }
    },
    "dd8da89ab45244d09c69a68fa9dc9425": {
     "model_module": "@jupyter-widgets/controls",
     "model_module_version": "1.5.0",
     "model_name": "DescriptionStyleModel",
     "state": {
      "_model_module": "@jupyter-widgets/controls",
      "_model_module_version": "1.5.0",
      "_model_name": "DescriptionStyleModel",
      "_view_count": null,
      "_view_module": "@jupyter-widgets/base",
      "_view_module_version": "1.2.0",
      "_view_name": "StyleView",
      "description_width": ""
     }
    },
    "e90d9ff82d54475c80fbc0d4b9d40d8a": {
     "model_module": "@jupyter-widgets/base",
     "model_module_version": "1.2.0",
     "model_name": "LayoutModel",
     "state": {
      "_model_module": "@jupyter-widgets/base",
      "_model_module_version": "1.2.0",
      "_model_name": "LayoutModel",
      "_view_count": null,
      "_view_module": "@jupyter-widgets/base",
      "_view_module_version": "1.2.0",
      "_view_name": "LayoutView",
      "align_content": null,
      "align_items": null,
      "align_self": null,
      "border": null,
      "bottom": null,
      "display": null,
      "flex": null,
      "flex_flow": null,
      "grid_area": null,
      "grid_auto_columns": null,
      "grid_auto_flow": null,
      "grid_auto_rows": null,
      "grid_column": null,
      "grid_gap": null,
      "grid_row": null,
      "grid_template_areas": null,
      "grid_template_columns": null,
      "grid_template_rows": null,
      "height": null,
      "justify_content": null,
      "justify_items": null,
      "left": null,
      "margin": null,
      "max_height": null,
      "max_width": null,
      "min_height": null,
      "min_width": null,
      "object_fit": null,
      "object_position": null,
      "order": null,
      "overflow": null,
      "overflow_x": null,
      "overflow_y": null,
      "padding": null,
      "right": null,
      "top": null,
      "visibility": null,
      "width": null
     }
    },
    "ed3c15a6454f4d859da9ddda5309ddc9": {
     "model_module": "@jupyter-widgets/controls",
     "model_module_version": "1.5.0",
     "model_name": "DescriptionStyleModel",
     "state": {
      "_model_module": "@jupyter-widgets/controls",
      "_model_module_version": "1.5.0",
      "_model_name": "DescriptionStyleModel",
      "_view_count": null,
      "_view_module": "@jupyter-widgets/base",
      "_view_module_version": "1.2.0",
      "_view_name": "StyleView",
      "description_width": ""
     }
    },
    "f25133c0476d4285a73ff4d024f7299c": {
     "model_module": "@jupyter-widgets/controls",
     "model_module_version": "1.5.0",
     "model_name": "HBoxModel",
     "state": {
      "_dom_classes": [],
      "_model_module": "@jupyter-widgets/controls",
      "_model_module_version": "1.5.0",
      "_model_name": "HBoxModel",
      "_view_count": null,
      "_view_module": "@jupyter-widgets/controls",
      "_view_module_version": "1.5.0",
      "_view_name": "HBoxView",
      "box_style": "",
      "children": [
       "IPY_MODEL_b32c20ea00dd4e4a883d86d7c0f3960a",
       "IPY_MODEL_511dc23755f34ff3a8fdca48cbc7adff",
       "IPY_MODEL_0147b84e402c41fab361cf4ffd3bb981"
      ],
      "layout": "IPY_MODEL_38cf6349c84d4a9888a17b0fd50f5c6b"
     }
    },
    "f576ba8868e64edfa07ee44b4570fec7": {
     "model_module": "@jupyter-widgets/controls",
     "model_module_version": "1.5.0",
     "model_name": "DescriptionStyleModel",
     "state": {
      "_model_module": "@jupyter-widgets/controls",
      "_model_module_version": "1.5.0",
      "_model_name": "DescriptionStyleModel",
      "_view_count": null,
      "_view_module": "@jupyter-widgets/base",
      "_view_module_version": "1.2.0",
      "_view_name": "StyleView",
      "description_width": ""
     }
    },
    "f78df426e48a45c287ffdfacb465deb0": {
     "model_module": "@jupyter-widgets/controls",
     "model_module_version": "1.5.0",
     "model_name": "ProgressStyleModel",
     "state": {
      "_model_module": "@jupyter-widgets/controls",
      "_model_module_version": "1.5.0",
      "_model_name": "ProgressStyleModel",
      "_view_count": null,
      "_view_module": "@jupyter-widgets/base",
      "_view_module_version": "1.2.0",
      "_view_name": "StyleView",
      "bar_color": null,
      "description_width": ""
     }
    }
   }
  }
 },
 "nbformat": 4,
 "nbformat_minor": 1
}

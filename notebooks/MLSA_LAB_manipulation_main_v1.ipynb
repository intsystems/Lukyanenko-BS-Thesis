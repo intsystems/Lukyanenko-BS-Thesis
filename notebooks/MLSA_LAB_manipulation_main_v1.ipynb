{
 "cells": [
  {
   "cell_type": "markdown",
   "metadata": {
    "id": "iy0eN0gYbQ18"
   },
   "source": [
    "### Imports"
   ]
  },
  {
   "cell_type": "code",
   "execution_count": 1,
   "metadata": {
    "id": "ECffSCKybZLv"
   },
   "outputs": [
    {
     "ename": "OSError",
     "evalue": "[WinError 126] Не найден указанный модуль. Error loading \"E:\\anaconda\\envs\\manipulation\\lib\\site-packages\\torch\\lib\\shm.dll\" or one of its dependencies.",
     "output_type": "error",
     "traceback": [
      "\u001b[1;31m---------------------------------------------------------------------------\u001b[0m",
      "\u001b[1;31mOSError\u001b[0m                                   Traceback (most recent call last)",
      "Cell \u001b[1;32mIn[1], line 12\u001b[0m\n\u001b[0;32m     10\u001b[0m \u001b[38;5;28;01mimport\u001b[39;00m \u001b[38;5;21;01mnumpy\u001b[39;00m \u001b[38;5;28;01mas\u001b[39;00m \u001b[38;5;21;01mnp\u001b[39;00m\n\u001b[0;32m     11\u001b[0m \u001b[38;5;28;01mimport\u001b[39;00m \u001b[38;5;21;01mjson\u001b[39;00m\n\u001b[1;32m---> 12\u001b[0m \u001b[38;5;28;01mimport\u001b[39;00m \u001b[38;5;21;01mtorch\u001b[39;00m\n\u001b[0;32m     13\u001b[0m \u001b[38;5;28;01mimport\u001b[39;00m \u001b[38;5;21;01mpytorch_lightning\u001b[39;00m \u001b[38;5;28;01mas\u001b[39;00m \u001b[38;5;21;01mpl\u001b[39;00m\n\u001b[0;32m     14\u001b[0m \u001b[38;5;28;01mfrom\u001b[39;00m \u001b[38;5;21;01msklearn\u001b[39;00m\u001b[38;5;21;01m.\u001b[39;00m\u001b[38;5;21;01mmodel_selection\u001b[39;00m \u001b[38;5;28;01mimport\u001b[39;00m train_test_split\n",
      "File \u001b[1;32mE:\\anaconda\\envs\\manipulation\\lib\\site-packages\\torch\\__init__.py:139\u001b[0m\n\u001b[0;32m    137\u001b[0m                 err \u001b[38;5;241m=\u001b[39m ctypes\u001b[38;5;241m.\u001b[39mWinError(ctypes\u001b[38;5;241m.\u001b[39mget_last_error())\n\u001b[0;32m    138\u001b[0m                 err\u001b[38;5;241m.\u001b[39mstrerror \u001b[38;5;241m+\u001b[39m\u001b[38;5;241m=\u001b[39m \u001b[38;5;124mf\u001b[39m\u001b[38;5;124m'\u001b[39m\u001b[38;5;124m Error loading \u001b[39m\u001b[38;5;124m\"\u001b[39m\u001b[38;5;132;01m{\u001b[39;00mdll\u001b[38;5;132;01m}\u001b[39;00m\u001b[38;5;124m\"\u001b[39m\u001b[38;5;124m or one of its dependencies.\u001b[39m\u001b[38;5;124m'\u001b[39m\n\u001b[1;32m--> 139\u001b[0m                 \u001b[38;5;28;01mraise\u001b[39;00m err\n\u001b[0;32m    141\u001b[0m     kernel32\u001b[38;5;241m.\u001b[39mSetErrorMode(prev_error_mode)\n\u001b[0;32m    144\u001b[0m \u001b[38;5;66;03m# See Note [Global dependencies]\u001b[39;00m\n",
      "\u001b[1;31mOSError\u001b[0m: [WinError 126] Не найден указанный модуль. Error loading \"E:\\anaconda\\envs\\manipulation\\lib\\site-packages\\torch\\lib\\shm.dll\" or one of its dependencies."
     ]
    }
   ],
   "source": [
    "%load_ext autoreload\n",
    "%autoreload 2\n",
    "\n",
    "import sys\n",
    "from typing import List\n",
    "from datetime import datetime\n",
    "\n",
    "import matplotlib.pyplot as plt\n",
    "import pandas as pd\n",
    "import numpy as np\n",
    "import json\n",
    "import torch\n",
    "import pytorch_lightning as pl\n",
    "from sklearn.model_selection import train_test_split\n",
    "\n",
    "from src.manipulation_helpers.models import ManipulationTargetLightningModel\n",
    "from src.manipulation_helpers.data_preparation import markup_conll, encode_tags, Markup, \\\n",
    "                                                      read_markup, create_concat_data"
   ]
  },
  {
   "cell_type": "code",
   "execution_count": null,
   "metadata": {},
   "outputs": [],
   "source": [
    "from IPython.display import clear_output"
   ]
  },
  {
   "cell_type": "code",
   "execution_count": null,
   "metadata": {},
   "outputs": [],
   "source": [
    "str(datetime.now())"
   ]
  },
  {
   "cell_type": "markdown",
   "metadata": {
    "id": "x57ER_-VBB9s"
   },
   "source": [
    "## Data processing"
   ]
  },
  {
   "cell_type": "code",
   "execution_count": null,
   "metadata": {
    "colab": {
     "base_uri": "https://localhost:8080/"
    },
    "id": "ycEVKz7mg65M",
    "outputId": "93bd5b17-fc4f-4bd4-c54a-7e3364146899"
   },
   "outputs": [],
   "source": [
    "PATH_TO_MARKUP = \"data/markup_union_matched.json\"\n",
    "markup = pd.read_json(PATH_TO_MARKUP, lines=True)\n",
    "print(\"Всего разметок:\", len(markup))"
   ]
  },
  {
   "cell_type": "code",
   "execution_count": null,
   "metadata": {
    "id": "mUdIAbPDg65N"
   },
   "outputs": [],
   "source": [
    "texts = []\n",
    "markups = []\n",
    "for index, row in markup.iterrows():\n",
    "    text, row_markup = markup_conll(row[\"input_input\"], \n",
    "                                    row[\"output_result\"], \n",
    "                                    row[\"input_entitiesdata\"])\n",
    "\n",
    "    texts.append(text)\n",
    "    markups.append(row_markup)\n",
    "clear_output()"
   ]
  },
  {
   "cell_type": "code",
   "execution_count": null,
   "metadata": {
    "id": "8NE1q4zV0iBN"
   },
   "outputs": [],
   "source": [
    "unique_tags = {x.manipulation_class for m in markups for x in m}\n",
    "tag2id = {tag: idx for idx, tag in enumerate(unique_tags)}\n",
    "id2tag = {idx: tag for tag, idx in tag2id.items()}"
   ]
  },
  {
   "cell_type": "code",
   "execution_count": null,
   "metadata": {
    "id": "IfvINqAO0f-y"
   },
   "outputs": [],
   "source": [
    "train_texts, val_texts, train_markups, val_markups, train_ids, val_ids = \\\n",
    "train_test_split(texts, markups, range(len(texts)), test_size=.2, random_state=42)"
   ]
  },
  {
   "cell_type": "markdown",
   "metadata": {
    "id": "hNxhWd_T1EtX"
   },
   "source": [
    "### Dataset & tokenization"
   ]
  },
  {
   "cell_type": "code",
   "execution_count": null,
   "metadata": {
    "id": "NHMbrBi6g65O"
   },
   "outputs": [],
   "source": [
    "MODEL_NAME = \"sberbank-ai/ruBert-base\""
   ]
  },
  {
   "cell_type": "code",
   "execution_count": null,
   "metadata": {
    "id": "K9nNS6Ij1Cg2"
   },
   "outputs": [],
   "source": [
    "from transformers import BertTokenizerFast\n",
    "from functools import partial\n",
    "\n",
    "tokenizer = BertTokenizerFast.from_pretrained(MODEL_NAME)\n",
    "\n",
    "encode = partial(\n",
    "    tokenizer,\n",
    "    add_special_tokens=False, \n",
    "    is_split_into_words=True, \n",
    "    padding=True, \n",
    "    truncation=True, \n",
    "    max_length=512)\n",
    "\n",
    "encoded_sep_token = encode([tokenizer.sep_token])['input_ids'][0]\n",
    "\n",
    "train_encodings = encode(train_texts)\n",
    "val_encodings = encode(val_texts)"
   ]
  },
  {
   "cell_type": "code",
   "execution_count": null,
   "metadata": {
    "id": "PqWzN5kj3QIo"
   },
   "outputs": [],
   "source": [
    "train_labels = encode_tags(train_markups, train_encodings, \"manipulation_class\", tag2id=tag2id)\n",
    "val_labels = encode_tags(val_markups, val_encodings, \"manipulation_class\", tag2id=tag2id)\n",
    "\n",
    "train_entities = encode_tags(train_markups, train_encodings, \"entity_id\")\n",
    "val_entities = encode_tags(val_markups, val_encodings, \"entity_id\")\n",
    "\n",
    "train_manipulation_targets = encode_tags(train_markups, train_encodings, \"manipulation_target\")\n",
    "val_manipulation_targets = encode_tags(val_markups, val_encodings, \"manipulation_target\")"
   ]
  },
  {
   "cell_type": "code",
   "execution_count": null,
   "metadata": {},
   "outputs": [],
   "source": [
    "train_x, train_y = create_concat_data(train_encodings, train_entities, train_manipulation_targets, encoded_sep_token)\n",
    "val_x, val_y = create_concat_data(val_encodings, val_entities, val_manipulation_targets, encoded_sep_token)"
   ]
  },
  {
   "cell_type": "code",
   "execution_count": null,
   "metadata": {},
   "outputs": [],
   "source": [
    "assert (len(train_x) == len(train_y)) & (len(val_x) == len(val_y)), \"Чето не так\""
   ]
  },
  {
   "cell_type": "code",
   "execution_count": null,
   "metadata": {
    "id": "VppXxBUQ3Qdy"
   },
   "outputs": [],
   "source": [
    "import torch\n",
    "from torch.utils.data import DataLoader, TensorDataset\n",
    "\n",
    "train_x, train_y = torch.tensor(train_x), torch.tensor(train_y)\n",
    "val_x, val_y = torch.tensor(val_x), torch.tensor(val_y)\n",
    "\n",
    "train_dataset = TensorDataset(train_x, train_y)\n",
    "val_dataset = TensorDataset(val_x, val_y)\n",
    "\n",
    "train_loader = DataLoader(train_dataset, batch_size=8)\n",
    "val_loader = DataLoader(val_dataset, batch_size=8)"
   ]
  },
  {
   "cell_type": "markdown",
   "metadata": {
    "id": "ahxzHvkGBIPw"
   },
   "source": [
    "## Model pipeline"
   ]
  },
  {
   "cell_type": "markdown",
   "metadata": {
    "id": "Aainm0OrF6-Y"
   },
   "source": [
    "### Pytorch-Lightning Model"
   ]
  },
  {
   "cell_type": "code",
   "execution_count": null,
   "metadata": {
    "id": "d22vgoMfxbES"
   },
   "outputs": [],
   "source": [
    "config = {\n",
    "    'bert_model_name': MODEL_NAME,\n",
    "    'optimizer': torch.optim.AdamW, \n",
    "    'lr': 0.001, \n",
    "    'freeze_bert': True,\n",
    "    'loss_function': torch.nn.CrossEntropyLoss()\n",
    "}\n",
    "model = ManipulationTargetLightningModel(**config)\n",
    "trainer = pl.Trainer(max_epochs=25)\n",
    "trainer.fit(model, train_loader, val_loader)"
   ]
  },
  {
   "cell_type": "markdown",
   "metadata": {
    "id": "1hck5MypEBG7"
   },
   "source": [
    "### Training"
   ]
  },
  {
   "cell_type": "markdown",
   "metadata": {
    "id": "ee16-8WJiykP"
   },
   "source": [
    "### Evaluation"
   ]
  },
  {
   "cell_type": "code",
   "execution_count": null,
   "metadata": {
    "id": "lAgXm28pg65U"
   },
   "outputs": [],
   "source": []
  }
 ],
 "metadata": {
  "accelerator": "GPU",
  "colab": {
   "collapsed_sections": [
    "iy0eN0gYbQ18",
    "x57ER_-VBB9s",
    "hNxhWd_T1EtX",
    "Aainm0OrF6-Y"
   ],
   "provenance": []
  },
  "gpuClass": "standard",
  "kernelspec": {
   "display_name": "Python 3 (ipykernel)",
   "language": "python",
   "name": "python3"
  },
  "language_info": {
   "codemirror_mode": {
    "name": "ipython",
    "version": 3
   },
   "file_extension": ".py",
   "mimetype": "text/x-python",
   "name": "python",
   "nbconvert_exporter": "python",
   "pygments_lexer": "ipython3",
   "version": "3.10.10"
  },
  "vscode": {
   "interpreter": {
    "hash": "3054ead98097fea4235956bcfdb3ae2fa441fdcfcdb34abea4d0717b684d09c0"
   }
  }
 },
 "nbformat": 4,
 "nbformat_minor": 1
}

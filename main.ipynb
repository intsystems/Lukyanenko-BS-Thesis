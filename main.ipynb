{
 "cells": [
  {
   "cell_type": "markdown",
   "metadata": {
    "id": "iy0eN0gYbQ18"
   },
   "source": [
    "### Imports"
   ]
  },
  {
   "cell_type": "code",
   "execution_count": 1,
   "metadata": {},
   "outputs": [],
   "source": [
    "import os\n",
    "os.environ['PYTORCH_CUDA_ALLOC_CONF'] = 'max_split_size_mb:6000'"
   ]
  },
  {
   "cell_type": "code",
   "execution_count": null,
   "metadata": {},
   "outputs": [],
   "source": [
    "!set 'PYTORCH_CUDA_ALLOC_CONF=max_split_size_mb:7000'"
   ]
  },
  {
   "cell_type": "code",
   "execution_count": 3,
   "metadata": {
    "id": "ECffSCKybZLv"
   },
   "outputs": [],
   "source": [
    "%load_ext autoreload\n",
    "%autoreload 2\n",
    "\n",
    "from IPython.display import clear_output\n",
    "\n",
    "import sys\n",
    "import json\n",
    "from typing import List\n",
    "from datetime import datetime\n",
    "from tqdm import tqdm\n",
    "from functools import partial\n",
    "\n",
    "import pandas as pd\n",
    "import numpy as np\n",
    "import matplotlib.pyplot as plt\n",
    "import torch\n",
    "import pytorch_lightning as pl\n",
    "from transformers import BertTokenizerFast\n",
    "from sklearn.model_selection import train_test_split\n",
    "from torch.utils.data import DataLoader, TensorDataset\n",
    "\n",
    "from src.manipulation_helpers.si import SILitModel\n",
    "from src.manipulation_helpers.st import STLitModel\n",
    "from src.manipulation_helpers.data_preparation import markup_conll, encode_tags, Markup, \\\n",
    "                                                      read_markup, create_span_targeting_data, \\\n",
    "                                                      SpanTargetingDataset\n"
   ]
  },
  {
   "cell_type": "markdown",
   "metadata": {
    "id": "x57ER_-VBB9s"
   },
   "source": [
    "## Data processing"
   ]
  },
  {
   "cell_type": "code",
   "execution_count": 4,
   "metadata": {
    "colab": {
     "base_uri": "https://localhost:8080/"
    },
    "id": "ycEVKz7mg65M",
    "outputId": "93bd5b17-fc4f-4bd4-c54a-7e3364146899"
   },
   "outputs": [
    {
     "name": "stdout",
     "output_type": "stream",
     "text": [
      "Всего разметок: 1686\n"
     ]
    }
   ],
   "source": [
    "PATH_TO_MARKUP = \"data/markup_union_matched.json\"\n",
    "markup = pd.read_json(PATH_TO_MARKUP, lines=True)\n",
    "print(\"Всего разметок:\", len(markup))"
   ]
  },
  {
   "cell_type": "code",
   "execution_count": 5,
   "metadata": {
    "id": "mUdIAbPDg65N"
   },
   "outputs": [],
   "source": [
    "texts = []\n",
    "markups = []\n",
    "for index, row in markup.iterrows():\n",
    "    text, row_markup = markup_conll(row[\"input_input\"], \n",
    "                                    row[\"output_result\"], \n",
    "                                    row[\"input_entitiesdata\"])\n",
    "\n",
    "    texts.append(text)\n",
    "    markups.append(row_markup)\n",
    "clear_output()"
   ]
  },
  {
   "cell_type": "code",
   "execution_count": 6,
   "metadata": {
    "id": "8NE1q4zV0iBN"
   },
   "outputs": [],
   "source": [
    "unique_tags = {x.manipulation_class for m in markups for x in m}\n",
    "tag2id = {tag: idx for idx, tag in enumerate(unique_tags)}\n",
    "id2tag = {idx: tag for tag, idx in tag2id.items()}"
   ]
  },
  {
   "cell_type": "code",
   "execution_count": 7,
   "metadata": {},
   "outputs": [],
   "source": [
    "bio2id = {\n",
    "    'O': 0,\n",
    "    'I': 1,\n",
    "    'B': 2,\n",
    "}\n",
    "id2bio = {\n",
    "    idx : tag for tag, idx in bio2id.items()\n",
    "}"
   ]
  },
  {
   "cell_type": "code",
   "execution_count": 8,
   "metadata": {
    "id": "IfvINqAO0f-y"
   },
   "outputs": [],
   "source": [
    "train_texts, val_texts, train_markups, val_markups, train_ids, val_ids = \\\n",
    "train_test_split(texts, markups, range(len(texts)), test_size=.2, random_state=42)"
   ]
  },
  {
   "cell_type": "markdown",
   "metadata": {
    "id": "hNxhWd_T1EtX"
   },
   "source": [
    "### Dataset & tokenization"
   ]
  },
  {
   "cell_type": "code",
   "execution_count": 9,
   "metadata": {
    "id": "NHMbrBi6g65O"
   },
   "outputs": [],
   "source": [
    "MODEL_NAME = \"DeepPavlov/rubert-base-cased\""
   ]
  },
  {
   "cell_type": "code",
   "execution_count": 10,
   "metadata": {
    "id": "K9nNS6Ij1Cg2"
   },
   "outputs": [],
   "source": [
    "tokenizer = BertTokenizerFast.from_pretrained(MODEL_NAME)\n",
    "\n",
    "encode = partial(\n",
    "    tokenizer,\n",
    "    add_special_tokens=False, \n",
    "    is_split_into_words=True, \n",
    "    padding=True, \n",
    "    truncation=True, \n",
    "    max_length=512)\n",
    "\n",
    "encoded_sep_token = encode([tokenizer.sep_token])['input_ids'][0]\n",
    "encoded_cls_token = encode([tokenizer.cls_token])['input_ids'][0]\n",
    "\n",
    "train_encodings = encode(train_texts)\n",
    "val_encodings = encode(val_texts)"
   ]
  },
  {
   "cell_type": "code",
   "execution_count": 11,
   "metadata": {
    "id": "PqWzN5kj3QIo"
   },
   "outputs": [],
   "source": [
    "train_labels = encode_tags(train_markups, train_encodings, \"manipulation_class\", tag2id=tag2id)\n",
    "val_labels = encode_tags(val_markups, val_encodings, \"manipulation_class\", tag2id=tag2id)\n",
    "\n",
    "train_entities = encode_tags(train_markups, train_encodings, \"entity_id\")\n",
    "val_entities = encode_tags(val_markups, val_encodings, \"entity_id\")\n",
    "\n",
    "train_manipulation_targets = encode_tags(train_markups, train_encodings, \"manipulation_target\")\n",
    "val_manipulation_targets = encode_tags(val_markups, val_encodings, \"manipulation_target\")\n",
    "\n",
    "train_spans = encode_tags(train_markups, train_encodings, \"bio_span\", tag2id=bio2id)\n",
    "val_spans = encode_tags(val_markups, val_encodings, \"bio_span\", tag2id=bio2id)"
   ]
  },
  {
   "cell_type": "markdown",
   "metadata": {},
   "source": [
    "# 1. Span Identification"
   ]
  },
  {
   "cell_type": "code",
   "execution_count": null,
   "metadata": {},
   "outputs": [],
   "source": [
    "train_x, train_y = train_encodings['input_ids'], train_spans\n",
    "val_x, val_y = val_encodings['input_ids'], val_spans"
   ]
  },
  {
   "cell_type": "code",
   "execution_count": null,
   "metadata": {},
   "outputs": [],
   "source": [
    "assert (len(train_x) == len(train_y)) & (len(val_x) == len(val_y)), \"Чето не так\""
   ]
  },
  {
   "cell_type": "code",
   "execution_count": null,
   "metadata": {},
   "outputs": [],
   "source": [
    "print(f'Новостей в обучении: {len(train_y)}')\n",
    "print(f'Новостей в валидации: {len(val_y)}')"
   ]
  },
  {
   "cell_type": "code",
   "execution_count": null,
   "metadata": {
    "id": "VppXxBUQ3Qdy"
   },
   "outputs": [],
   "source": [
    "train_x, train_y = torch.tensor(train_x), torch.tensor(train_y)\n",
    "val_x, val_y = torch.tensor(val_x), torch.tensor(val_y)\n",
    "\n",
    "train_dataset = TensorDataset(train_x, train_y)\n",
    "val_dataset = TensorDataset(val_x, val_y)\n",
    "\n",
    "train_loader = DataLoader(train_dataset, batch_size=8)\n",
    "val_loader = DataLoader(val_dataset, batch_size=8)"
   ]
  },
  {
   "cell_type": "code",
   "execution_count": null,
   "metadata": {},
   "outputs": [],
   "source": [
    "(val_y == 0).sum() / (val_y == 1).sum()"
   ]
  },
  {
   "cell_type": "markdown",
   "metadata": {
    "id": "Aainm0OrF6-Y"
   },
   "source": [
    "### Pytorch-Lightning Model"
   ]
  },
  {
   "cell_type": "code",
   "execution_count": null,
   "metadata": {
    "id": "d22vgoMfxbES"
   },
   "outputs": [],
   "source": [
    "config = {\n",
    "    'bert_model_name': MODEL_NAME,\n",
    "    'optimizer': torch.optim.AdamW, \n",
    "    'lr': 1e-4, \n",
    "    'freeze_bert': True,\n",
    "    'loss_function': torch.nn.CrossEntropyLoss(weight=torch.tensor([1., 2., 2.]), ignore_index=-100),\n",
    "    'output_size': 3,\n",
    "    'scheduler': partial(torch.optim.lr_scheduler.ExponentialLR, gamma=0.5),\n",
    "    'random_refreeze': False\n",
    "}\n",
    "model = SILitModel(**config)\n",
    "trainer = pl.Trainer(max_epochs=5)\n",
    "trainer.fit(model, train_loader, val_loader)"
   ]
  },
  {
   "cell_type": "code",
   "execution_count": null,
   "metadata": {},
   "outputs": [],
   "source": [
    "len(model.bert.encoder.layer)"
   ]
  },
  {
   "cell_type": "markdown",
   "metadata": {},
   "source": [
    "# 2. Span Targetting"
   ]
  },
  {
   "cell_type": "code",
   "execution_count": 12,
   "metadata": {},
   "outputs": [
    {
     "name": "stdout",
     "output_type": "stream",
     "text": [
      "% of positive class 0.5730186999109528\n",
      "% of positive class 0.4930555555555556\n"
     ]
    }
   ],
   "source": [
    "train_full_texts, train_entities, train_spans, train_labels = \\\n",
    "create_span_targeting_data(train_encodings, train_entities, train_manipulation_targets, train_spans, encoded_cls_token)\n",
    "\n",
    "val_full_texts, val_entities, val_spans, val_labels = \\\n",
    "create_span_targeting_data(val_encodings, val_entities, val_manipulation_targets, val_spans, encoded_cls_token)"
   ]
  },
  {
   "cell_type": "code",
   "execution_count": 13,
   "metadata": {},
   "outputs": [],
   "source": [
    "assert (np.array(list(map(len, train_full_texts))) == 512).all()\n",
    "assert (np.array(list(map(len, train_entities))) == 65).all()\n",
    "assert (np.array(list(map(len, train_spans))) == 257).all()\n",
    "\n",
    "assert (np.array(list(map(len, val_full_texts))) == 512).all()\n",
    "assert (np.array(list(map(len, val_entities))) == 65).all()\n",
    "assert (np.array(list(map(len, val_spans))) == 257).all()"
   ]
  },
  {
   "cell_type": "code",
   "execution_count": 14,
   "metadata": {},
   "outputs": [],
   "source": [
    "train_loader = DataLoader(SpanTargetingDataset(\n",
    "    train_full_texts, train_entities, train_spans, train_labels\n",
    "), batch_size=8)\n",
    "\n",
    "val_loader = DataLoader(SpanTargetingDataset(\n",
    "    val_full_texts, val_entities, val_spans, val_labels\n",
    "), batch_size=8)"
   ]
  },
  {
   "cell_type": "markdown",
   "metadata": {},
   "source": [
    "### Pytorch-Lightning Model"
   ]
  },
  {
   "cell_type": "code",
   "execution_count": 15,
   "metadata": {},
   "outputs": [
    {
     "name": "stderr",
     "output_type": "stream",
     "text": [
      "Some weights of the model checkpoint at DeepPavlov/rubert-base-cased were not used when initializing BertModel: ['cls.predictions.decoder.bias', 'cls.predictions.bias', 'cls.predictions.transform.LayerNorm.weight', 'cls.seq_relationship.weight', 'cls.predictions.decoder.weight', 'cls.predictions.transform.LayerNorm.bias', 'cls.seq_relationship.bias', 'cls.predictions.transform.dense.weight', 'cls.predictions.transform.dense.bias']\n",
      "- This IS expected if you are initializing BertModel from the checkpoint of a model trained on another task or with another architecture (e.g. initializing a BertForSequenceClassification model from a BertForPreTraining model).\n",
      "- This IS NOT expected if you are initializing BertModel from the checkpoint of a model that you expect to be exactly identical (initializing a BertForSequenceClassification model from a BertForSequenceClassification model).\n",
      "GPU available: True (cuda), used: True\n",
      "TPU available: False, using: 0 TPU cores\n",
      "IPU available: False, using: 0 IPUs\n",
      "HPU available: False, using: 0 HPUs\n",
      "LOCAL_RANK: 0 - CUDA_VISIBLE_DEVICES: [0]\n",
      "\n",
      "  | Name          | Type             | Params\n",
      "---------------------------------------------------\n",
      "0 | bert          | BertModel        | 177 M \n",
      "1 | drop          | Dropout          | 0     \n",
      "2 | head          | Linear           | 4.6 K \n",
      "3 | loss_function | CrossEntropyLoss | 0     \n",
      "---------------------------------------------------\n",
      "4.6 K     Trainable params\n",
      "177 M     Non-trainable params\n",
      "177 M     Total params\n",
      "711.432   Total estimated model params size (MB)\n"
     ]
    },
    {
     "data": {
      "application/vnd.jupyter.widget-view+json": {
       "model_id": "",
       "version_major": 2,
       "version_minor": 0
      },
      "text/plain": [
       "Sanity Checking: 0it [00:00, ?it/s]"
      ]
     },
     "metadata": {},
     "output_type": "display_data"
    },
    {
     "name": "stderr",
     "output_type": "stream",
     "text": [
      "E:\\anaconda\\envs\\manipulation_env_v4\\Lib\\site-packages\\pytorch_lightning\\trainer\\connectors\\data_connector.py:430: PossibleUserWarning: The dataloader, val_dataloader, does not have many workers which may be a bottleneck. Consider increasing the value of the `num_workers` argument` (try 16 which is the number of cpus on this machine) in the `DataLoader` init to improve performance.\n",
      "  rank_zero_warn(\n",
      "E:\\anaconda\\envs\\manipulation_env_v4\\Lib\\site-packages\\pytorch_lightning\\trainer\\connectors\\data_connector.py:430: PossibleUserWarning: The dataloader, train_dataloader, does not have many workers which may be a bottleneck. Consider increasing the value of the `num_workers` argument` (try 16 which is the number of cpus on this machine) in the `DataLoader` init to improve performance.\n",
      "  rank_zero_warn(\n"
     ]
    },
    {
     "data": {
      "application/vnd.jupyter.widget-view+json": {
       "model_id": "8c6c9c57211a46d0b8739f2b80e47cdb",
       "version_major": 2,
       "version_minor": 0
      },
      "text/plain": [
       "Training: 0it [00:00, ?it/s]"
      ]
     },
     "metadata": {},
     "output_type": "display_data"
    },
    {
     "data": {
      "application/vnd.jupyter.widget-view+json": {
       "model_id": "",
       "version_major": 2,
       "version_minor": 0
      },
      "text/plain": [
       "Validation: 0it [00:00, ?it/s]"
      ]
     },
     "metadata": {},
     "output_type": "display_data"
    },
    {
     "name": "stderr",
     "output_type": "stream",
     "text": [
      "E:\\anaconda\\envs\\manipulation_env_v4\\Lib\\site-packages\\sklearn\\metrics\\_classification.py:1344: UndefinedMetricWarning: Recall is ill-defined and being set to 0.0 due to no true samples. Use `zero_division` parameter to control this behavior.\n",
      "  _warn_prf(average, modifier, msg_start, len(result))\n",
      "C:\\Users\\Иван\\OneDrive\\Рабочий стол\\Lukyanenko-BS-Thesis\\src\\manipulation_helpers\\st.py:88: RuntimeWarning: invalid value encountered in scalar divide\n",
      "  f1 = np.nan_to_num(2 * precision * recall / (precision + recall))\n",
      "E:\\anaconda\\envs\\manipulation_env_v4\\Lib\\site-packages\\sklearn\\metrics\\_classification.py:1344: UndefinedMetricWarning: Recall is ill-defined and being set to 0.0 due to no true samples. Use `zero_division` parameter to control this behavior.\n",
      "  _warn_prf(average, modifier, msg_start, len(result))\n",
      "C:\\Users\\Иван\\OneDrive\\Рабочий стол\\Lukyanenko-BS-Thesis\\src\\manipulation_helpers\\st.py:88: RuntimeWarning: invalid value encountered in scalar divide\n",
      "  f1 = np.nan_to_num(2 * precision * recall / (precision + recall))\n",
      "E:\\anaconda\\envs\\manipulation_env_v4\\Lib\\site-packages\\sklearn\\metrics\\_classification.py:1344: UndefinedMetricWarning: Recall is ill-defined and being set to 0.0 due to no true samples. Use `zero_division` parameter to control this behavior.\n",
      "  _warn_prf(average, modifier, msg_start, len(result))\n",
      "C:\\Users\\Иван\\OneDrive\\Рабочий стол\\Lukyanenko-BS-Thesis\\src\\manipulation_helpers\\st.py:88: RuntimeWarning: invalid value encountered in scalar divide\n",
      "  f1 = np.nan_to_num(2 * precision * recall / (precision + recall))\n",
      "E:\\anaconda\\envs\\manipulation_env_v4\\Lib\\site-packages\\sklearn\\metrics\\_classification.py:1344: UndefinedMetricWarning: Recall is ill-defined and being set to 0.0 due to no true samples. Use `zero_division` parameter to control this behavior.\n",
      "  _warn_prf(average, modifier, msg_start, len(result))\n",
      "C:\\Users\\Иван\\OneDrive\\Рабочий стол\\Lukyanenko-BS-Thesis\\src\\manipulation_helpers\\st.py:88: RuntimeWarning: invalid value encountered in scalar divide\n",
      "  f1 = np.nan_to_num(2 * precision * recall / (precision + recall))\n",
      "E:\\anaconda\\envs\\manipulation_env_v4\\Lib\\site-packages\\sklearn\\metrics\\_classification.py:1344: UndefinedMetricWarning: Recall is ill-defined and being set to 0.0 due to no true samples. Use `zero_division` parameter to control this behavior.\n",
      "  _warn_prf(average, modifier, msg_start, len(result))\n",
      "C:\\Users\\Иван\\OneDrive\\Рабочий стол\\Lukyanenko-BS-Thesis\\src\\manipulation_helpers\\st.py:88: RuntimeWarning: invalid value encountered in scalar divide\n",
      "  f1 = np.nan_to_num(2 * precision * recall / (precision + recall))\n"
     ]
    },
    {
     "data": {
      "application/vnd.jupyter.widget-view+json": {
       "model_id": "",
       "version_major": 2,
       "version_minor": 0
      },
      "text/plain": [
       "Validation: 0it [00:00, ?it/s]"
      ]
     },
     "metadata": {},
     "output_type": "display_data"
    },
    {
     "name": "stderr",
     "output_type": "stream",
     "text": [
      "C:\\Users\\Иван\\OneDrive\\Рабочий стол\\Lukyanenko-BS-Thesis\\src\\manipulation_helpers\\st.py:88: RuntimeWarning: invalid value encountered in scalar divide\n",
      "  f1 = np.nan_to_num(2 * precision * recall / (precision + recall))\n",
      "E:\\anaconda\\envs\\manipulation_env_v4\\Lib\\site-packages\\sklearn\\metrics\\_classification.py:1344: UndefinedMetricWarning: Recall is ill-defined and being set to 0.0 due to no true samples. Use `zero_division` parameter to control this behavior.\n",
      "  _warn_prf(average, modifier, msg_start, len(result))\n",
      "C:\\Users\\Иван\\OneDrive\\Рабочий стол\\Lukyanenko-BS-Thesis\\src\\manipulation_helpers\\st.py:88: RuntimeWarning: invalid value encountered in scalar divide\n",
      "  f1 = np.nan_to_num(2 * precision * recall / (precision + recall))\n",
      "C:\\Users\\Иван\\OneDrive\\Рабочий стол\\Lukyanenko-BS-Thesis\\src\\manipulation_helpers\\st.py:88: RuntimeWarning: invalid value encountered in scalar divide\n",
      "  f1 = np.nan_to_num(2 * precision * recall / (precision + recall))\n",
      "E:\\anaconda\\envs\\manipulation_env_v4\\Lib\\site-packages\\sklearn\\metrics\\_classification.py:1344: UndefinedMetricWarning: Recall is ill-defined and being set to 0.0 due to no true samples. Use `zero_division` parameter to control this behavior.\n",
      "  _warn_prf(average, modifier, msg_start, len(result))\n",
      "C:\\Users\\Иван\\OneDrive\\Рабочий стол\\Lukyanenko-BS-Thesis\\src\\manipulation_helpers\\st.py:88: RuntimeWarning: invalid value encountered in scalar divide\n",
      "  f1 = np.nan_to_num(2 * precision * recall / (precision + recall))\n",
      "C:\\Users\\Иван\\OneDrive\\Рабочий стол\\Lukyanenko-BS-Thesis\\src\\manipulation_helpers\\st.py:88: RuntimeWarning: invalid value encountered in scalar divide\n",
      "  f1 = np.nan_to_num(2 * precision * recall / (precision + recall))\n",
      "E:\\anaconda\\envs\\manipulation_env_v4\\Lib\\site-packages\\sklearn\\metrics\\_classification.py:1344: UndefinedMetricWarning: Recall is ill-defined and being set to 0.0 due to no true samples. Use `zero_division` parameter to control this behavior.\n",
      "  _warn_prf(average, modifier, msg_start, len(result))\n",
      "C:\\Users\\Иван\\OneDrive\\Рабочий стол\\Lukyanenko-BS-Thesis\\src\\manipulation_helpers\\st.py:88: RuntimeWarning: invalid value encountered in scalar divide\n",
      "  f1 = np.nan_to_num(2 * precision * recall / (precision + recall))\n",
      "E:\\anaconda\\envs\\manipulation_env_v4\\Lib\\site-packages\\sklearn\\metrics\\_classification.py:1344: UndefinedMetricWarning: Recall is ill-defined and being set to 0.0 due to no true samples. Use `zero_division` parameter to control this behavior.\n",
      "  _warn_prf(average, modifier, msg_start, len(result))\n",
      "C:\\Users\\Иван\\OneDrive\\Рабочий стол\\Lukyanenko-BS-Thesis\\src\\manipulation_helpers\\st.py:88: RuntimeWarning: invalid value encountered in scalar divide\n",
      "  f1 = np.nan_to_num(2 * precision * recall / (precision + recall))\n",
      "E:\\anaconda\\envs\\manipulation_env_v4\\Lib\\site-packages\\sklearn\\metrics\\_classification.py:1344: UndefinedMetricWarning: Recall is ill-defined and being set to 0.0 due to no true samples. Use `zero_division` parameter to control this behavior.\n",
      "  _warn_prf(average, modifier, msg_start, len(result))\n",
      "C:\\Users\\Иван\\OneDrive\\Рабочий стол\\Lukyanenko-BS-Thesis\\src\\manipulation_helpers\\st.py:88: RuntimeWarning: invalid value encountered in scalar divide\n",
      "  f1 = np.nan_to_num(2 * precision * recall / (precision + recall))\n"
     ]
    },
    {
     "data": {
      "application/vnd.jupyter.widget-view+json": {
       "model_id": "",
       "version_major": 2,
       "version_minor": 0
      },
      "text/plain": [
       "Validation: 0it [00:00, ?it/s]"
      ]
     },
     "metadata": {},
     "output_type": "display_data"
    },
    {
     "name": "stderr",
     "output_type": "stream",
     "text": [
      "C:\\Users\\Иван\\OneDrive\\Рабочий стол\\Lukyanenko-BS-Thesis\\src\\manipulation_helpers\\st.py:88: RuntimeWarning: invalid value encountered in scalar divide\n",
      "  f1 = np.nan_to_num(2 * precision * recall / (precision + recall))\n",
      "C:\\Users\\Иван\\OneDrive\\Рабочий стол\\Lukyanenko-BS-Thesis\\src\\manipulation_helpers\\st.py:88: RuntimeWarning: invalid value encountered in scalar divide\n",
      "  f1 = np.nan_to_num(2 * precision * recall / (precision + recall))\n",
      "E:\\anaconda\\envs\\manipulation_env_v4\\Lib\\site-packages\\sklearn\\metrics\\_classification.py:1344: UndefinedMetricWarning: Recall is ill-defined and being set to 0.0 due to no true samples. Use `zero_division` parameter to control this behavior.\n",
      "  _warn_prf(average, modifier, msg_start, len(result))\n",
      "C:\\Users\\Иван\\OneDrive\\Рабочий стол\\Lukyanenko-BS-Thesis\\src\\manipulation_helpers\\st.py:88: RuntimeWarning: invalid value encountered in scalar divide\n",
      "  f1 = np.nan_to_num(2 * precision * recall / (precision + recall))\n",
      "C:\\Users\\Иван\\OneDrive\\Рабочий стол\\Lukyanenko-BS-Thesis\\src\\manipulation_helpers\\st.py:88: RuntimeWarning: invalid value encountered in scalar divide\n",
      "  f1 = np.nan_to_num(2 * precision * recall / (precision + recall))\n",
      "E:\\anaconda\\envs\\manipulation_env_v4\\Lib\\site-packages\\sklearn\\metrics\\_classification.py:1344: UndefinedMetricWarning: Recall is ill-defined and being set to 0.0 due to no true samples. Use `zero_division` parameter to control this behavior.\n",
      "  _warn_prf(average, modifier, msg_start, len(result))\n",
      "C:\\Users\\Иван\\OneDrive\\Рабочий стол\\Lukyanenko-BS-Thesis\\src\\manipulation_helpers\\st.py:88: RuntimeWarning: invalid value encountered in scalar divide\n",
      "  f1 = np.nan_to_num(2 * precision * recall / (precision + recall))\n",
      "C:\\Users\\Иван\\OneDrive\\Рабочий стол\\Lukyanenko-BS-Thesis\\src\\manipulation_helpers\\st.py:88: RuntimeWarning: invalid value encountered in scalar divide\n",
      "  f1 = np.nan_to_num(2 * precision * recall / (precision + recall))\n",
      "C:\\Users\\Иван\\OneDrive\\Рабочий стол\\Lukyanenko-BS-Thesis\\src\\manipulation_helpers\\st.py:88: RuntimeWarning: invalid value encountered in scalar divide\n",
      "  f1 = np.nan_to_num(2 * precision * recall / (precision + recall))\n",
      "E:\\anaconda\\envs\\manipulation_env_v4\\Lib\\site-packages\\sklearn\\metrics\\_classification.py:1344: UndefinedMetricWarning: Recall is ill-defined and being set to 0.0 due to no true samples. Use `zero_division` parameter to control this behavior.\n",
      "  _warn_prf(average, modifier, msg_start, len(result))\n",
      "C:\\Users\\Иван\\OneDrive\\Рабочий стол\\Lukyanenko-BS-Thesis\\src\\manipulation_helpers\\st.py:88: RuntimeWarning: invalid value encountered in scalar divide\n",
      "  f1 = np.nan_to_num(2 * precision * recall / (precision + recall))\n",
      "C:\\Users\\Иван\\OneDrive\\Рабочий стол\\Lukyanenko-BS-Thesis\\src\\manipulation_helpers\\st.py:88: RuntimeWarning: invalid value encountered in scalar divide\n",
      "  f1 = np.nan_to_num(2 * precision * recall / (precision + recall))\n",
      "E:\\anaconda\\envs\\manipulation_env_v4\\Lib\\site-packages\\sklearn\\metrics\\_classification.py:1344: UndefinedMetricWarning: Recall is ill-defined and being set to 0.0 due to no true samples. Use `zero_division` parameter to control this behavior.\n",
      "  _warn_prf(average, modifier, msg_start, len(result))\n",
      "C:\\Users\\Иван\\OneDrive\\Рабочий стол\\Lukyanenko-BS-Thesis\\src\\manipulation_helpers\\st.py:88: RuntimeWarning: invalid value encountered in scalar divide\n",
      "  f1 = np.nan_to_num(2 * precision * recall / (precision + recall))\n",
      "E:\\anaconda\\envs\\manipulation_env_v4\\Lib\\site-packages\\sklearn\\metrics\\_classification.py:1344: UndefinedMetricWarning: Recall is ill-defined and being set to 0.0 due to no true samples. Use `zero_division` parameter to control this behavior.\n",
      "  _warn_prf(average, modifier, msg_start, len(result))\n",
      "C:\\Users\\Иван\\OneDrive\\Рабочий стол\\Lukyanenko-BS-Thesis\\src\\manipulation_helpers\\st.py:88: RuntimeWarning: invalid value encountered in scalar divide\n",
      "  f1 = np.nan_to_num(2 * precision * recall / (precision + recall))\n"
     ]
    },
    {
     "data": {
      "application/vnd.jupyter.widget-view+json": {
       "model_id": "",
       "version_major": 2,
       "version_minor": 0
      },
      "text/plain": [
       "Validation: 0it [00:00, ?it/s]"
      ]
     },
     "metadata": {},
     "output_type": "display_data"
    },
    {
     "name": "stderr",
     "output_type": "stream",
     "text": [
      "C:\\Users\\Иван\\OneDrive\\Рабочий стол\\Lukyanenko-BS-Thesis\\src\\manipulation_helpers\\st.py:88: RuntimeWarning: invalid value encountered in scalar divide\n",
      "  f1 = np.nan_to_num(2 * precision * recall / (precision + recall))\n",
      "E:\\anaconda\\envs\\manipulation_env_v4\\Lib\\site-packages\\sklearn\\metrics\\_classification.py:1344: UndefinedMetricWarning: Recall is ill-defined and being set to 0.0 due to no true samples. Use `zero_division` parameter to control this behavior.\n",
      "  _warn_prf(average, modifier, msg_start, len(result))\n",
      "C:\\Users\\Иван\\OneDrive\\Рабочий стол\\Lukyanenko-BS-Thesis\\src\\manipulation_helpers\\st.py:88: RuntimeWarning: invalid value encountered in scalar divide\n",
      "  f1 = np.nan_to_num(2 * precision * recall / (precision + recall))\n",
      "C:\\Users\\Иван\\OneDrive\\Рабочий стол\\Lukyanenko-BS-Thesis\\src\\manipulation_helpers\\st.py:88: RuntimeWarning: invalid value encountered in scalar divide\n",
      "  f1 = np.nan_to_num(2 * precision * recall / (precision + recall))\n",
      "E:\\anaconda\\envs\\manipulation_env_v4\\Lib\\site-packages\\sklearn\\metrics\\_classification.py:1344: UndefinedMetricWarning: Recall is ill-defined and being set to 0.0 due to no true samples. Use `zero_division` parameter to control this behavior.\n",
      "  _warn_prf(average, modifier, msg_start, len(result))\n",
      "C:\\Users\\Иван\\OneDrive\\Рабочий стол\\Lukyanenko-BS-Thesis\\src\\manipulation_helpers\\st.py:88: RuntimeWarning: invalid value encountered in scalar divide\n",
      "  f1 = np.nan_to_num(2 * precision * recall / (precision + recall))\n",
      "C:\\Users\\Иван\\OneDrive\\Рабочий стол\\Lukyanenko-BS-Thesis\\src\\manipulation_helpers\\st.py:88: RuntimeWarning: invalid value encountered in scalar divide\n",
      "  f1 = np.nan_to_num(2 * precision * recall / (precision + recall))\n",
      "E:\\anaconda\\envs\\manipulation_env_v4\\Lib\\site-packages\\sklearn\\metrics\\_classification.py:1344: UndefinedMetricWarning: Recall is ill-defined and being set to 0.0 due to no true samples. Use `zero_division` parameter to control this behavior.\n",
      "  _warn_prf(average, modifier, msg_start, len(result))\n",
      "C:\\Users\\Иван\\OneDrive\\Рабочий стол\\Lukyanenko-BS-Thesis\\src\\manipulation_helpers\\st.py:88: RuntimeWarning: invalid value encountered in scalar divide\n",
      "  f1 = np.nan_to_num(2 * precision * recall / (precision + recall))\n",
      "E:\\anaconda\\envs\\manipulation_env_v4\\Lib\\site-packages\\sklearn\\metrics\\_classification.py:1344: UndefinedMetricWarning: Recall is ill-defined and being set to 0.0 due to no true samples. Use `zero_division` parameter to control this behavior.\n",
      "  _warn_prf(average, modifier, msg_start, len(result))\n",
      "C:\\Users\\Иван\\OneDrive\\Рабочий стол\\Lukyanenko-BS-Thesis\\src\\manipulation_helpers\\st.py:88: RuntimeWarning: invalid value encountered in scalar divide\n",
      "  f1 = np.nan_to_num(2 * precision * recall / (precision + recall))\n",
      "E:\\anaconda\\envs\\manipulation_env_v4\\Lib\\site-packages\\sklearn\\metrics\\_classification.py:1344: UndefinedMetricWarning: Recall is ill-defined and being set to 0.0 due to no true samples. Use `zero_division` parameter to control this behavior.\n",
      "  _warn_prf(average, modifier, msg_start, len(result))\n",
      "C:\\Users\\Иван\\OneDrive\\Рабочий стол\\Lukyanenko-BS-Thesis\\src\\manipulation_helpers\\st.py:88: RuntimeWarning: invalid value encountered in scalar divide\n",
      "  f1 = np.nan_to_num(2 * precision * recall / (precision + recall))\n"
     ]
    },
    {
     "data": {
      "application/vnd.jupyter.widget-view+json": {
       "model_id": "",
       "version_major": 2,
       "version_minor": 0
      },
      "text/plain": [
       "Validation: 0it [00:00, ?it/s]"
      ]
     },
     "metadata": {},
     "output_type": "display_data"
    },
    {
     "name": "stderr",
     "output_type": "stream",
     "text": [
      "C:\\Users\\Иван\\OneDrive\\Рабочий стол\\Lukyanenko-BS-Thesis\\src\\manipulation_helpers\\st.py:88: RuntimeWarning: invalid value encountered in scalar divide\n",
      "  f1 = np.nan_to_num(2 * precision * recall / (precision + recall))\n",
      "C:\\Users\\Иван\\OneDrive\\Рабочий стол\\Lukyanenko-BS-Thesis\\src\\manipulation_helpers\\st.py:88: RuntimeWarning: invalid value encountered in scalar divide\n",
      "  f1 = np.nan_to_num(2 * precision * recall / (precision + recall))\n",
      "E:\\anaconda\\envs\\manipulation_env_v4\\Lib\\site-packages\\sklearn\\metrics\\_classification.py:1344: UndefinedMetricWarning: Recall is ill-defined and being set to 0.0 due to no true samples. Use `zero_division` parameter to control this behavior.\n",
      "  _warn_prf(average, modifier, msg_start, len(result))\n",
      "C:\\Users\\Иван\\OneDrive\\Рабочий стол\\Lukyanenko-BS-Thesis\\src\\manipulation_helpers\\st.py:88: RuntimeWarning: invalid value encountered in scalar divide\n",
      "  f1 = np.nan_to_num(2 * precision * recall / (precision + recall))\n",
      "C:\\Users\\Иван\\OneDrive\\Рабочий стол\\Lukyanenko-BS-Thesis\\src\\manipulation_helpers\\st.py:88: RuntimeWarning: invalid value encountered in scalar divide\n",
      "  f1 = np.nan_to_num(2 * precision * recall / (precision + recall))\n",
      "E:\\anaconda\\envs\\manipulation_env_v4\\Lib\\site-packages\\sklearn\\metrics\\_classification.py:1344: UndefinedMetricWarning: Recall is ill-defined and being set to 0.0 due to no true samples. Use `zero_division` parameter to control this behavior.\n",
      "  _warn_prf(average, modifier, msg_start, len(result))\n",
      "C:\\Users\\Иван\\OneDrive\\Рабочий стол\\Lukyanenko-BS-Thesis\\src\\manipulation_helpers\\st.py:88: RuntimeWarning: invalid value encountered in scalar divide\n",
      "  f1 = np.nan_to_num(2 * precision * recall / (precision + recall))\n",
      "C:\\Users\\Иван\\OneDrive\\Рабочий стол\\Lukyanenko-BS-Thesis\\src\\manipulation_helpers\\st.py:88: RuntimeWarning: invalid value encountered in scalar divide\n",
      "  f1 = np.nan_to_num(2 * precision * recall / (precision + recall))\n",
      "E:\\anaconda\\envs\\manipulation_env_v4\\Lib\\site-packages\\sklearn\\metrics\\_classification.py:1344: UndefinedMetricWarning: Recall is ill-defined and being set to 0.0 due to no true samples. Use `zero_division` parameter to control this behavior.\n",
      "  _warn_prf(average, modifier, msg_start, len(result))\n",
      "C:\\Users\\Иван\\OneDrive\\Рабочий стол\\Lukyanenko-BS-Thesis\\src\\manipulation_helpers\\st.py:88: RuntimeWarning: invalid value encountered in scalar divide\n",
      "  f1 = np.nan_to_num(2 * precision * recall / (precision + recall))\n",
      "E:\\anaconda\\envs\\manipulation_env_v4\\Lib\\site-packages\\sklearn\\metrics\\_classification.py:1344: UndefinedMetricWarning: Recall is ill-defined and being set to 0.0 due to no true samples. Use `zero_division` parameter to control this behavior.\n",
      "  _warn_prf(average, modifier, msg_start, len(result))\n",
      "C:\\Users\\Иван\\OneDrive\\Рабочий стол\\Lukyanenko-BS-Thesis\\src\\manipulation_helpers\\st.py:88: RuntimeWarning: invalid value encountered in scalar divide\n",
      "  f1 = np.nan_to_num(2 * precision * recall / (precision + recall))\n",
      "E:\\anaconda\\envs\\manipulation_env_v4\\Lib\\site-packages\\sklearn\\metrics\\_classification.py:1344: UndefinedMetricWarning: Recall is ill-defined and being set to 0.0 due to no true samples. Use `zero_division` parameter to control this behavior.\n",
      "  _warn_prf(average, modifier, msg_start, len(result))\n",
      "C:\\Users\\Иван\\OneDrive\\Рабочий стол\\Lukyanenko-BS-Thesis\\src\\manipulation_helpers\\st.py:88: RuntimeWarning: invalid value encountered in scalar divide\n",
      "  f1 = np.nan_to_num(2 * precision * recall / (precision + recall))\n"
     ]
    },
    {
     "data": {
      "application/vnd.jupyter.widget-view+json": {
       "model_id": "",
       "version_major": 2,
       "version_minor": 0
      },
      "text/plain": [
       "Validation: 0it [00:00, ?it/s]"
      ]
     },
     "metadata": {},
     "output_type": "display_data"
    },
    {
     "name": "stderr",
     "output_type": "stream",
     "text": [
      "C:\\Users\\Иван\\OneDrive\\Рабочий стол\\Lukyanenko-BS-Thesis\\src\\manipulation_helpers\\st.py:88: RuntimeWarning: invalid value encountered in scalar divide\n",
      "  f1 = np.nan_to_num(2 * precision * recall / (precision + recall))\n",
      "C:\\Users\\Иван\\OneDrive\\Рабочий стол\\Lukyanenko-BS-Thesis\\src\\manipulation_helpers\\st.py:88: RuntimeWarning: invalid value encountered in scalar divide\n",
      "  f1 = np.nan_to_num(2 * precision * recall / (precision + recall))\n",
      "E:\\anaconda\\envs\\manipulation_env_v4\\Lib\\site-packages\\sklearn\\metrics\\_classification.py:1344: UndefinedMetricWarning: Recall is ill-defined and being set to 0.0 due to no true samples. Use `zero_division` parameter to control this behavior.\n",
      "  _warn_prf(average, modifier, msg_start, len(result))\n",
      "C:\\Users\\Иван\\OneDrive\\Рабочий стол\\Lukyanenko-BS-Thesis\\src\\manipulation_helpers\\st.py:88: RuntimeWarning: invalid value encountered in scalar divide\n",
      "  f1 = np.nan_to_num(2 * precision * recall / (precision + recall))\n",
      "C:\\Users\\Иван\\OneDrive\\Рабочий стол\\Lukyanenko-BS-Thesis\\src\\manipulation_helpers\\st.py:88: RuntimeWarning: invalid value encountered in scalar divide\n",
      "  f1 = np.nan_to_num(2 * precision * recall / (precision + recall))\n",
      "E:\\anaconda\\envs\\manipulation_env_v4\\Lib\\site-packages\\sklearn\\metrics\\_classification.py:1344: UndefinedMetricWarning: Recall is ill-defined and being set to 0.0 due to no true samples. Use `zero_division` parameter to control this behavior.\n",
      "  _warn_prf(average, modifier, msg_start, len(result))\n",
      "C:\\Users\\Иван\\OneDrive\\Рабочий стол\\Lukyanenko-BS-Thesis\\src\\manipulation_helpers\\st.py:88: RuntimeWarning: invalid value encountered in scalar divide\n",
      "  f1 = np.nan_to_num(2 * precision * recall / (precision + recall))\n",
      "C:\\Users\\Иван\\OneDrive\\Рабочий стол\\Lukyanenko-BS-Thesis\\src\\manipulation_helpers\\st.py:88: RuntimeWarning: invalid value encountered in scalar divide\n",
      "  f1 = np.nan_to_num(2 * precision * recall / (precision + recall))\n",
      "E:\\anaconda\\envs\\manipulation_env_v4\\Lib\\site-packages\\sklearn\\metrics\\_classification.py:1344: UndefinedMetricWarning: Recall is ill-defined and being set to 0.0 due to no true samples. Use `zero_division` parameter to control this behavior.\n",
      "  _warn_prf(average, modifier, msg_start, len(result))\n",
      "C:\\Users\\Иван\\OneDrive\\Рабочий стол\\Lukyanenko-BS-Thesis\\src\\manipulation_helpers\\st.py:88: RuntimeWarning: invalid value encountered in scalar divide\n",
      "  f1 = np.nan_to_num(2 * precision * recall / (precision + recall))\n",
      "E:\\anaconda\\envs\\manipulation_env_v4\\Lib\\site-packages\\sklearn\\metrics\\_classification.py:1344: UndefinedMetricWarning: Recall is ill-defined and being set to 0.0 due to no true samples. Use `zero_division` parameter to control this behavior.\n",
      "  _warn_prf(average, modifier, msg_start, len(result))\n",
      "C:\\Users\\Иван\\OneDrive\\Рабочий стол\\Lukyanenko-BS-Thesis\\src\\manipulation_helpers\\st.py:88: RuntimeWarning: invalid value encountered in scalar divide\n",
      "  f1 = np.nan_to_num(2 * precision * recall / (precision + recall))\n",
      "E:\\anaconda\\envs\\manipulation_env_v4\\Lib\\site-packages\\sklearn\\metrics\\_classification.py:1344: UndefinedMetricWarning: Recall is ill-defined and being set to 0.0 due to no true samples. Use `zero_division` parameter to control this behavior.\n",
      "  _warn_prf(average, modifier, msg_start, len(result))\n",
      "C:\\Users\\Иван\\OneDrive\\Рабочий стол\\Lukyanenko-BS-Thesis\\src\\manipulation_helpers\\st.py:88: RuntimeWarning: invalid value encountered in scalar divide\n",
      "  f1 = np.nan_to_num(2 * precision * recall / (precision + recall))\n"
     ]
    },
    {
     "data": {
      "application/vnd.jupyter.widget-view+json": {
       "model_id": "",
       "version_major": 2,
       "version_minor": 0
      },
      "text/plain": [
       "Validation: 0it [00:00, ?it/s]"
      ]
     },
     "metadata": {},
     "output_type": "display_data"
    },
    {
     "name": "stderr",
     "output_type": "stream",
     "text": [
      "C:\\Users\\Иван\\OneDrive\\Рабочий стол\\Lukyanenko-BS-Thesis\\src\\manipulation_helpers\\st.py:88: RuntimeWarning: invalid value encountered in scalar divide\n",
      "  f1 = np.nan_to_num(2 * precision * recall / (precision + recall))\n",
      "C:\\Users\\Иван\\OneDrive\\Рабочий стол\\Lukyanenko-BS-Thesis\\src\\manipulation_helpers\\st.py:88: RuntimeWarning: invalid value encountered in scalar divide\n",
      "  f1 = np.nan_to_num(2 * precision * recall / (precision + recall))\n",
      "E:\\anaconda\\envs\\manipulation_env_v4\\Lib\\site-packages\\sklearn\\metrics\\_classification.py:1344: UndefinedMetricWarning: Recall is ill-defined and being set to 0.0 due to no true samples. Use `zero_division` parameter to control this behavior.\n",
      "  _warn_prf(average, modifier, msg_start, len(result))\n",
      "C:\\Users\\Иван\\OneDrive\\Рабочий стол\\Lukyanenko-BS-Thesis\\src\\manipulation_helpers\\st.py:88: RuntimeWarning: invalid value encountered in scalar divide\n",
      "  f1 = np.nan_to_num(2 * precision * recall / (precision + recall))\n",
      "C:\\Users\\Иван\\OneDrive\\Рабочий стол\\Lukyanenko-BS-Thesis\\src\\manipulation_helpers\\st.py:88: RuntimeWarning: invalid value encountered in scalar divide\n",
      "  f1 = np.nan_to_num(2 * precision * recall / (precision + recall))\n",
      "E:\\anaconda\\envs\\manipulation_env_v4\\Lib\\site-packages\\sklearn\\metrics\\_classification.py:1344: UndefinedMetricWarning: Recall is ill-defined and being set to 0.0 due to no true samples. Use `zero_division` parameter to control this behavior.\n",
      "  _warn_prf(average, modifier, msg_start, len(result))\n",
      "C:\\Users\\Иван\\OneDrive\\Рабочий стол\\Lukyanenko-BS-Thesis\\src\\manipulation_helpers\\st.py:88: RuntimeWarning: invalid value encountered in scalar divide\n",
      "  f1 = np.nan_to_num(2 * precision * recall / (precision + recall))\n",
      "C:\\Users\\Иван\\OneDrive\\Рабочий стол\\Lukyanenko-BS-Thesis\\src\\manipulation_helpers\\st.py:88: RuntimeWarning: invalid value encountered in scalar divide\n",
      "  f1 = np.nan_to_num(2 * precision * recall / (precision + recall))\n",
      "E:\\anaconda\\envs\\manipulation_env_v4\\Lib\\site-packages\\sklearn\\metrics\\_classification.py:1344: UndefinedMetricWarning: Recall is ill-defined and being set to 0.0 due to no true samples. Use `zero_division` parameter to control this behavior.\n",
      "  _warn_prf(average, modifier, msg_start, len(result))\n",
      "C:\\Users\\Иван\\OneDrive\\Рабочий стол\\Lukyanenko-BS-Thesis\\src\\manipulation_helpers\\st.py:88: RuntimeWarning: invalid value encountered in scalar divide\n",
      "  f1 = np.nan_to_num(2 * precision * recall / (precision + recall))\n",
      "C:\\Users\\Иван\\OneDrive\\Рабочий стол\\Lukyanenko-BS-Thesis\\src\\manipulation_helpers\\st.py:88: RuntimeWarning: invalid value encountered in scalar divide\n",
      "  f1 = np.nan_to_num(2 * precision * recall / (precision + recall))\n",
      "E:\\anaconda\\envs\\manipulation_env_v4\\Lib\\site-packages\\sklearn\\metrics\\_classification.py:1344: UndefinedMetricWarning: Recall is ill-defined and being set to 0.0 due to no true samples. Use `zero_division` parameter to control this behavior.\n",
      "  _warn_prf(average, modifier, msg_start, len(result))\n",
      "C:\\Users\\Иван\\OneDrive\\Рабочий стол\\Lukyanenko-BS-Thesis\\src\\manipulation_helpers\\st.py:88: RuntimeWarning: invalid value encountered in scalar divide\n",
      "  f1 = np.nan_to_num(2 * precision * recall / (precision + recall))\n",
      "E:\\anaconda\\envs\\manipulation_env_v4\\Lib\\site-packages\\sklearn\\metrics\\_classification.py:1344: UndefinedMetricWarning: Recall is ill-defined and being set to 0.0 due to no true samples. Use `zero_division` parameter to control this behavior.\n",
      "  _warn_prf(average, modifier, msg_start, len(result))\n",
      "C:\\Users\\Иван\\OneDrive\\Рабочий стол\\Lukyanenko-BS-Thesis\\src\\manipulation_helpers\\st.py:88: RuntimeWarning: invalid value encountered in scalar divide\n",
      "  f1 = np.nan_to_num(2 * precision * recall / (precision + recall))\n"
     ]
    },
    {
     "data": {
      "application/vnd.jupyter.widget-view+json": {
       "model_id": "",
       "version_major": 2,
       "version_minor": 0
      },
      "text/plain": [
       "Validation: 0it [00:00, ?it/s]"
      ]
     },
     "metadata": {},
     "output_type": "display_data"
    },
    {
     "name": "stderr",
     "output_type": "stream",
     "text": [
      "C:\\Users\\Иван\\OneDrive\\Рабочий стол\\Lukyanenko-BS-Thesis\\src\\manipulation_helpers\\st.py:88: RuntimeWarning: invalid value encountered in scalar divide\n",
      "  f1 = np.nan_to_num(2 * precision * recall / (precision + recall))\n",
      "C:\\Users\\Иван\\OneDrive\\Рабочий стол\\Lukyanenko-BS-Thesis\\src\\manipulation_helpers\\st.py:88: RuntimeWarning: invalid value encountered in scalar divide\n",
      "  f1 = np.nan_to_num(2 * precision * recall / (precision + recall))\n",
      "E:\\anaconda\\envs\\manipulation_env_v4\\Lib\\site-packages\\sklearn\\metrics\\_classification.py:1344: UndefinedMetricWarning: Recall is ill-defined and being set to 0.0 due to no true samples. Use `zero_division` parameter to control this behavior.\n",
      "  _warn_prf(average, modifier, msg_start, len(result))\n",
      "C:\\Users\\Иван\\OneDrive\\Рабочий стол\\Lukyanenko-BS-Thesis\\src\\manipulation_helpers\\st.py:88: RuntimeWarning: invalid value encountered in scalar divide\n",
      "  f1 = np.nan_to_num(2 * precision * recall / (precision + recall))\n",
      "C:\\Users\\Иван\\OneDrive\\Рабочий стол\\Lukyanenko-BS-Thesis\\src\\manipulation_helpers\\st.py:88: RuntimeWarning: invalid value encountered in scalar divide\n",
      "  f1 = np.nan_to_num(2 * precision * recall / (precision + recall))\n",
      "E:\\anaconda\\envs\\manipulation_env_v4\\Lib\\site-packages\\sklearn\\metrics\\_classification.py:1344: UndefinedMetricWarning: Recall is ill-defined and being set to 0.0 due to no true samples. Use `zero_division` parameter to control this behavior.\n",
      "  _warn_prf(average, modifier, msg_start, len(result))\n",
      "C:\\Users\\Иван\\OneDrive\\Рабочий стол\\Lukyanenko-BS-Thesis\\src\\manipulation_helpers\\st.py:88: RuntimeWarning: invalid value encountered in scalar divide\n",
      "  f1 = np.nan_to_num(2 * precision * recall / (precision + recall))\n",
      "C:\\Users\\Иван\\OneDrive\\Рабочий стол\\Lukyanenko-BS-Thesis\\src\\manipulation_helpers\\st.py:88: RuntimeWarning: invalid value encountered in scalar divide\n",
      "  f1 = np.nan_to_num(2 * precision * recall / (precision + recall))\n",
      "E:\\anaconda\\envs\\manipulation_env_v4\\Lib\\site-packages\\sklearn\\metrics\\_classification.py:1344: UndefinedMetricWarning: Recall is ill-defined and being set to 0.0 due to no true samples. Use `zero_division` parameter to control this behavior.\n",
      "  _warn_prf(average, modifier, msg_start, len(result))\n",
      "C:\\Users\\Иван\\OneDrive\\Рабочий стол\\Lukyanenko-BS-Thesis\\src\\manipulation_helpers\\st.py:88: RuntimeWarning: invalid value encountered in scalar divide\n",
      "  f1 = np.nan_to_num(2 * precision * recall / (precision + recall))\n",
      "E:\\anaconda\\envs\\manipulation_env_v4\\Lib\\site-packages\\sklearn\\metrics\\_classification.py:1344: UndefinedMetricWarning: Recall is ill-defined and being set to 0.0 due to no true samples. Use `zero_division` parameter to control this behavior.\n",
      "  _warn_prf(average, modifier, msg_start, len(result))\n",
      "C:\\Users\\Иван\\OneDrive\\Рабочий стол\\Lukyanenko-BS-Thesis\\src\\manipulation_helpers\\st.py:88: RuntimeWarning: invalid value encountered in scalar divide\n",
      "  f1 = np.nan_to_num(2 * precision * recall / (precision + recall))\n",
      "E:\\anaconda\\envs\\manipulation_env_v4\\Lib\\site-packages\\sklearn\\metrics\\_classification.py:1344: UndefinedMetricWarning: Recall is ill-defined and being set to 0.0 due to no true samples. Use `zero_division` parameter to control this behavior.\n",
      "  _warn_prf(average, modifier, msg_start, len(result))\n",
      "C:\\Users\\Иван\\OneDrive\\Рабочий стол\\Lukyanenko-BS-Thesis\\src\\manipulation_helpers\\st.py:88: RuntimeWarning: invalid value encountered in scalar divide\n",
      "  f1 = np.nan_to_num(2 * precision * recall / (precision + recall))\n"
     ]
    },
    {
     "data": {
      "application/vnd.jupyter.widget-view+json": {
       "model_id": "",
       "version_major": 2,
       "version_minor": 0
      },
      "text/plain": [
       "Validation: 0it [00:00, ?it/s]"
      ]
     },
     "metadata": {},
     "output_type": "display_data"
    },
    {
     "name": "stderr",
     "output_type": "stream",
     "text": [
      "C:\\Users\\Иван\\OneDrive\\Рабочий стол\\Lukyanenko-BS-Thesis\\src\\manipulation_helpers\\st.py:88: RuntimeWarning: invalid value encountered in scalar divide\n",
      "  f1 = np.nan_to_num(2 * precision * recall / (precision + recall))\n",
      "C:\\Users\\Иван\\OneDrive\\Рабочий стол\\Lukyanenko-BS-Thesis\\src\\manipulation_helpers\\st.py:88: RuntimeWarning: invalid value encountered in scalar divide\n",
      "  f1 = np.nan_to_num(2 * precision * recall / (precision + recall))\n",
      "E:\\anaconda\\envs\\manipulation_env_v4\\Lib\\site-packages\\sklearn\\metrics\\_classification.py:1344: UndefinedMetricWarning: Recall is ill-defined and being set to 0.0 due to no true samples. Use `zero_division` parameter to control this behavior.\n",
      "  _warn_prf(average, modifier, msg_start, len(result))\n",
      "C:\\Users\\Иван\\OneDrive\\Рабочий стол\\Lukyanenko-BS-Thesis\\src\\manipulation_helpers\\st.py:88: RuntimeWarning: invalid value encountered in scalar divide\n",
      "  f1 = np.nan_to_num(2 * precision * recall / (precision + recall))\n",
      "C:\\Users\\Иван\\OneDrive\\Рабочий стол\\Lukyanenko-BS-Thesis\\src\\manipulation_helpers\\st.py:88: RuntimeWarning: invalid value encountered in scalar divide\n",
      "  f1 = np.nan_to_num(2 * precision * recall / (precision + recall))\n",
      "E:\\anaconda\\envs\\manipulation_env_v4\\Lib\\site-packages\\sklearn\\metrics\\_classification.py:1344: UndefinedMetricWarning: Recall is ill-defined and being set to 0.0 due to no true samples. Use `zero_division` parameter to control this behavior.\n",
      "  _warn_prf(average, modifier, msg_start, len(result))\n",
      "C:\\Users\\Иван\\OneDrive\\Рабочий стол\\Lukyanenko-BS-Thesis\\src\\manipulation_helpers\\st.py:88: RuntimeWarning: invalid value encountered in scalar divide\n",
      "  f1 = np.nan_to_num(2 * precision * recall / (precision + recall))\n",
      "C:\\Users\\Иван\\OneDrive\\Рабочий стол\\Lukyanenko-BS-Thesis\\src\\manipulation_helpers\\st.py:88: RuntimeWarning: invalid value encountered in scalar divide\n",
      "  f1 = np.nan_to_num(2 * precision * recall / (precision + recall))\n",
      "E:\\anaconda\\envs\\manipulation_env_v4\\Lib\\site-packages\\sklearn\\metrics\\_classification.py:1344: UndefinedMetricWarning: Recall is ill-defined and being set to 0.0 due to no true samples. Use `zero_division` parameter to control this behavior.\n",
      "  _warn_prf(average, modifier, msg_start, len(result))\n",
      "C:\\Users\\Иван\\OneDrive\\Рабочий стол\\Lukyanenko-BS-Thesis\\src\\manipulation_helpers\\st.py:88: RuntimeWarning: invalid value encountered in scalar divide\n",
      "  f1 = np.nan_to_num(2 * precision * recall / (precision + recall))\n",
      "E:\\anaconda\\envs\\manipulation_env_v4\\Lib\\site-packages\\sklearn\\metrics\\_classification.py:1344: UndefinedMetricWarning: Recall is ill-defined and being set to 0.0 due to no true samples. Use `zero_division` parameter to control this behavior.\n",
      "  _warn_prf(average, modifier, msg_start, len(result))\n",
      "C:\\Users\\Иван\\OneDrive\\Рабочий стол\\Lukyanenko-BS-Thesis\\src\\manipulation_helpers\\st.py:88: RuntimeWarning: invalid value encountered in scalar divide\n",
      "  f1 = np.nan_to_num(2 * precision * recall / (precision + recall))\n",
      "E:\\anaconda\\envs\\manipulation_env_v4\\Lib\\site-packages\\sklearn\\metrics\\_classification.py:1344: UndefinedMetricWarning: Recall is ill-defined and being set to 0.0 due to no true samples. Use `zero_division` parameter to control this behavior.\n",
      "  _warn_prf(average, modifier, msg_start, len(result))\n",
      "C:\\Users\\Иван\\OneDrive\\Рабочий стол\\Lukyanenko-BS-Thesis\\src\\manipulation_helpers\\st.py:88: RuntimeWarning: invalid value encountered in scalar divide\n",
      "  f1 = np.nan_to_num(2 * precision * recall / (precision + recall))\n"
     ]
    },
    {
     "data": {
      "application/vnd.jupyter.widget-view+json": {
       "model_id": "",
       "version_major": 2,
       "version_minor": 0
      },
      "text/plain": [
       "Validation: 0it [00:00, ?it/s]"
      ]
     },
     "metadata": {},
     "output_type": "display_data"
    },
    {
     "name": "stderr",
     "output_type": "stream",
     "text": [
      "C:\\Users\\Иван\\OneDrive\\Рабочий стол\\Lukyanenko-BS-Thesis\\src\\manipulation_helpers\\st.py:88: RuntimeWarning: invalid value encountered in scalar divide\n",
      "  f1 = np.nan_to_num(2 * precision * recall / (precision + recall))\n",
      "C:\\Users\\Иван\\OneDrive\\Рабочий стол\\Lukyanenko-BS-Thesis\\src\\manipulation_helpers\\st.py:88: RuntimeWarning: invalid value encountered in scalar divide\n",
      "  f1 = np.nan_to_num(2 * precision * recall / (precision + recall))\n",
      "E:\\anaconda\\envs\\manipulation_env_v4\\Lib\\site-packages\\sklearn\\metrics\\_classification.py:1344: UndefinedMetricWarning: Recall is ill-defined and being set to 0.0 due to no true samples. Use `zero_division` parameter to control this behavior.\n",
      "  _warn_prf(average, modifier, msg_start, len(result))\n",
      "C:\\Users\\Иван\\OneDrive\\Рабочий стол\\Lukyanenko-BS-Thesis\\src\\manipulation_helpers\\st.py:88: RuntimeWarning: invalid value encountered in scalar divide\n",
      "  f1 = np.nan_to_num(2 * precision * recall / (precision + recall))\n",
      "C:\\Users\\Иван\\OneDrive\\Рабочий стол\\Lukyanenko-BS-Thesis\\src\\manipulation_helpers\\st.py:88: RuntimeWarning: invalid value encountered in scalar divide\n",
      "  f1 = np.nan_to_num(2 * precision * recall / (precision + recall))\n",
      "E:\\anaconda\\envs\\manipulation_env_v4\\Lib\\site-packages\\sklearn\\metrics\\_classification.py:1344: UndefinedMetricWarning: Recall is ill-defined and being set to 0.0 due to no true samples. Use `zero_division` parameter to control this behavior.\n",
      "  _warn_prf(average, modifier, msg_start, len(result))\n",
      "C:\\Users\\Иван\\OneDrive\\Рабочий стол\\Lukyanenko-BS-Thesis\\src\\manipulation_helpers\\st.py:88: RuntimeWarning: invalid value encountered in scalar divide\n",
      "  f1 = np.nan_to_num(2 * precision * recall / (precision + recall))\n",
      "C:\\Users\\Иван\\OneDrive\\Рабочий стол\\Lukyanenko-BS-Thesis\\src\\manipulation_helpers\\st.py:88: RuntimeWarning: invalid value encountered in scalar divide\n",
      "  f1 = np.nan_to_num(2 * precision * recall / (precision + recall))\n",
      "E:\\anaconda\\envs\\manipulation_env_v4\\Lib\\site-packages\\sklearn\\metrics\\_classification.py:1344: UndefinedMetricWarning: Recall is ill-defined and being set to 0.0 due to no true samples. Use `zero_division` parameter to control this behavior.\n",
      "  _warn_prf(average, modifier, msg_start, len(result))\n",
      "C:\\Users\\Иван\\OneDrive\\Рабочий стол\\Lukyanenko-BS-Thesis\\src\\manipulation_helpers\\st.py:88: RuntimeWarning: invalid value encountered in scalar divide\n",
      "  f1 = np.nan_to_num(2 * precision * recall / (precision + recall))\n",
      "E:\\anaconda\\envs\\manipulation_env_v4\\Lib\\site-packages\\sklearn\\metrics\\_classification.py:1344: UndefinedMetricWarning: Recall is ill-defined and being set to 0.0 due to no true samples. Use `zero_division` parameter to control this behavior.\n",
      "  _warn_prf(average, modifier, msg_start, len(result))\n",
      "C:\\Users\\Иван\\OneDrive\\Рабочий стол\\Lukyanenko-BS-Thesis\\src\\manipulation_helpers\\st.py:88: RuntimeWarning: invalid value encountered in scalar divide\n",
      "  f1 = np.nan_to_num(2 * precision * recall / (precision + recall))\n",
      "E:\\anaconda\\envs\\manipulation_env_v4\\Lib\\site-packages\\sklearn\\metrics\\_classification.py:1344: UndefinedMetricWarning: Recall is ill-defined and being set to 0.0 due to no true samples. Use `zero_division` parameter to control this behavior.\n",
      "  _warn_prf(average, modifier, msg_start, len(result))\n",
      "C:\\Users\\Иван\\OneDrive\\Рабочий стол\\Lukyanenko-BS-Thesis\\src\\manipulation_helpers\\st.py:88: RuntimeWarning: invalid value encountered in scalar divide\n",
      "  f1 = np.nan_to_num(2 * precision * recall / (precision + recall))\n"
     ]
    },
    {
     "data": {
      "application/vnd.jupyter.widget-view+json": {
       "model_id": "",
       "version_major": 2,
       "version_minor": 0
      },
      "text/plain": [
       "Validation: 0it [00:00, ?it/s]"
      ]
     },
     "metadata": {},
     "output_type": "display_data"
    },
    {
     "name": "stderr",
     "output_type": "stream",
     "text": [
      "C:\\Users\\Иван\\OneDrive\\Рабочий стол\\Lukyanenko-BS-Thesis\\src\\manipulation_helpers\\st.py:88: RuntimeWarning: invalid value encountered in scalar divide\n",
      "  f1 = np.nan_to_num(2 * precision * recall / (precision + recall))\n",
      "C:\\Users\\Иван\\OneDrive\\Рабочий стол\\Lukyanenko-BS-Thesis\\src\\manipulation_helpers\\st.py:88: RuntimeWarning: invalid value encountered in scalar divide\n",
      "  f1 = np.nan_to_num(2 * precision * recall / (precision + recall))\n",
      "E:\\anaconda\\envs\\manipulation_env_v4\\Lib\\site-packages\\sklearn\\metrics\\_classification.py:1344: UndefinedMetricWarning: Recall is ill-defined and being set to 0.0 due to no true samples. Use `zero_division` parameter to control this behavior.\n",
      "  _warn_prf(average, modifier, msg_start, len(result))\n",
      "C:\\Users\\Иван\\OneDrive\\Рабочий стол\\Lukyanenko-BS-Thesis\\src\\manipulation_helpers\\st.py:88: RuntimeWarning: invalid value encountered in scalar divide\n",
      "  f1 = np.nan_to_num(2 * precision * recall / (precision + recall))\n",
      "C:\\Users\\Иван\\OneDrive\\Рабочий стол\\Lukyanenko-BS-Thesis\\src\\manipulation_helpers\\st.py:88: RuntimeWarning: invalid value encountered in scalar divide\n",
      "  f1 = np.nan_to_num(2 * precision * recall / (precision + recall))\n",
      "E:\\anaconda\\envs\\manipulation_env_v4\\Lib\\site-packages\\sklearn\\metrics\\_classification.py:1344: UndefinedMetricWarning: Recall is ill-defined and being set to 0.0 due to no true samples. Use `zero_division` parameter to control this behavior.\n",
      "  _warn_prf(average, modifier, msg_start, len(result))\n",
      "C:\\Users\\Иван\\OneDrive\\Рабочий стол\\Lukyanenko-BS-Thesis\\src\\manipulation_helpers\\st.py:88: RuntimeWarning: invalid value encountered in scalar divide\n",
      "  f1 = np.nan_to_num(2 * precision * recall / (precision + recall))\n",
      "C:\\Users\\Иван\\OneDrive\\Рабочий стол\\Lukyanenko-BS-Thesis\\src\\manipulation_helpers\\st.py:88: RuntimeWarning: invalid value encountered in scalar divide\n",
      "  f1 = np.nan_to_num(2 * precision * recall / (precision + recall))\n",
      "E:\\anaconda\\envs\\manipulation_env_v4\\Lib\\site-packages\\sklearn\\metrics\\_classification.py:1344: UndefinedMetricWarning: Recall is ill-defined and being set to 0.0 due to no true samples. Use `zero_division` parameter to control this behavior.\n",
      "  _warn_prf(average, modifier, msg_start, len(result))\n",
      "C:\\Users\\Иван\\OneDrive\\Рабочий стол\\Lukyanenko-BS-Thesis\\src\\manipulation_helpers\\st.py:88: RuntimeWarning: invalid value encountered in scalar divide\n",
      "  f1 = np.nan_to_num(2 * precision * recall / (precision + recall))\n",
      "E:\\anaconda\\envs\\manipulation_env_v4\\Lib\\site-packages\\sklearn\\metrics\\_classification.py:1344: UndefinedMetricWarning: Recall is ill-defined and being set to 0.0 due to no true samples. Use `zero_division` parameter to control this behavior.\n",
      "  _warn_prf(average, modifier, msg_start, len(result))\n",
      "C:\\Users\\Иван\\OneDrive\\Рабочий стол\\Lukyanenko-BS-Thesis\\src\\manipulation_helpers\\st.py:88: RuntimeWarning: invalid value encountered in scalar divide\n",
      "  f1 = np.nan_to_num(2 * precision * recall / (precision + recall))\n",
      "E:\\anaconda\\envs\\manipulation_env_v4\\Lib\\site-packages\\sklearn\\metrics\\_classification.py:1344: UndefinedMetricWarning: Recall is ill-defined and being set to 0.0 due to no true samples. Use `zero_division` parameter to control this behavior.\n",
      "  _warn_prf(average, modifier, msg_start, len(result))\n",
      "C:\\Users\\Иван\\OneDrive\\Рабочий стол\\Lukyanenko-BS-Thesis\\src\\manipulation_helpers\\st.py:88: RuntimeWarning: invalid value encountered in scalar divide\n",
      "  f1 = np.nan_to_num(2 * precision * recall / (precision + recall))\n"
     ]
    },
    {
     "data": {
      "application/vnd.jupyter.widget-view+json": {
       "model_id": "",
       "version_major": 2,
       "version_minor": 0
      },
      "text/plain": [
       "Validation: 0it [00:00, ?it/s]"
      ]
     },
     "metadata": {},
     "output_type": "display_data"
    },
    {
     "name": "stderr",
     "output_type": "stream",
     "text": [
      "C:\\Users\\Иван\\OneDrive\\Рабочий стол\\Lukyanenko-BS-Thesis\\src\\manipulation_helpers\\st.py:88: RuntimeWarning: invalid value encountered in scalar divide\n",
      "  f1 = np.nan_to_num(2 * precision * recall / (precision + recall))\n",
      "C:\\Users\\Иван\\OneDrive\\Рабочий стол\\Lukyanenko-BS-Thesis\\src\\manipulation_helpers\\st.py:88: RuntimeWarning: invalid value encountered in scalar divide\n",
      "  f1 = np.nan_to_num(2 * precision * recall / (precision + recall))\n",
      "E:\\anaconda\\envs\\manipulation_env_v4\\Lib\\site-packages\\sklearn\\metrics\\_classification.py:1344: UndefinedMetricWarning: Recall is ill-defined and being set to 0.0 due to no true samples. Use `zero_division` parameter to control this behavior.\n",
      "  _warn_prf(average, modifier, msg_start, len(result))\n",
      "C:\\Users\\Иван\\OneDrive\\Рабочий стол\\Lukyanenko-BS-Thesis\\src\\manipulation_helpers\\st.py:88: RuntimeWarning: invalid value encountered in scalar divide\n",
      "  f1 = np.nan_to_num(2 * precision * recall / (precision + recall))\n",
      "C:\\Users\\Иван\\OneDrive\\Рабочий стол\\Lukyanenko-BS-Thesis\\src\\manipulation_helpers\\st.py:88: RuntimeWarning: invalid value encountered in scalar divide\n",
      "  f1 = np.nan_to_num(2 * precision * recall / (precision + recall))\n",
      "E:\\anaconda\\envs\\manipulation_env_v4\\Lib\\site-packages\\sklearn\\metrics\\_classification.py:1344: UndefinedMetricWarning: Recall is ill-defined and being set to 0.0 due to no true samples. Use `zero_division` parameter to control this behavior.\n",
      "  _warn_prf(average, modifier, msg_start, len(result))\n",
      "C:\\Users\\Иван\\OneDrive\\Рабочий стол\\Lukyanenko-BS-Thesis\\src\\manipulation_helpers\\st.py:88: RuntimeWarning: invalid value encountered in scalar divide\n",
      "  f1 = np.nan_to_num(2 * precision * recall / (precision + recall))\n",
      "C:\\Users\\Иван\\OneDrive\\Рабочий стол\\Lukyanenko-BS-Thesis\\src\\manipulation_helpers\\st.py:88: RuntimeWarning: invalid value encountered in scalar divide\n",
      "  f1 = np.nan_to_num(2 * precision * recall / (precision + recall))\n",
      "E:\\anaconda\\envs\\manipulation_env_v4\\Lib\\site-packages\\sklearn\\metrics\\_classification.py:1344: UndefinedMetricWarning: Recall is ill-defined and being set to 0.0 due to no true samples. Use `zero_division` parameter to control this behavior.\n",
      "  _warn_prf(average, modifier, msg_start, len(result))\n",
      "C:\\Users\\Иван\\OneDrive\\Рабочий стол\\Lukyanenko-BS-Thesis\\src\\manipulation_helpers\\st.py:88: RuntimeWarning: invalid value encountered in scalar divide\n",
      "  f1 = np.nan_to_num(2 * precision * recall / (precision + recall))\n",
      "E:\\anaconda\\envs\\manipulation_env_v4\\Lib\\site-packages\\sklearn\\metrics\\_classification.py:1344: UndefinedMetricWarning: Recall is ill-defined and being set to 0.0 due to no true samples. Use `zero_division` parameter to control this behavior.\n",
      "  _warn_prf(average, modifier, msg_start, len(result))\n",
      "C:\\Users\\Иван\\OneDrive\\Рабочий стол\\Lukyanenko-BS-Thesis\\src\\manipulation_helpers\\st.py:88: RuntimeWarning: invalid value encountered in scalar divide\n",
      "  f1 = np.nan_to_num(2 * precision * recall / (precision + recall))\n",
      "E:\\anaconda\\envs\\manipulation_env_v4\\Lib\\site-packages\\sklearn\\metrics\\_classification.py:1344: UndefinedMetricWarning: Recall is ill-defined and being set to 0.0 due to no true samples. Use `zero_division` parameter to control this behavior.\n",
      "  _warn_prf(average, modifier, msg_start, len(result))\n",
      "C:\\Users\\Иван\\OneDrive\\Рабочий стол\\Lukyanenko-BS-Thesis\\src\\manipulation_helpers\\st.py:88: RuntimeWarning: invalid value encountered in scalar divide\n",
      "  f1 = np.nan_to_num(2 * precision * recall / (precision + recall))\n"
     ]
    },
    {
     "data": {
      "application/vnd.jupyter.widget-view+json": {
       "model_id": "",
       "version_major": 2,
       "version_minor": 0
      },
      "text/plain": [
       "Validation: 0it [00:00, ?it/s]"
      ]
     },
     "metadata": {},
     "output_type": "display_data"
    },
    {
     "name": "stderr",
     "output_type": "stream",
     "text": [
      "C:\\Users\\Иван\\OneDrive\\Рабочий стол\\Lukyanenko-BS-Thesis\\src\\manipulation_helpers\\st.py:88: RuntimeWarning: invalid value encountered in scalar divide\n",
      "  f1 = np.nan_to_num(2 * precision * recall / (precision + recall))\n",
      "C:\\Users\\Иван\\OneDrive\\Рабочий стол\\Lukyanenko-BS-Thesis\\src\\manipulation_helpers\\st.py:88: RuntimeWarning: invalid value encountered in scalar divide\n",
      "  f1 = np.nan_to_num(2 * precision * recall / (precision + recall))\n",
      "E:\\anaconda\\envs\\manipulation_env_v4\\Lib\\site-packages\\sklearn\\metrics\\_classification.py:1344: UndefinedMetricWarning: Recall is ill-defined and being set to 0.0 due to no true samples. Use `zero_division` parameter to control this behavior.\n",
      "  _warn_prf(average, modifier, msg_start, len(result))\n",
      "C:\\Users\\Иван\\OneDrive\\Рабочий стол\\Lukyanenko-BS-Thesis\\src\\manipulation_helpers\\st.py:88: RuntimeWarning: invalid value encountered in scalar divide\n",
      "  f1 = np.nan_to_num(2 * precision * recall / (precision + recall))\n",
      "C:\\Users\\Иван\\OneDrive\\Рабочий стол\\Lukyanenko-BS-Thesis\\src\\manipulation_helpers\\st.py:88: RuntimeWarning: invalid value encountered in scalar divide\n",
      "  f1 = np.nan_to_num(2 * precision * recall / (precision + recall))\n",
      "E:\\anaconda\\envs\\manipulation_env_v4\\Lib\\site-packages\\sklearn\\metrics\\_classification.py:1344: UndefinedMetricWarning: Recall is ill-defined and being set to 0.0 due to no true samples. Use `zero_division` parameter to control this behavior.\n",
      "  _warn_prf(average, modifier, msg_start, len(result))\n",
      "C:\\Users\\Иван\\OneDrive\\Рабочий стол\\Lukyanenko-BS-Thesis\\src\\manipulation_helpers\\st.py:88: RuntimeWarning: invalid value encountered in scalar divide\n",
      "  f1 = np.nan_to_num(2 * precision * recall / (precision + recall))\n",
      "C:\\Users\\Иван\\OneDrive\\Рабочий стол\\Lukyanenko-BS-Thesis\\src\\manipulation_helpers\\st.py:88: RuntimeWarning: invalid value encountered in scalar divide\n",
      "  f1 = np.nan_to_num(2 * precision * recall / (precision + recall))\n",
      "E:\\anaconda\\envs\\manipulation_env_v4\\Lib\\site-packages\\sklearn\\metrics\\_classification.py:1344: UndefinedMetricWarning: Recall is ill-defined and being set to 0.0 due to no true samples. Use `zero_division` parameter to control this behavior.\n",
      "  _warn_prf(average, modifier, msg_start, len(result))\n",
      "C:\\Users\\Иван\\OneDrive\\Рабочий стол\\Lukyanenko-BS-Thesis\\src\\manipulation_helpers\\st.py:88: RuntimeWarning: invalid value encountered in scalar divide\n",
      "  f1 = np.nan_to_num(2 * precision * recall / (precision + recall))\n",
      "E:\\anaconda\\envs\\manipulation_env_v4\\Lib\\site-packages\\sklearn\\metrics\\_classification.py:1344: UndefinedMetricWarning: Recall is ill-defined and being set to 0.0 due to no true samples. Use `zero_division` parameter to control this behavior.\n",
      "  _warn_prf(average, modifier, msg_start, len(result))\n",
      "C:\\Users\\Иван\\OneDrive\\Рабочий стол\\Lukyanenko-BS-Thesis\\src\\manipulation_helpers\\st.py:88: RuntimeWarning: invalid value encountered in scalar divide\n",
      "  f1 = np.nan_to_num(2 * precision * recall / (precision + recall))\n",
      "E:\\anaconda\\envs\\manipulation_env_v4\\Lib\\site-packages\\sklearn\\metrics\\_classification.py:1344: UndefinedMetricWarning: Recall is ill-defined and being set to 0.0 due to no true samples. Use `zero_division` parameter to control this behavior.\n",
      "  _warn_prf(average, modifier, msg_start, len(result))\n",
      "C:\\Users\\Иван\\OneDrive\\Рабочий стол\\Lukyanenko-BS-Thesis\\src\\manipulation_helpers\\st.py:88: RuntimeWarning: invalid value encountered in scalar divide\n",
      "  f1 = np.nan_to_num(2 * precision * recall / (precision + recall))\n"
     ]
    },
    {
     "data": {
      "application/vnd.jupyter.widget-view+json": {
       "model_id": "",
       "version_major": 2,
       "version_minor": 0
      },
      "text/plain": [
       "Validation: 0it [00:00, ?it/s]"
      ]
     },
     "metadata": {},
     "output_type": "display_data"
    },
    {
     "name": "stderr",
     "output_type": "stream",
     "text": [
      "C:\\Users\\Иван\\OneDrive\\Рабочий стол\\Lukyanenko-BS-Thesis\\src\\manipulation_helpers\\st.py:88: RuntimeWarning: invalid value encountered in scalar divide\n",
      "  f1 = np.nan_to_num(2 * precision * recall / (precision + recall))\n",
      "C:\\Users\\Иван\\OneDrive\\Рабочий стол\\Lukyanenko-BS-Thesis\\src\\manipulation_helpers\\st.py:88: RuntimeWarning: invalid value encountered in scalar divide\n",
      "  f1 = np.nan_to_num(2 * precision * recall / (precision + recall))\n",
      "E:\\anaconda\\envs\\manipulation_env_v4\\Lib\\site-packages\\sklearn\\metrics\\_classification.py:1344: UndefinedMetricWarning: Recall is ill-defined and being set to 0.0 due to no true samples. Use `zero_division` parameter to control this behavior.\n",
      "  _warn_prf(average, modifier, msg_start, len(result))\n",
      "C:\\Users\\Иван\\OneDrive\\Рабочий стол\\Lukyanenko-BS-Thesis\\src\\manipulation_helpers\\st.py:88: RuntimeWarning: invalid value encountered in scalar divide\n",
      "  f1 = np.nan_to_num(2 * precision * recall / (precision + recall))\n",
      "C:\\Users\\Иван\\OneDrive\\Рабочий стол\\Lukyanenko-BS-Thesis\\src\\manipulation_helpers\\st.py:88: RuntimeWarning: invalid value encountered in scalar divide\n",
      "  f1 = np.nan_to_num(2 * precision * recall / (precision + recall))\n",
      "E:\\anaconda\\envs\\manipulation_env_v4\\Lib\\site-packages\\sklearn\\metrics\\_classification.py:1344: UndefinedMetricWarning: Recall is ill-defined and being set to 0.0 due to no true samples. Use `zero_division` parameter to control this behavior.\n",
      "  _warn_prf(average, modifier, msg_start, len(result))\n",
      "C:\\Users\\Иван\\OneDrive\\Рабочий стол\\Lukyanenko-BS-Thesis\\src\\manipulation_helpers\\st.py:88: RuntimeWarning: invalid value encountered in scalar divide\n",
      "  f1 = np.nan_to_num(2 * precision * recall / (precision + recall))\n",
      "C:\\Users\\Иван\\OneDrive\\Рабочий стол\\Lukyanenko-BS-Thesis\\src\\manipulation_helpers\\st.py:88: RuntimeWarning: invalid value encountered in scalar divide\n",
      "  f1 = np.nan_to_num(2 * precision * recall / (precision + recall))\n",
      "E:\\anaconda\\envs\\manipulation_env_v4\\Lib\\site-packages\\sklearn\\metrics\\_classification.py:1344: UndefinedMetricWarning: Recall is ill-defined and being set to 0.0 due to no true samples. Use `zero_division` parameter to control this behavior.\n",
      "  _warn_prf(average, modifier, msg_start, len(result))\n",
      "C:\\Users\\Иван\\OneDrive\\Рабочий стол\\Lukyanenko-BS-Thesis\\src\\manipulation_helpers\\st.py:88: RuntimeWarning: invalid value encountered in scalar divide\n",
      "  f1 = np.nan_to_num(2 * precision * recall / (precision + recall))\n",
      "E:\\anaconda\\envs\\manipulation_env_v4\\Lib\\site-packages\\sklearn\\metrics\\_classification.py:1344: UndefinedMetricWarning: Recall is ill-defined and being set to 0.0 due to no true samples. Use `zero_division` parameter to control this behavior.\n",
      "  _warn_prf(average, modifier, msg_start, len(result))\n",
      "C:\\Users\\Иван\\OneDrive\\Рабочий стол\\Lukyanenko-BS-Thesis\\src\\manipulation_helpers\\st.py:88: RuntimeWarning: invalid value encountered in scalar divide\n",
      "  f1 = np.nan_to_num(2 * precision * recall / (precision + recall))\n",
      "E:\\anaconda\\envs\\manipulation_env_v4\\Lib\\site-packages\\sklearn\\metrics\\_classification.py:1344: UndefinedMetricWarning: Recall is ill-defined and being set to 0.0 due to no true samples. Use `zero_division` parameter to control this behavior.\n",
      "  _warn_prf(average, modifier, msg_start, len(result))\n",
      "C:\\Users\\Иван\\OneDrive\\Рабочий стол\\Lukyanenko-BS-Thesis\\src\\manipulation_helpers\\st.py:88: RuntimeWarning: invalid value encountered in scalar divide\n",
      "  f1 = np.nan_to_num(2 * precision * recall / (precision + recall))\n"
     ]
    },
    {
     "data": {
      "application/vnd.jupyter.widget-view+json": {
       "model_id": "",
       "version_major": 2,
       "version_minor": 0
      },
      "text/plain": [
       "Validation: 0it [00:00, ?it/s]"
      ]
     },
     "metadata": {},
     "output_type": "display_data"
    },
    {
     "name": "stderr",
     "output_type": "stream",
     "text": [
      "C:\\Users\\Иван\\OneDrive\\Рабочий стол\\Lukyanenko-BS-Thesis\\src\\manipulation_helpers\\st.py:88: RuntimeWarning: invalid value encountered in scalar divide\n",
      "  f1 = np.nan_to_num(2 * precision * recall / (precision + recall))\n",
      "C:\\Users\\Иван\\OneDrive\\Рабочий стол\\Lukyanenko-BS-Thesis\\src\\manipulation_helpers\\st.py:88: RuntimeWarning: invalid value encountered in scalar divide\n",
      "  f1 = np.nan_to_num(2 * precision * recall / (precision + recall))\n",
      "E:\\anaconda\\envs\\manipulation_env_v4\\Lib\\site-packages\\sklearn\\metrics\\_classification.py:1344: UndefinedMetricWarning: Recall is ill-defined and being set to 0.0 due to no true samples. Use `zero_division` parameter to control this behavior.\n",
      "  _warn_prf(average, modifier, msg_start, len(result))\n",
      "C:\\Users\\Иван\\OneDrive\\Рабочий стол\\Lukyanenko-BS-Thesis\\src\\manipulation_helpers\\st.py:88: RuntimeWarning: invalid value encountered in scalar divide\n",
      "  f1 = np.nan_to_num(2 * precision * recall / (precision + recall))\n",
      "C:\\Users\\Иван\\OneDrive\\Рабочий стол\\Lukyanenko-BS-Thesis\\src\\manipulation_helpers\\st.py:88: RuntimeWarning: invalid value encountered in scalar divide\n",
      "  f1 = np.nan_to_num(2 * precision * recall / (precision + recall))\n",
      "E:\\anaconda\\envs\\manipulation_env_v4\\Lib\\site-packages\\sklearn\\metrics\\_classification.py:1344: UndefinedMetricWarning: Recall is ill-defined and being set to 0.0 due to no true samples. Use `zero_division` parameter to control this behavior.\n",
      "  _warn_prf(average, modifier, msg_start, len(result))\n",
      "C:\\Users\\Иван\\OneDrive\\Рабочий стол\\Lukyanenko-BS-Thesis\\src\\manipulation_helpers\\st.py:88: RuntimeWarning: invalid value encountered in scalar divide\n",
      "  f1 = np.nan_to_num(2 * precision * recall / (precision + recall))\n",
      "C:\\Users\\Иван\\OneDrive\\Рабочий стол\\Lukyanenko-BS-Thesis\\src\\manipulation_helpers\\st.py:88: RuntimeWarning: invalid value encountered in scalar divide\n",
      "  f1 = np.nan_to_num(2 * precision * recall / (precision + recall))\n",
      "E:\\anaconda\\envs\\manipulation_env_v4\\Lib\\site-packages\\sklearn\\metrics\\_classification.py:1344: UndefinedMetricWarning: Recall is ill-defined and being set to 0.0 due to no true samples. Use `zero_division` parameter to control this behavior.\n",
      "  _warn_prf(average, modifier, msg_start, len(result))\n",
      "C:\\Users\\Иван\\OneDrive\\Рабочий стол\\Lukyanenko-BS-Thesis\\src\\manipulation_helpers\\st.py:88: RuntimeWarning: invalid value encountered in scalar divide\n",
      "  f1 = np.nan_to_num(2 * precision * recall / (precision + recall))\n",
      "E:\\anaconda\\envs\\manipulation_env_v4\\Lib\\site-packages\\sklearn\\metrics\\_classification.py:1344: UndefinedMetricWarning: Recall is ill-defined and being set to 0.0 due to no true samples. Use `zero_division` parameter to control this behavior.\n",
      "  _warn_prf(average, modifier, msg_start, len(result))\n",
      "C:\\Users\\Иван\\OneDrive\\Рабочий стол\\Lukyanenko-BS-Thesis\\src\\manipulation_helpers\\st.py:88: RuntimeWarning: invalid value encountered in scalar divide\n",
      "  f1 = np.nan_to_num(2 * precision * recall / (precision + recall))\n",
      "E:\\anaconda\\envs\\manipulation_env_v4\\Lib\\site-packages\\sklearn\\metrics\\_classification.py:1344: UndefinedMetricWarning: Recall is ill-defined and being set to 0.0 due to no true samples. Use `zero_division` parameter to control this behavior.\n",
      "  _warn_prf(average, modifier, msg_start, len(result))\n",
      "C:\\Users\\Иван\\OneDrive\\Рабочий стол\\Lukyanenko-BS-Thesis\\src\\manipulation_helpers\\st.py:88: RuntimeWarning: invalid value encountered in scalar divide\n",
      "  f1 = np.nan_to_num(2 * precision * recall / (precision + recall))\n"
     ]
    },
    {
     "data": {
      "application/vnd.jupyter.widget-view+json": {
       "model_id": "",
       "version_major": 2,
       "version_minor": 0
      },
      "text/plain": [
       "Validation: 0it [00:00, ?it/s]"
      ]
     },
     "metadata": {},
     "output_type": "display_data"
    },
    {
     "name": "stderr",
     "output_type": "stream",
     "text": [
      "C:\\Users\\Иван\\OneDrive\\Рабочий стол\\Lukyanenko-BS-Thesis\\src\\manipulation_helpers\\st.py:88: RuntimeWarning: invalid value encountered in scalar divide\n",
      "  f1 = np.nan_to_num(2 * precision * recall / (precision + recall))\n",
      "C:\\Users\\Иван\\OneDrive\\Рабочий стол\\Lukyanenko-BS-Thesis\\src\\manipulation_helpers\\st.py:88: RuntimeWarning: invalid value encountered in scalar divide\n",
      "  f1 = np.nan_to_num(2 * precision * recall / (precision + recall))\n",
      "E:\\anaconda\\envs\\manipulation_env_v4\\Lib\\site-packages\\sklearn\\metrics\\_classification.py:1344: UndefinedMetricWarning: Recall is ill-defined and being set to 0.0 due to no true samples. Use `zero_division` parameter to control this behavior.\n",
      "  _warn_prf(average, modifier, msg_start, len(result))\n",
      "C:\\Users\\Иван\\OneDrive\\Рабочий стол\\Lukyanenko-BS-Thesis\\src\\manipulation_helpers\\st.py:88: RuntimeWarning: invalid value encountered in scalar divide\n",
      "  f1 = np.nan_to_num(2 * precision * recall / (precision + recall))\n",
      "C:\\Users\\Иван\\OneDrive\\Рабочий стол\\Lukyanenko-BS-Thesis\\src\\manipulation_helpers\\st.py:88: RuntimeWarning: invalid value encountered in scalar divide\n",
      "  f1 = np.nan_to_num(2 * precision * recall / (precision + recall))\n",
      "E:\\anaconda\\envs\\manipulation_env_v4\\Lib\\site-packages\\sklearn\\metrics\\_classification.py:1344: UndefinedMetricWarning: Recall is ill-defined and being set to 0.0 due to no true samples. Use `zero_division` parameter to control this behavior.\n",
      "  _warn_prf(average, modifier, msg_start, len(result))\n",
      "C:\\Users\\Иван\\OneDrive\\Рабочий стол\\Lukyanenko-BS-Thesis\\src\\manipulation_helpers\\st.py:88: RuntimeWarning: invalid value encountered in scalar divide\n",
      "  f1 = np.nan_to_num(2 * precision * recall / (precision + recall))\n",
      "C:\\Users\\Иван\\OneDrive\\Рабочий стол\\Lukyanenko-BS-Thesis\\src\\manipulation_helpers\\st.py:88: RuntimeWarning: invalid value encountered in scalar divide\n",
      "  f1 = np.nan_to_num(2 * precision * recall / (precision + recall))\n",
      "E:\\anaconda\\envs\\manipulation_env_v4\\Lib\\site-packages\\sklearn\\metrics\\_classification.py:1344: UndefinedMetricWarning: Recall is ill-defined and being set to 0.0 due to no true samples. Use `zero_division` parameter to control this behavior.\n",
      "  _warn_prf(average, modifier, msg_start, len(result))\n",
      "C:\\Users\\Иван\\OneDrive\\Рабочий стол\\Lukyanenko-BS-Thesis\\src\\manipulation_helpers\\st.py:88: RuntimeWarning: invalid value encountered in scalar divide\n",
      "  f1 = np.nan_to_num(2 * precision * recall / (precision + recall))\n",
      "E:\\anaconda\\envs\\manipulation_env_v4\\Lib\\site-packages\\sklearn\\metrics\\_classification.py:1344: UndefinedMetricWarning: Recall is ill-defined and being set to 0.0 due to no true samples. Use `zero_division` parameter to control this behavior.\n",
      "  _warn_prf(average, modifier, msg_start, len(result))\n",
      "C:\\Users\\Иван\\OneDrive\\Рабочий стол\\Lukyanenko-BS-Thesis\\src\\manipulation_helpers\\st.py:88: RuntimeWarning: invalid value encountered in scalar divide\n",
      "  f1 = np.nan_to_num(2 * precision * recall / (precision + recall))\n",
      "E:\\anaconda\\envs\\manipulation_env_v4\\Lib\\site-packages\\sklearn\\metrics\\_classification.py:1344: UndefinedMetricWarning: Recall is ill-defined and being set to 0.0 due to no true samples. Use `zero_division` parameter to control this behavior.\n",
      "  _warn_prf(average, modifier, msg_start, len(result))\n",
      "C:\\Users\\Иван\\OneDrive\\Рабочий стол\\Lukyanenko-BS-Thesis\\src\\manipulation_helpers\\st.py:88: RuntimeWarning: invalid value encountered in scalar divide\n",
      "  f1 = np.nan_to_num(2 * precision * recall / (precision + recall))\n"
     ]
    },
    {
     "data": {
      "application/vnd.jupyter.widget-view+json": {
       "model_id": "",
       "version_major": 2,
       "version_minor": 0
      },
      "text/plain": [
       "Validation: 0it [00:00, ?it/s]"
      ]
     },
     "metadata": {},
     "output_type": "display_data"
    },
    {
     "name": "stderr",
     "output_type": "stream",
     "text": [
      "C:\\Users\\Иван\\OneDrive\\Рабочий стол\\Lukyanenko-BS-Thesis\\src\\manipulation_helpers\\st.py:88: RuntimeWarning: invalid value encountered in scalar divide\n",
      "  f1 = np.nan_to_num(2 * precision * recall / (precision + recall))\n",
      "C:\\Users\\Иван\\OneDrive\\Рабочий стол\\Lukyanenko-BS-Thesis\\src\\manipulation_helpers\\st.py:88: RuntimeWarning: invalid value encountered in scalar divide\n",
      "  f1 = np.nan_to_num(2 * precision * recall / (precision + recall))\n",
      "E:\\anaconda\\envs\\manipulation_env_v4\\Lib\\site-packages\\sklearn\\metrics\\_classification.py:1344: UndefinedMetricWarning: Recall is ill-defined and being set to 0.0 due to no true samples. Use `zero_division` parameter to control this behavior.\n",
      "  _warn_prf(average, modifier, msg_start, len(result))\n",
      "C:\\Users\\Иван\\OneDrive\\Рабочий стол\\Lukyanenko-BS-Thesis\\src\\manipulation_helpers\\st.py:88: RuntimeWarning: invalid value encountered in scalar divide\n",
      "  f1 = np.nan_to_num(2 * precision * recall / (precision + recall))\n",
      "C:\\Users\\Иван\\OneDrive\\Рабочий стол\\Lukyanenko-BS-Thesis\\src\\manipulation_helpers\\st.py:88: RuntimeWarning: invalid value encountered in scalar divide\n",
      "  f1 = np.nan_to_num(2 * precision * recall / (precision + recall))\n",
      "E:\\anaconda\\envs\\manipulation_env_v4\\Lib\\site-packages\\sklearn\\metrics\\_classification.py:1344: UndefinedMetricWarning: Recall is ill-defined and being set to 0.0 due to no true samples. Use `zero_division` parameter to control this behavior.\n",
      "  _warn_prf(average, modifier, msg_start, len(result))\n",
      "C:\\Users\\Иван\\OneDrive\\Рабочий стол\\Lukyanenko-BS-Thesis\\src\\manipulation_helpers\\st.py:88: RuntimeWarning: invalid value encountered in scalar divide\n",
      "  f1 = np.nan_to_num(2 * precision * recall / (precision + recall))\n",
      "C:\\Users\\Иван\\OneDrive\\Рабочий стол\\Lukyanenko-BS-Thesis\\src\\manipulation_helpers\\st.py:88: RuntimeWarning: invalid value encountered in scalar divide\n",
      "  f1 = np.nan_to_num(2 * precision * recall / (precision + recall))\n",
      "E:\\anaconda\\envs\\manipulation_env_v4\\Lib\\site-packages\\sklearn\\metrics\\_classification.py:1344: UndefinedMetricWarning: Recall is ill-defined and being set to 0.0 due to no true samples. Use `zero_division` parameter to control this behavior.\n",
      "  _warn_prf(average, modifier, msg_start, len(result))\n",
      "C:\\Users\\Иван\\OneDrive\\Рабочий стол\\Lukyanenko-BS-Thesis\\src\\manipulation_helpers\\st.py:88: RuntimeWarning: invalid value encountered in scalar divide\n",
      "  f1 = np.nan_to_num(2 * precision * recall / (precision + recall))\n",
      "E:\\anaconda\\envs\\manipulation_env_v4\\Lib\\site-packages\\sklearn\\metrics\\_classification.py:1344: UndefinedMetricWarning: Recall is ill-defined and being set to 0.0 due to no true samples. Use `zero_division` parameter to control this behavior.\n",
      "  _warn_prf(average, modifier, msg_start, len(result))\n",
      "C:\\Users\\Иван\\OneDrive\\Рабочий стол\\Lukyanenko-BS-Thesis\\src\\manipulation_helpers\\st.py:88: RuntimeWarning: invalid value encountered in scalar divide\n",
      "  f1 = np.nan_to_num(2 * precision * recall / (precision + recall))\n",
      "E:\\anaconda\\envs\\manipulation_env_v4\\Lib\\site-packages\\sklearn\\metrics\\_classification.py:1344: UndefinedMetricWarning: Recall is ill-defined and being set to 0.0 due to no true samples. Use `zero_division` parameter to control this behavior.\n",
      "  _warn_prf(average, modifier, msg_start, len(result))\n",
      "C:\\Users\\Иван\\OneDrive\\Рабочий стол\\Lukyanenko-BS-Thesis\\src\\manipulation_helpers\\st.py:88: RuntimeWarning: invalid value encountered in scalar divide\n",
      "  f1 = np.nan_to_num(2 * precision * recall / (precision + recall))\n"
     ]
    },
    {
     "data": {
      "application/vnd.jupyter.widget-view+json": {
       "model_id": "",
       "version_major": 2,
       "version_minor": 0
      },
      "text/plain": [
       "Validation: 0it [00:00, ?it/s]"
      ]
     },
     "metadata": {},
     "output_type": "display_data"
    },
    {
     "name": "stderr",
     "output_type": "stream",
     "text": [
      "C:\\Users\\Иван\\OneDrive\\Рабочий стол\\Lukyanenko-BS-Thesis\\src\\manipulation_helpers\\st.py:88: RuntimeWarning: invalid value encountered in scalar divide\n",
      "  f1 = np.nan_to_num(2 * precision * recall / (precision + recall))\n",
      "C:\\Users\\Иван\\OneDrive\\Рабочий стол\\Lukyanenko-BS-Thesis\\src\\manipulation_helpers\\st.py:88: RuntimeWarning: invalid value encountered in scalar divide\n",
      "  f1 = np.nan_to_num(2 * precision * recall / (precision + recall))\n",
      "E:\\anaconda\\envs\\manipulation_env_v4\\Lib\\site-packages\\sklearn\\metrics\\_classification.py:1344: UndefinedMetricWarning: Recall is ill-defined and being set to 0.0 due to no true samples. Use `zero_division` parameter to control this behavior.\n",
      "  _warn_prf(average, modifier, msg_start, len(result))\n",
      "C:\\Users\\Иван\\OneDrive\\Рабочий стол\\Lukyanenko-BS-Thesis\\src\\manipulation_helpers\\st.py:88: RuntimeWarning: invalid value encountered in scalar divide\n",
      "  f1 = np.nan_to_num(2 * precision * recall / (precision + recall))\n",
      "C:\\Users\\Иван\\OneDrive\\Рабочий стол\\Lukyanenko-BS-Thesis\\src\\manipulation_helpers\\st.py:88: RuntimeWarning: invalid value encountered in scalar divide\n",
      "  f1 = np.nan_to_num(2 * precision * recall / (precision + recall))\n",
      "E:\\anaconda\\envs\\manipulation_env_v4\\Lib\\site-packages\\sklearn\\metrics\\_classification.py:1344: UndefinedMetricWarning: Recall is ill-defined and being set to 0.0 due to no true samples. Use `zero_division` parameter to control this behavior.\n",
      "  _warn_prf(average, modifier, msg_start, len(result))\n",
      "C:\\Users\\Иван\\OneDrive\\Рабочий стол\\Lukyanenko-BS-Thesis\\src\\manipulation_helpers\\st.py:88: RuntimeWarning: invalid value encountered in scalar divide\n",
      "  f1 = np.nan_to_num(2 * precision * recall / (precision + recall))\n",
      "C:\\Users\\Иван\\OneDrive\\Рабочий стол\\Lukyanenko-BS-Thesis\\src\\manipulation_helpers\\st.py:88: RuntimeWarning: invalid value encountered in scalar divide\n",
      "  f1 = np.nan_to_num(2 * precision * recall / (precision + recall))\n",
      "E:\\anaconda\\envs\\manipulation_env_v4\\Lib\\site-packages\\sklearn\\metrics\\_classification.py:1344: UndefinedMetricWarning: Recall is ill-defined and being set to 0.0 due to no true samples. Use `zero_division` parameter to control this behavior.\n",
      "  _warn_prf(average, modifier, msg_start, len(result))\n",
      "C:\\Users\\Иван\\OneDrive\\Рабочий стол\\Lukyanenko-BS-Thesis\\src\\manipulation_helpers\\st.py:88: RuntimeWarning: invalid value encountered in scalar divide\n",
      "  f1 = np.nan_to_num(2 * precision * recall / (precision + recall))\n",
      "E:\\anaconda\\envs\\manipulation_env_v4\\Lib\\site-packages\\sklearn\\metrics\\_classification.py:1344: UndefinedMetricWarning: Recall is ill-defined and being set to 0.0 due to no true samples. Use `zero_division` parameter to control this behavior.\n",
      "  _warn_prf(average, modifier, msg_start, len(result))\n",
      "C:\\Users\\Иван\\OneDrive\\Рабочий стол\\Lukyanenko-BS-Thesis\\src\\manipulation_helpers\\st.py:88: RuntimeWarning: invalid value encountered in scalar divide\n",
      "  f1 = np.nan_to_num(2 * precision * recall / (precision + recall))\n",
      "E:\\anaconda\\envs\\manipulation_env_v4\\Lib\\site-packages\\sklearn\\metrics\\_classification.py:1344: UndefinedMetricWarning: Recall is ill-defined and being set to 0.0 due to no true samples. Use `zero_division` parameter to control this behavior.\n",
      "  _warn_prf(average, modifier, msg_start, len(result))\n",
      "C:\\Users\\Иван\\OneDrive\\Рабочий стол\\Lukyanenko-BS-Thesis\\src\\manipulation_helpers\\st.py:88: RuntimeWarning: invalid value encountered in scalar divide\n",
      "  f1 = np.nan_to_num(2 * precision * recall / (precision + recall))\n"
     ]
    },
    {
     "data": {
      "application/vnd.jupyter.widget-view+json": {
       "model_id": "",
       "version_major": 2,
       "version_minor": 0
      },
      "text/plain": [
       "Validation: 0it [00:00, ?it/s]"
      ]
     },
     "metadata": {},
     "output_type": "display_data"
    },
    {
     "name": "stderr",
     "output_type": "stream",
     "text": [
      "C:\\Users\\Иван\\OneDrive\\Рабочий стол\\Lukyanenko-BS-Thesis\\src\\manipulation_helpers\\st.py:88: RuntimeWarning: invalid value encountered in scalar divide\n",
      "  f1 = np.nan_to_num(2 * precision * recall / (precision + recall))\n",
      "C:\\Users\\Иван\\OneDrive\\Рабочий стол\\Lukyanenko-BS-Thesis\\src\\manipulation_helpers\\st.py:88: RuntimeWarning: invalid value encountered in scalar divide\n",
      "  f1 = np.nan_to_num(2 * precision * recall / (precision + recall))\n",
      "E:\\anaconda\\envs\\manipulation_env_v4\\Lib\\site-packages\\sklearn\\metrics\\_classification.py:1344: UndefinedMetricWarning: Recall is ill-defined and being set to 0.0 due to no true samples. Use `zero_division` parameter to control this behavior.\n",
      "  _warn_prf(average, modifier, msg_start, len(result))\n",
      "C:\\Users\\Иван\\OneDrive\\Рабочий стол\\Lukyanenko-BS-Thesis\\src\\manipulation_helpers\\st.py:88: RuntimeWarning: invalid value encountered in scalar divide\n",
      "  f1 = np.nan_to_num(2 * precision * recall / (precision + recall))\n",
      "C:\\Users\\Иван\\OneDrive\\Рабочий стол\\Lukyanenko-BS-Thesis\\src\\manipulation_helpers\\st.py:88: RuntimeWarning: invalid value encountered in scalar divide\n",
      "  f1 = np.nan_to_num(2 * precision * recall / (precision + recall))\n",
      "E:\\anaconda\\envs\\manipulation_env_v4\\Lib\\site-packages\\sklearn\\metrics\\_classification.py:1344: UndefinedMetricWarning: Recall is ill-defined and being set to 0.0 due to no true samples. Use `zero_division` parameter to control this behavior.\n",
      "  _warn_prf(average, modifier, msg_start, len(result))\n",
      "C:\\Users\\Иван\\OneDrive\\Рабочий стол\\Lukyanenko-BS-Thesis\\src\\manipulation_helpers\\st.py:88: RuntimeWarning: invalid value encountered in scalar divide\n",
      "  f1 = np.nan_to_num(2 * precision * recall / (precision + recall))\n",
      "C:\\Users\\Иван\\OneDrive\\Рабочий стол\\Lukyanenko-BS-Thesis\\src\\manipulation_helpers\\st.py:88: RuntimeWarning: invalid value encountered in scalar divide\n",
      "  f1 = np.nan_to_num(2 * precision * recall / (precision + recall))\n",
      "E:\\anaconda\\envs\\manipulation_env_v4\\Lib\\site-packages\\sklearn\\metrics\\_classification.py:1344: UndefinedMetricWarning: Recall is ill-defined and being set to 0.0 due to no true samples. Use `zero_division` parameter to control this behavior.\n",
      "  _warn_prf(average, modifier, msg_start, len(result))\n",
      "C:\\Users\\Иван\\OneDrive\\Рабочий стол\\Lukyanenko-BS-Thesis\\src\\manipulation_helpers\\st.py:88: RuntimeWarning: invalid value encountered in scalar divide\n",
      "  f1 = np.nan_to_num(2 * precision * recall / (precision + recall))\n",
      "E:\\anaconda\\envs\\manipulation_env_v4\\Lib\\site-packages\\sklearn\\metrics\\_classification.py:1344: UndefinedMetricWarning: Recall is ill-defined and being set to 0.0 due to no true samples. Use `zero_division` parameter to control this behavior.\n",
      "  _warn_prf(average, modifier, msg_start, len(result))\n",
      "C:\\Users\\Иван\\OneDrive\\Рабочий стол\\Lukyanenko-BS-Thesis\\src\\manipulation_helpers\\st.py:88: RuntimeWarning: invalid value encountered in scalar divide\n",
      "  f1 = np.nan_to_num(2 * precision * recall / (precision + recall))\n",
      "E:\\anaconda\\envs\\manipulation_env_v4\\Lib\\site-packages\\sklearn\\metrics\\_classification.py:1344: UndefinedMetricWarning: Recall is ill-defined and being set to 0.0 due to no true samples. Use `zero_division` parameter to control this behavior.\n",
      "  _warn_prf(average, modifier, msg_start, len(result))\n",
      "C:\\Users\\Иван\\OneDrive\\Рабочий стол\\Lukyanenko-BS-Thesis\\src\\manipulation_helpers\\st.py:88: RuntimeWarning: invalid value encountered in scalar divide\n",
      "  f1 = np.nan_to_num(2 * precision * recall / (precision + recall))\n"
     ]
    },
    {
     "data": {
      "application/vnd.jupyter.widget-view+json": {
       "model_id": "",
       "version_major": 2,
       "version_minor": 0
      },
      "text/plain": [
       "Validation: 0it [00:00, ?it/s]"
      ]
     },
     "metadata": {},
     "output_type": "display_data"
    },
    {
     "name": "stderr",
     "output_type": "stream",
     "text": [
      "C:\\Users\\Иван\\OneDrive\\Рабочий стол\\Lukyanenko-BS-Thesis\\src\\manipulation_helpers\\st.py:88: RuntimeWarning: invalid value encountered in scalar divide\n",
      "  f1 = np.nan_to_num(2 * precision * recall / (precision + recall))\n",
      "C:\\Users\\Иван\\OneDrive\\Рабочий стол\\Lukyanenko-BS-Thesis\\src\\manipulation_helpers\\st.py:88: RuntimeWarning: invalid value encountered in scalar divide\n",
      "  f1 = np.nan_to_num(2 * precision * recall / (precision + recall))\n",
      "E:\\anaconda\\envs\\manipulation_env_v4\\Lib\\site-packages\\sklearn\\metrics\\_classification.py:1344: UndefinedMetricWarning: Recall is ill-defined and being set to 0.0 due to no true samples. Use `zero_division` parameter to control this behavior.\n",
      "  _warn_prf(average, modifier, msg_start, len(result))\n",
      "C:\\Users\\Иван\\OneDrive\\Рабочий стол\\Lukyanenko-BS-Thesis\\src\\manipulation_helpers\\st.py:88: RuntimeWarning: invalid value encountered in scalar divide\n",
      "  f1 = np.nan_to_num(2 * precision * recall / (precision + recall))\n",
      "C:\\Users\\Иван\\OneDrive\\Рабочий стол\\Lukyanenko-BS-Thesis\\src\\manipulation_helpers\\st.py:88: RuntimeWarning: invalid value encountered in scalar divide\n",
      "  f1 = np.nan_to_num(2 * precision * recall / (precision + recall))\n",
      "E:\\anaconda\\envs\\manipulation_env_v4\\Lib\\site-packages\\sklearn\\metrics\\_classification.py:1344: UndefinedMetricWarning: Recall is ill-defined and being set to 0.0 due to no true samples. Use `zero_division` parameter to control this behavior.\n",
      "  _warn_prf(average, modifier, msg_start, len(result))\n",
      "C:\\Users\\Иван\\OneDrive\\Рабочий стол\\Lukyanenko-BS-Thesis\\src\\manipulation_helpers\\st.py:88: RuntimeWarning: invalid value encountered in scalar divide\n",
      "  f1 = np.nan_to_num(2 * precision * recall / (precision + recall))\n",
      "C:\\Users\\Иван\\OneDrive\\Рабочий стол\\Lukyanenko-BS-Thesis\\src\\manipulation_helpers\\st.py:88: RuntimeWarning: invalid value encountered in scalar divide\n",
      "  f1 = np.nan_to_num(2 * precision * recall / (precision + recall))\n",
      "E:\\anaconda\\envs\\manipulation_env_v4\\Lib\\site-packages\\sklearn\\metrics\\_classification.py:1344: UndefinedMetricWarning: Recall is ill-defined and being set to 0.0 due to no true samples. Use `zero_division` parameter to control this behavior.\n",
      "  _warn_prf(average, modifier, msg_start, len(result))\n",
      "C:\\Users\\Иван\\OneDrive\\Рабочий стол\\Lukyanenko-BS-Thesis\\src\\manipulation_helpers\\st.py:88: RuntimeWarning: invalid value encountered in scalar divide\n",
      "  f1 = np.nan_to_num(2 * precision * recall / (precision + recall))\n",
      "E:\\anaconda\\envs\\manipulation_env_v4\\Lib\\site-packages\\sklearn\\metrics\\_classification.py:1344: UndefinedMetricWarning: Recall is ill-defined and being set to 0.0 due to no true samples. Use `zero_division` parameter to control this behavior.\n",
      "  _warn_prf(average, modifier, msg_start, len(result))\n",
      "C:\\Users\\Иван\\OneDrive\\Рабочий стол\\Lukyanenko-BS-Thesis\\src\\manipulation_helpers\\st.py:88: RuntimeWarning: invalid value encountered in scalar divide\n",
      "  f1 = np.nan_to_num(2 * precision * recall / (precision + recall))\n",
      "E:\\anaconda\\envs\\manipulation_env_v4\\Lib\\site-packages\\sklearn\\metrics\\_classification.py:1344: UndefinedMetricWarning: Recall is ill-defined and being set to 0.0 due to no true samples. Use `zero_division` parameter to control this behavior.\n",
      "  _warn_prf(average, modifier, msg_start, len(result))\n",
      "C:\\Users\\Иван\\OneDrive\\Рабочий стол\\Lukyanenko-BS-Thesis\\src\\manipulation_helpers\\st.py:88: RuntimeWarning: invalid value encountered in scalar divide\n",
      "  f1 = np.nan_to_num(2 * precision * recall / (precision + recall))\n"
     ]
    },
    {
     "data": {
      "application/vnd.jupyter.widget-view+json": {
       "model_id": "",
       "version_major": 2,
       "version_minor": 0
      },
      "text/plain": [
       "Validation: 0it [00:00, ?it/s]"
      ]
     },
     "metadata": {},
     "output_type": "display_data"
    },
    {
     "name": "stderr",
     "output_type": "stream",
     "text": [
      "C:\\Users\\Иван\\OneDrive\\Рабочий стол\\Lukyanenko-BS-Thesis\\src\\manipulation_helpers\\st.py:88: RuntimeWarning: invalid value encountered in scalar divide\n",
      "  f1 = np.nan_to_num(2 * precision * recall / (precision + recall))\n",
      "C:\\Users\\Иван\\OneDrive\\Рабочий стол\\Lukyanenko-BS-Thesis\\src\\manipulation_helpers\\st.py:88: RuntimeWarning: invalid value encountered in scalar divide\n",
      "  f1 = np.nan_to_num(2 * precision * recall / (precision + recall))\n",
      "E:\\anaconda\\envs\\manipulation_env_v4\\Lib\\site-packages\\sklearn\\metrics\\_classification.py:1344: UndefinedMetricWarning: Recall is ill-defined and being set to 0.0 due to no true samples. Use `zero_division` parameter to control this behavior.\n",
      "  _warn_prf(average, modifier, msg_start, len(result))\n",
      "C:\\Users\\Иван\\OneDrive\\Рабочий стол\\Lukyanenko-BS-Thesis\\src\\manipulation_helpers\\st.py:88: RuntimeWarning: invalid value encountered in scalar divide\n",
      "  f1 = np.nan_to_num(2 * precision * recall / (precision + recall))\n",
      "C:\\Users\\Иван\\OneDrive\\Рабочий стол\\Lukyanenko-BS-Thesis\\src\\manipulation_helpers\\st.py:88: RuntimeWarning: invalid value encountered in scalar divide\n",
      "  f1 = np.nan_to_num(2 * precision * recall / (precision + recall))\n",
      "E:\\anaconda\\envs\\manipulation_env_v4\\Lib\\site-packages\\sklearn\\metrics\\_classification.py:1344: UndefinedMetricWarning: Recall is ill-defined and being set to 0.0 due to no true samples. Use `zero_division` parameter to control this behavior.\n",
      "  _warn_prf(average, modifier, msg_start, len(result))\n",
      "C:\\Users\\Иван\\OneDrive\\Рабочий стол\\Lukyanenko-BS-Thesis\\src\\manipulation_helpers\\st.py:88: RuntimeWarning: invalid value encountered in scalar divide\n",
      "  f1 = np.nan_to_num(2 * precision * recall / (precision + recall))\n",
      "C:\\Users\\Иван\\OneDrive\\Рабочий стол\\Lukyanenko-BS-Thesis\\src\\manipulation_helpers\\st.py:88: RuntimeWarning: invalid value encountered in scalar divide\n",
      "  f1 = np.nan_to_num(2 * precision * recall / (precision + recall))\n",
      "E:\\anaconda\\envs\\manipulation_env_v4\\Lib\\site-packages\\sklearn\\metrics\\_classification.py:1344: UndefinedMetricWarning: Recall is ill-defined and being set to 0.0 due to no true samples. Use `zero_division` parameter to control this behavior.\n",
      "  _warn_prf(average, modifier, msg_start, len(result))\n",
      "C:\\Users\\Иван\\OneDrive\\Рабочий стол\\Lukyanenko-BS-Thesis\\src\\manipulation_helpers\\st.py:88: RuntimeWarning: invalid value encountered in scalar divide\n",
      "  f1 = np.nan_to_num(2 * precision * recall / (precision + recall))\n",
      "E:\\anaconda\\envs\\manipulation_env_v4\\Lib\\site-packages\\sklearn\\metrics\\_classification.py:1344: UndefinedMetricWarning: Recall is ill-defined and being set to 0.0 due to no true samples. Use `zero_division` parameter to control this behavior.\n",
      "  _warn_prf(average, modifier, msg_start, len(result))\n",
      "C:\\Users\\Иван\\OneDrive\\Рабочий стол\\Lukyanenko-BS-Thesis\\src\\manipulation_helpers\\st.py:88: RuntimeWarning: invalid value encountered in scalar divide\n",
      "  f1 = np.nan_to_num(2 * precision * recall / (precision + recall))\n",
      "E:\\anaconda\\envs\\manipulation_env_v4\\Lib\\site-packages\\sklearn\\metrics\\_classification.py:1344: UndefinedMetricWarning: Recall is ill-defined and being set to 0.0 due to no true samples. Use `zero_division` parameter to control this behavior.\n",
      "  _warn_prf(average, modifier, msg_start, len(result))\n",
      "C:\\Users\\Иван\\OneDrive\\Рабочий стол\\Lukyanenko-BS-Thesis\\src\\manipulation_helpers\\st.py:88: RuntimeWarning: invalid value encountered in scalar divide\n",
      "  f1 = np.nan_to_num(2 * precision * recall / (precision + recall))\n"
     ]
    },
    {
     "data": {
      "application/vnd.jupyter.widget-view+json": {
       "model_id": "",
       "version_major": 2,
       "version_minor": 0
      },
      "text/plain": [
       "Validation: 0it [00:00, ?it/s]"
      ]
     },
     "metadata": {},
     "output_type": "display_data"
    },
    {
     "name": "stderr",
     "output_type": "stream",
     "text": [
      "C:\\Users\\Иван\\OneDrive\\Рабочий стол\\Lukyanenko-BS-Thesis\\src\\manipulation_helpers\\st.py:88: RuntimeWarning: invalid value encountered in scalar divide\n",
      "  f1 = np.nan_to_num(2 * precision * recall / (precision + recall))\n",
      "C:\\Users\\Иван\\OneDrive\\Рабочий стол\\Lukyanenko-BS-Thesis\\src\\manipulation_helpers\\st.py:88: RuntimeWarning: invalid value encountered in scalar divide\n",
      "  f1 = np.nan_to_num(2 * precision * recall / (precision + recall))\n",
      "E:\\anaconda\\envs\\manipulation_env_v4\\Lib\\site-packages\\sklearn\\metrics\\_classification.py:1344: UndefinedMetricWarning: Recall is ill-defined and being set to 0.0 due to no true samples. Use `zero_division` parameter to control this behavior.\n",
      "  _warn_prf(average, modifier, msg_start, len(result))\n",
      "C:\\Users\\Иван\\OneDrive\\Рабочий стол\\Lukyanenko-BS-Thesis\\src\\manipulation_helpers\\st.py:88: RuntimeWarning: invalid value encountered in scalar divide\n",
      "  f1 = np.nan_to_num(2 * precision * recall / (precision + recall))\n",
      "C:\\Users\\Иван\\OneDrive\\Рабочий стол\\Lukyanenko-BS-Thesis\\src\\manipulation_helpers\\st.py:88: RuntimeWarning: invalid value encountered in scalar divide\n",
      "  f1 = np.nan_to_num(2 * precision * recall / (precision + recall))\n",
      "E:\\anaconda\\envs\\manipulation_env_v4\\Lib\\site-packages\\sklearn\\metrics\\_classification.py:1344: UndefinedMetricWarning: Recall is ill-defined and being set to 0.0 due to no true samples. Use `zero_division` parameter to control this behavior.\n",
      "  _warn_prf(average, modifier, msg_start, len(result))\n",
      "C:\\Users\\Иван\\OneDrive\\Рабочий стол\\Lukyanenko-BS-Thesis\\src\\manipulation_helpers\\st.py:88: RuntimeWarning: invalid value encountered in scalar divide\n",
      "  f1 = np.nan_to_num(2 * precision * recall / (precision + recall))\n",
      "C:\\Users\\Иван\\OneDrive\\Рабочий стол\\Lukyanenko-BS-Thesis\\src\\manipulation_helpers\\st.py:88: RuntimeWarning: invalid value encountered in scalar divide\n",
      "  f1 = np.nan_to_num(2 * precision * recall / (precision + recall))\n",
      "E:\\anaconda\\envs\\manipulation_env_v4\\Lib\\site-packages\\sklearn\\metrics\\_classification.py:1344: UndefinedMetricWarning: Recall is ill-defined and being set to 0.0 due to no true samples. Use `zero_division` parameter to control this behavior.\n",
      "  _warn_prf(average, modifier, msg_start, len(result))\n",
      "C:\\Users\\Иван\\OneDrive\\Рабочий стол\\Lukyanenko-BS-Thesis\\src\\manipulation_helpers\\st.py:88: RuntimeWarning: invalid value encountered in scalar divide\n",
      "  f1 = np.nan_to_num(2 * precision * recall / (precision + recall))\n",
      "E:\\anaconda\\envs\\manipulation_env_v4\\Lib\\site-packages\\sklearn\\metrics\\_classification.py:1344: UndefinedMetricWarning: Recall is ill-defined and being set to 0.0 due to no true samples. Use `zero_division` parameter to control this behavior.\n",
      "  _warn_prf(average, modifier, msg_start, len(result))\n",
      "C:\\Users\\Иван\\OneDrive\\Рабочий стол\\Lukyanenko-BS-Thesis\\src\\manipulation_helpers\\st.py:88: RuntimeWarning: invalid value encountered in scalar divide\n",
      "  f1 = np.nan_to_num(2 * precision * recall / (precision + recall))\n",
      "E:\\anaconda\\envs\\manipulation_env_v4\\Lib\\site-packages\\sklearn\\metrics\\_classification.py:1344: UndefinedMetricWarning: Recall is ill-defined and being set to 0.0 due to no true samples. Use `zero_division` parameter to control this behavior.\n",
      "  _warn_prf(average, modifier, msg_start, len(result))\n",
      "C:\\Users\\Иван\\OneDrive\\Рабочий стол\\Lukyanenko-BS-Thesis\\src\\manipulation_helpers\\st.py:88: RuntimeWarning: invalid value encountered in scalar divide\n",
      "  f1 = np.nan_to_num(2 * precision * recall / (precision + recall))\n"
     ]
    },
    {
     "data": {
      "application/vnd.jupyter.widget-view+json": {
       "model_id": "",
       "version_major": 2,
       "version_minor": 0
      },
      "text/plain": [
       "Validation: 0it [00:00, ?it/s]"
      ]
     },
     "metadata": {},
     "output_type": "display_data"
    },
    {
     "name": "stderr",
     "output_type": "stream",
     "text": [
      "C:\\Users\\Иван\\OneDrive\\Рабочий стол\\Lukyanenko-BS-Thesis\\src\\manipulation_helpers\\st.py:88: RuntimeWarning: invalid value encountered in scalar divide\n",
      "  f1 = np.nan_to_num(2 * precision * recall / (precision + recall))\n",
      "C:\\Users\\Иван\\OneDrive\\Рабочий стол\\Lukyanenko-BS-Thesis\\src\\manipulation_helpers\\st.py:88: RuntimeWarning: invalid value encountered in scalar divide\n",
      "  f1 = np.nan_to_num(2 * precision * recall / (precision + recall))\n",
      "E:\\anaconda\\envs\\manipulation_env_v4\\Lib\\site-packages\\sklearn\\metrics\\_classification.py:1344: UndefinedMetricWarning: Recall is ill-defined and being set to 0.0 due to no true samples. Use `zero_division` parameter to control this behavior.\n",
      "  _warn_prf(average, modifier, msg_start, len(result))\n",
      "C:\\Users\\Иван\\OneDrive\\Рабочий стол\\Lukyanenko-BS-Thesis\\src\\manipulation_helpers\\st.py:88: RuntimeWarning: invalid value encountered in scalar divide\n",
      "  f1 = np.nan_to_num(2 * precision * recall / (precision + recall))\n",
      "C:\\Users\\Иван\\OneDrive\\Рабочий стол\\Lukyanenko-BS-Thesis\\src\\manipulation_helpers\\st.py:88: RuntimeWarning: invalid value encountered in scalar divide\n",
      "  f1 = np.nan_to_num(2 * precision * recall / (precision + recall))\n",
      "E:\\anaconda\\envs\\manipulation_env_v4\\Lib\\site-packages\\sklearn\\metrics\\_classification.py:1344: UndefinedMetricWarning: Recall is ill-defined and being set to 0.0 due to no true samples. Use `zero_division` parameter to control this behavior.\n",
      "  _warn_prf(average, modifier, msg_start, len(result))\n",
      "C:\\Users\\Иван\\OneDrive\\Рабочий стол\\Lukyanenko-BS-Thesis\\src\\manipulation_helpers\\st.py:88: RuntimeWarning: invalid value encountered in scalar divide\n",
      "  f1 = np.nan_to_num(2 * precision * recall / (precision + recall))\n",
      "C:\\Users\\Иван\\OneDrive\\Рабочий стол\\Lukyanenko-BS-Thesis\\src\\manipulation_helpers\\st.py:88: RuntimeWarning: invalid value encountered in scalar divide\n",
      "  f1 = np.nan_to_num(2 * precision * recall / (precision + recall))\n",
      "E:\\anaconda\\envs\\manipulation_env_v4\\Lib\\site-packages\\sklearn\\metrics\\_classification.py:1344: UndefinedMetricWarning: Recall is ill-defined and being set to 0.0 due to no true samples. Use `zero_division` parameter to control this behavior.\n",
      "  _warn_prf(average, modifier, msg_start, len(result))\n",
      "C:\\Users\\Иван\\OneDrive\\Рабочий стол\\Lukyanenko-BS-Thesis\\src\\manipulation_helpers\\st.py:88: RuntimeWarning: invalid value encountered in scalar divide\n",
      "  f1 = np.nan_to_num(2 * precision * recall / (precision + recall))\n",
      "E:\\anaconda\\envs\\manipulation_env_v4\\Lib\\site-packages\\sklearn\\metrics\\_classification.py:1344: UndefinedMetricWarning: Recall is ill-defined and being set to 0.0 due to no true samples. Use `zero_division` parameter to control this behavior.\n",
      "  _warn_prf(average, modifier, msg_start, len(result))\n",
      "C:\\Users\\Иван\\OneDrive\\Рабочий стол\\Lukyanenko-BS-Thesis\\src\\manipulation_helpers\\st.py:88: RuntimeWarning: invalid value encountered in scalar divide\n",
      "  f1 = np.nan_to_num(2 * precision * recall / (precision + recall))\n",
      "E:\\anaconda\\envs\\manipulation_env_v4\\Lib\\site-packages\\sklearn\\metrics\\_classification.py:1344: UndefinedMetricWarning: Recall is ill-defined and being set to 0.0 due to no true samples. Use `zero_division` parameter to control this behavior.\n",
      "  _warn_prf(average, modifier, msg_start, len(result))\n",
      "C:\\Users\\Иван\\OneDrive\\Рабочий стол\\Lukyanenko-BS-Thesis\\src\\manipulation_helpers\\st.py:88: RuntimeWarning: invalid value encountered in scalar divide\n",
      "  f1 = np.nan_to_num(2 * precision * recall / (precision + recall))\n"
     ]
    },
    {
     "data": {
      "application/vnd.jupyter.widget-view+json": {
       "model_id": "",
       "version_major": 2,
       "version_minor": 0
      },
      "text/plain": [
       "Validation: 0it [00:00, ?it/s]"
      ]
     },
     "metadata": {},
     "output_type": "display_data"
    },
    {
     "name": "stderr",
     "output_type": "stream",
     "text": [
      "C:\\Users\\Иван\\OneDrive\\Рабочий стол\\Lukyanenko-BS-Thesis\\src\\manipulation_helpers\\st.py:88: RuntimeWarning: invalid value encountered in scalar divide\n",
      "  f1 = np.nan_to_num(2 * precision * recall / (precision + recall))\n",
      "C:\\Users\\Иван\\OneDrive\\Рабочий стол\\Lukyanenko-BS-Thesis\\src\\manipulation_helpers\\st.py:88: RuntimeWarning: invalid value encountered in scalar divide\n",
      "  f1 = np.nan_to_num(2 * precision * recall / (precision + recall))\n",
      "E:\\anaconda\\envs\\manipulation_env_v4\\Lib\\site-packages\\sklearn\\metrics\\_classification.py:1344: UndefinedMetricWarning: Recall is ill-defined and being set to 0.0 due to no true samples. Use `zero_division` parameter to control this behavior.\n",
      "  _warn_prf(average, modifier, msg_start, len(result))\n",
      "C:\\Users\\Иван\\OneDrive\\Рабочий стол\\Lukyanenko-BS-Thesis\\src\\manipulation_helpers\\st.py:88: RuntimeWarning: invalid value encountered in scalar divide\n",
      "  f1 = np.nan_to_num(2 * precision * recall / (precision + recall))\n",
      "C:\\Users\\Иван\\OneDrive\\Рабочий стол\\Lukyanenko-BS-Thesis\\src\\manipulation_helpers\\st.py:88: RuntimeWarning: invalid value encountered in scalar divide\n",
      "  f1 = np.nan_to_num(2 * precision * recall / (precision + recall))\n",
      "E:\\anaconda\\envs\\manipulation_env_v4\\Lib\\site-packages\\sklearn\\metrics\\_classification.py:1344: UndefinedMetricWarning: Recall is ill-defined and being set to 0.0 due to no true samples. Use `zero_division` parameter to control this behavior.\n",
      "  _warn_prf(average, modifier, msg_start, len(result))\n",
      "C:\\Users\\Иван\\OneDrive\\Рабочий стол\\Lukyanenko-BS-Thesis\\src\\manipulation_helpers\\st.py:88: RuntimeWarning: invalid value encountered in scalar divide\n",
      "  f1 = np.nan_to_num(2 * precision * recall / (precision + recall))\n",
      "C:\\Users\\Иван\\OneDrive\\Рабочий стол\\Lukyanenko-BS-Thesis\\src\\manipulation_helpers\\st.py:88: RuntimeWarning: invalid value encountered in scalar divide\n",
      "  f1 = np.nan_to_num(2 * precision * recall / (precision + recall))\n",
      "E:\\anaconda\\envs\\manipulation_env_v4\\Lib\\site-packages\\sklearn\\metrics\\_classification.py:1344: UndefinedMetricWarning: Recall is ill-defined and being set to 0.0 due to no true samples. Use `zero_division` parameter to control this behavior.\n",
      "  _warn_prf(average, modifier, msg_start, len(result))\n",
      "C:\\Users\\Иван\\OneDrive\\Рабочий стол\\Lukyanenko-BS-Thesis\\src\\manipulation_helpers\\st.py:88: RuntimeWarning: invalid value encountered in scalar divide\n",
      "  f1 = np.nan_to_num(2 * precision * recall / (precision + recall))\n",
      "E:\\anaconda\\envs\\manipulation_env_v4\\Lib\\site-packages\\sklearn\\metrics\\_classification.py:1344: UndefinedMetricWarning: Recall is ill-defined and being set to 0.0 due to no true samples. Use `zero_division` parameter to control this behavior.\n",
      "  _warn_prf(average, modifier, msg_start, len(result))\n",
      "C:\\Users\\Иван\\OneDrive\\Рабочий стол\\Lukyanenko-BS-Thesis\\src\\manipulation_helpers\\st.py:88: RuntimeWarning: invalid value encountered in scalar divide\n",
      "  f1 = np.nan_to_num(2 * precision * recall / (precision + recall))\n",
      "E:\\anaconda\\envs\\manipulation_env_v4\\Lib\\site-packages\\sklearn\\metrics\\_classification.py:1344: UndefinedMetricWarning: Recall is ill-defined and being set to 0.0 due to no true samples. Use `zero_division` parameter to control this behavior.\n",
      "  _warn_prf(average, modifier, msg_start, len(result))\n",
      "C:\\Users\\Иван\\OneDrive\\Рабочий стол\\Lukyanenko-BS-Thesis\\src\\manipulation_helpers\\st.py:88: RuntimeWarning: invalid value encountered in scalar divide\n",
      "  f1 = np.nan_to_num(2 * precision * recall / (precision + recall))\n"
     ]
    },
    {
     "data": {
      "application/vnd.jupyter.widget-view+json": {
       "model_id": "",
       "version_major": 2,
       "version_minor": 0
      },
      "text/plain": [
       "Validation: 0it [00:00, ?it/s]"
      ]
     },
     "metadata": {},
     "output_type": "display_data"
    },
    {
     "name": "stderr",
     "output_type": "stream",
     "text": [
      "C:\\Users\\Иван\\OneDrive\\Рабочий стол\\Lukyanenko-BS-Thesis\\src\\manipulation_helpers\\st.py:88: RuntimeWarning: invalid value encountered in scalar divide\n",
      "  f1 = np.nan_to_num(2 * precision * recall / (precision + recall))\n",
      "C:\\Users\\Иван\\OneDrive\\Рабочий стол\\Lukyanenko-BS-Thesis\\src\\manipulation_helpers\\st.py:88: RuntimeWarning: invalid value encountered in scalar divide\n",
      "  f1 = np.nan_to_num(2 * precision * recall / (precision + recall))\n",
      "E:\\anaconda\\envs\\manipulation_env_v4\\Lib\\site-packages\\sklearn\\metrics\\_classification.py:1344: UndefinedMetricWarning: Recall is ill-defined and being set to 0.0 due to no true samples. Use `zero_division` parameter to control this behavior.\n",
      "  _warn_prf(average, modifier, msg_start, len(result))\n",
      "C:\\Users\\Иван\\OneDrive\\Рабочий стол\\Lukyanenko-BS-Thesis\\src\\manipulation_helpers\\st.py:88: RuntimeWarning: invalid value encountered in scalar divide\n",
      "  f1 = np.nan_to_num(2 * precision * recall / (precision + recall))\n",
      "C:\\Users\\Иван\\OneDrive\\Рабочий стол\\Lukyanenko-BS-Thesis\\src\\manipulation_helpers\\st.py:88: RuntimeWarning: invalid value encountered in scalar divide\n",
      "  f1 = np.nan_to_num(2 * precision * recall / (precision + recall))\n",
      "E:\\anaconda\\envs\\manipulation_env_v4\\Lib\\site-packages\\sklearn\\metrics\\_classification.py:1344: UndefinedMetricWarning: Recall is ill-defined and being set to 0.0 due to no true samples. Use `zero_division` parameter to control this behavior.\n",
      "  _warn_prf(average, modifier, msg_start, len(result))\n",
      "C:\\Users\\Иван\\OneDrive\\Рабочий стол\\Lukyanenko-BS-Thesis\\src\\manipulation_helpers\\st.py:88: RuntimeWarning: invalid value encountered in scalar divide\n",
      "  f1 = np.nan_to_num(2 * precision * recall / (precision + recall))\n",
      "C:\\Users\\Иван\\OneDrive\\Рабочий стол\\Lukyanenko-BS-Thesis\\src\\manipulation_helpers\\st.py:88: RuntimeWarning: invalid value encountered in scalar divide\n",
      "  f1 = np.nan_to_num(2 * precision * recall / (precision + recall))\n",
      "E:\\anaconda\\envs\\manipulation_env_v4\\Lib\\site-packages\\sklearn\\metrics\\_classification.py:1344: UndefinedMetricWarning: Recall is ill-defined and being set to 0.0 due to no true samples. Use `zero_division` parameter to control this behavior.\n",
      "  _warn_prf(average, modifier, msg_start, len(result))\n",
      "C:\\Users\\Иван\\OneDrive\\Рабочий стол\\Lukyanenko-BS-Thesis\\src\\manipulation_helpers\\st.py:88: RuntimeWarning: invalid value encountered in scalar divide\n",
      "  f1 = np.nan_to_num(2 * precision * recall / (precision + recall))\n",
      "E:\\anaconda\\envs\\manipulation_env_v4\\Lib\\site-packages\\sklearn\\metrics\\_classification.py:1344: UndefinedMetricWarning: Recall is ill-defined and being set to 0.0 due to no true samples. Use `zero_division` parameter to control this behavior.\n",
      "  _warn_prf(average, modifier, msg_start, len(result))\n",
      "C:\\Users\\Иван\\OneDrive\\Рабочий стол\\Lukyanenko-BS-Thesis\\src\\manipulation_helpers\\st.py:88: RuntimeWarning: invalid value encountered in scalar divide\n",
      "  f1 = np.nan_to_num(2 * precision * recall / (precision + recall))\n",
      "E:\\anaconda\\envs\\manipulation_env_v4\\Lib\\site-packages\\sklearn\\metrics\\_classification.py:1344: UndefinedMetricWarning: Recall is ill-defined and being set to 0.0 due to no true samples. Use `zero_division` parameter to control this behavior.\n",
      "  _warn_prf(average, modifier, msg_start, len(result))\n",
      "C:\\Users\\Иван\\OneDrive\\Рабочий стол\\Lukyanenko-BS-Thesis\\src\\manipulation_helpers\\st.py:88: RuntimeWarning: invalid value encountered in scalar divide\n",
      "  f1 = np.nan_to_num(2 * precision * recall / (precision + recall))\n"
     ]
    },
    {
     "data": {
      "application/vnd.jupyter.widget-view+json": {
       "model_id": "",
       "version_major": 2,
       "version_minor": 0
      },
      "text/plain": [
       "Validation: 0it [00:00, ?it/s]"
      ]
     },
     "metadata": {},
     "output_type": "display_data"
    },
    {
     "name": "stderr",
     "output_type": "stream",
     "text": [
      "C:\\Users\\Иван\\OneDrive\\Рабочий стол\\Lukyanenko-BS-Thesis\\src\\manipulation_helpers\\st.py:88: RuntimeWarning: invalid value encountered in scalar divide\n",
      "  f1 = np.nan_to_num(2 * precision * recall / (precision + recall))\n",
      "C:\\Users\\Иван\\OneDrive\\Рабочий стол\\Lukyanenko-BS-Thesis\\src\\manipulation_helpers\\st.py:88: RuntimeWarning: invalid value encountered in scalar divide\n",
      "  f1 = np.nan_to_num(2 * precision * recall / (precision + recall))\n",
      "E:\\anaconda\\envs\\manipulation_env_v4\\Lib\\site-packages\\sklearn\\metrics\\_classification.py:1344: UndefinedMetricWarning: Recall is ill-defined and being set to 0.0 due to no true samples. Use `zero_division` parameter to control this behavior.\n",
      "  _warn_prf(average, modifier, msg_start, len(result))\n",
      "C:\\Users\\Иван\\OneDrive\\Рабочий стол\\Lukyanenko-BS-Thesis\\src\\manipulation_helpers\\st.py:88: RuntimeWarning: invalid value encountered in scalar divide\n",
      "  f1 = np.nan_to_num(2 * precision * recall / (precision + recall))\n",
      "C:\\Users\\Иван\\OneDrive\\Рабочий стол\\Lukyanenko-BS-Thesis\\src\\manipulation_helpers\\st.py:88: RuntimeWarning: invalid value encountered in scalar divide\n",
      "  f1 = np.nan_to_num(2 * precision * recall / (precision + recall))\n",
      "E:\\anaconda\\envs\\manipulation_env_v4\\Lib\\site-packages\\sklearn\\metrics\\_classification.py:1344: UndefinedMetricWarning: Recall is ill-defined and being set to 0.0 due to no true samples. Use `zero_division` parameter to control this behavior.\n",
      "  _warn_prf(average, modifier, msg_start, len(result))\n",
      "C:\\Users\\Иван\\OneDrive\\Рабочий стол\\Lukyanenko-BS-Thesis\\src\\manipulation_helpers\\st.py:88: RuntimeWarning: invalid value encountered in scalar divide\n",
      "  f1 = np.nan_to_num(2 * precision * recall / (precision + recall))\n",
      "C:\\Users\\Иван\\OneDrive\\Рабочий стол\\Lukyanenko-BS-Thesis\\src\\manipulation_helpers\\st.py:88: RuntimeWarning: invalid value encountered in scalar divide\n",
      "  f1 = np.nan_to_num(2 * precision * recall / (precision + recall))\n",
      "E:\\anaconda\\envs\\manipulation_env_v4\\Lib\\site-packages\\sklearn\\metrics\\_classification.py:1344: UndefinedMetricWarning: Recall is ill-defined and being set to 0.0 due to no true samples. Use `zero_division` parameter to control this behavior.\n",
      "  _warn_prf(average, modifier, msg_start, len(result))\n",
      "C:\\Users\\Иван\\OneDrive\\Рабочий стол\\Lukyanenko-BS-Thesis\\src\\manipulation_helpers\\st.py:88: RuntimeWarning: invalid value encountered in scalar divide\n",
      "  f1 = np.nan_to_num(2 * precision * recall / (precision + recall))\n",
      "E:\\anaconda\\envs\\manipulation_env_v4\\Lib\\site-packages\\sklearn\\metrics\\_classification.py:1344: UndefinedMetricWarning: Recall is ill-defined and being set to 0.0 due to no true samples. Use `zero_division` parameter to control this behavior.\n",
      "  _warn_prf(average, modifier, msg_start, len(result))\n",
      "C:\\Users\\Иван\\OneDrive\\Рабочий стол\\Lukyanenko-BS-Thesis\\src\\manipulation_helpers\\st.py:88: RuntimeWarning: invalid value encountered in scalar divide\n",
      "  f1 = np.nan_to_num(2 * precision * recall / (precision + recall))\n",
      "E:\\anaconda\\envs\\manipulation_env_v4\\Lib\\site-packages\\sklearn\\metrics\\_classification.py:1344: UndefinedMetricWarning: Recall is ill-defined and being set to 0.0 due to no true samples. Use `zero_division` parameter to control this behavior.\n",
      "  _warn_prf(average, modifier, msg_start, len(result))\n",
      "C:\\Users\\Иван\\OneDrive\\Рабочий стол\\Lukyanenko-BS-Thesis\\src\\manipulation_helpers\\st.py:88: RuntimeWarning: invalid value encountered in scalar divide\n",
      "  f1 = np.nan_to_num(2 * precision * recall / (precision + recall))\n"
     ]
    },
    {
     "data": {
      "application/vnd.jupyter.widget-view+json": {
       "model_id": "",
       "version_major": 2,
       "version_minor": 0
      },
      "text/plain": [
       "Validation: 0it [00:00, ?it/s]"
      ]
     },
     "metadata": {},
     "output_type": "display_data"
    },
    {
     "name": "stderr",
     "output_type": "stream",
     "text": [
      "C:\\Users\\Иван\\OneDrive\\Рабочий стол\\Lukyanenko-BS-Thesis\\src\\manipulation_helpers\\st.py:88: RuntimeWarning: invalid value encountered in scalar divide\n",
      "  f1 = np.nan_to_num(2 * precision * recall / (precision + recall))\n",
      "C:\\Users\\Иван\\OneDrive\\Рабочий стол\\Lukyanenko-BS-Thesis\\src\\manipulation_helpers\\st.py:88: RuntimeWarning: invalid value encountered in scalar divide\n",
      "  f1 = np.nan_to_num(2 * precision * recall / (precision + recall))\n",
      "E:\\anaconda\\envs\\manipulation_env_v4\\Lib\\site-packages\\sklearn\\metrics\\_classification.py:1344: UndefinedMetricWarning: Recall is ill-defined and being set to 0.0 due to no true samples. Use `zero_division` parameter to control this behavior.\n",
      "  _warn_prf(average, modifier, msg_start, len(result))\n",
      "C:\\Users\\Иван\\OneDrive\\Рабочий стол\\Lukyanenko-BS-Thesis\\src\\manipulation_helpers\\st.py:88: RuntimeWarning: invalid value encountered in scalar divide\n",
      "  f1 = np.nan_to_num(2 * precision * recall / (precision + recall))\n",
      "C:\\Users\\Иван\\OneDrive\\Рабочий стол\\Lukyanenko-BS-Thesis\\src\\manipulation_helpers\\st.py:88: RuntimeWarning: invalid value encountered in scalar divide\n",
      "  f1 = np.nan_to_num(2 * precision * recall / (precision + recall))\n",
      "E:\\anaconda\\envs\\manipulation_env_v4\\Lib\\site-packages\\sklearn\\metrics\\_classification.py:1344: UndefinedMetricWarning: Recall is ill-defined and being set to 0.0 due to no true samples. Use `zero_division` parameter to control this behavior.\n",
      "  _warn_prf(average, modifier, msg_start, len(result))\n",
      "C:\\Users\\Иван\\OneDrive\\Рабочий стол\\Lukyanenko-BS-Thesis\\src\\manipulation_helpers\\st.py:88: RuntimeWarning: invalid value encountered in scalar divide\n",
      "  f1 = np.nan_to_num(2 * precision * recall / (precision + recall))\n",
      "C:\\Users\\Иван\\OneDrive\\Рабочий стол\\Lukyanenko-BS-Thesis\\src\\manipulation_helpers\\st.py:88: RuntimeWarning: invalid value encountered in scalar divide\n",
      "  f1 = np.nan_to_num(2 * precision * recall / (precision + recall))\n",
      "E:\\anaconda\\envs\\manipulation_env_v4\\Lib\\site-packages\\sklearn\\metrics\\_classification.py:1344: UndefinedMetricWarning: Recall is ill-defined and being set to 0.0 due to no true samples. Use `zero_division` parameter to control this behavior.\n",
      "  _warn_prf(average, modifier, msg_start, len(result))\n",
      "C:\\Users\\Иван\\OneDrive\\Рабочий стол\\Lukyanenko-BS-Thesis\\src\\manipulation_helpers\\st.py:88: RuntimeWarning: invalid value encountered in scalar divide\n",
      "  f1 = np.nan_to_num(2 * precision * recall / (precision + recall))\n",
      "E:\\anaconda\\envs\\manipulation_env_v4\\Lib\\site-packages\\sklearn\\metrics\\_classification.py:1344: UndefinedMetricWarning: Recall is ill-defined and being set to 0.0 due to no true samples. Use `zero_division` parameter to control this behavior.\n",
      "  _warn_prf(average, modifier, msg_start, len(result))\n",
      "C:\\Users\\Иван\\OneDrive\\Рабочий стол\\Lukyanenko-BS-Thesis\\src\\manipulation_helpers\\st.py:88: RuntimeWarning: invalid value encountered in scalar divide\n",
      "  f1 = np.nan_to_num(2 * precision * recall / (precision + recall))\n",
      "E:\\anaconda\\envs\\manipulation_env_v4\\Lib\\site-packages\\sklearn\\metrics\\_classification.py:1344: UndefinedMetricWarning: Recall is ill-defined and being set to 0.0 due to no true samples. Use `zero_division` parameter to control this behavior.\n",
      "  _warn_prf(average, modifier, msg_start, len(result))\n",
      "C:\\Users\\Иван\\OneDrive\\Рабочий стол\\Lukyanenko-BS-Thesis\\src\\manipulation_helpers\\st.py:88: RuntimeWarning: invalid value encountered in scalar divide\n",
      "  f1 = np.nan_to_num(2 * precision * recall / (precision + recall))\n",
      "E:\\anaconda\\envs\\manipulation_env_v4\\Lib\\site-packages\\pytorch_lightning\\trainer\\call.py:54: UserWarning: Detected KeyboardInterrupt, attempting graceful shutdown...\n",
      "  rank_zero_warn(\"Detected KeyboardInterrupt, attempting graceful shutdown...\")\n"
     ]
    }
   ],
   "source": [
    "config = {\n",
    "    'bert_model_name': MODEL_NAME,\n",
    "    'optimizer': torch.optim.AdamW, \n",
    "    'lr': 1e-4, \n",
    "    'freeze_bert': True,\n",
    "    'loss_function': torch.nn.CrossEntropyLoss(weight=torch.tensor([1., 1.]), ignore_index=-100),\n",
    "    'output_size': 2,\n",
    "    'scheduler': partial(torch.optim.lr_scheduler.ExponentialLR, gamma=0.5)\n",
    "}\n",
    "model = STLitModel(**config)\n",
    "trainer = pl.Trainer(max_epochs=100)\n",
    "trainer.fit(model, train_loader, val_loader)"
   ]
  },
  {
   "cell_type": "markdown",
   "metadata": {
    "id": "ee16-8WJiykP"
   },
   "source": [
    "### Evaluation"
   ]
  },
  {
   "cell_type": "code",
   "execution_count": null,
   "metadata": {},
   "outputs": [],
   "source": [
    "config = {\n",
    "    'bert_model_name': MODEL_NAME,\n",
    "    'optimizer': torch.optim.AdamW, \n",
    "    'lr': 1e-6, \n",
    "    'freeze_bert': False,\n",
    "    'loss_function': torch.nn.CrossEntropyLoss(weight=torch.tensor([1., 8.]), ignore_index=-100), \n",
    "    'output_size': 2\n",
    "}\n",
    "model = ManipulationTargetLightningModel(**config)\n",
    "model.load_state_dict(torch.load('lightning_logs\\\\version_33\\\\checkpoints\\\\epoch=79-step=18240.ckpt')['state_dict'])"
   ]
  },
  {
   "cell_type": "code",
   "execution_count": null,
   "metadata": {},
   "outputs": [],
   "source": [
    "predictions"
   ]
  },
  {
   "cell_type": "code",
   "execution_count": null,
   "metadata": {},
   "outputs": [],
   "source": [
    "model.to('cuda')\n",
    "map_val_id2scores = {'id': [], 'acc': [], 'jac': [], 'p': [], 'r': []}\n",
    "for val_id, sample_ids in tqdm(map_val_ids2sample_ids.items()):\n",
    "    \n",
    "    accuracy_scores = []\n",
    "    jac_scores = []\n",
    "    r_scores = []\n",
    "    p_scores = []\n",
    "    \n",
    "    for x, y in zip(*val_dataset[sample_ids]):\n",
    "        mask = torch.where(y == -100)[0]\n",
    "        attention_mask = (y != -100)\n",
    "        start = mask[0]\n",
    "        if mask.shape[0] <= 1:\n",
    "            end = 512\n",
    "        else:\n",
    "            end = mask[1]\n",
    "            \n",
    "        prediction = model(x.unsqueeze(0).to('cuda'), attention_mask.unsqueeze(0).to('cuda'))[0]\n",
    "        prediction = prediction.argmax(-1)\n",
    "        \n",
    "        accuracy_scores.append((prediction[start:end].cpu() == y[start:end]).sum() / (end-start))\n",
    "        \n",
    "        jac_scores.append((\n",
    "            (prediction[start:end].cpu() == 1) & (y[start:end] == 1)).sum() / \\\n",
    "            ((y[start:end] == 1) | (prediction[start:end].cpu() == 1)).cpu().sum())\n",
    "        \n",
    "        r_scores.append((\n",
    "            (prediction[start:end].cpu() == 1) & (y[start:end] == 1)).sum() / \\\n",
    "        \n",
    "        p_scores.append((\n",
    "            (prediction[start:end].cpu() == 1) & (y[start:end] == 1)).sum() / \\\n",
    "            (y[start:end].cpu() == 1).cpu().sum())\n",
    "        \n",
    "        if (prediction == 1.).sum() == 0 and (y == 1.).sum() == 0:\n",
    "            jac_scores[-1] = 1\n",
    "            accuracy_scores[-1] = 1\n",
    "            p_scores[-1] = 1\n",
    "            r_scores[-1] = 1\n",
    "            \n",
    "    map_val_id2scores['id'].append(val_id)\n",
    "    map_val_id2scores['acc'].append(np.mean(accuracy_scores))\n",
    "    map_val_id2scores['jac'].append(np.mean(jac_scores))\n",
    "    map_val_id2scores['p'].append(np.mean(p_scores))\n",
    "    map_val_id2scores['r'].append(np.mean(r_scores))\n",
    "    \n",
    "    if np.mean(p_scores).item() > 0.5:\n",
    "        print(val_id)\n",
    "        print(jac_scores)\n",
    "        print(start, end)\n",
    "        print(prediction[start:end])\n",
    "        print(y[start:end])\n",
    "        print(f'Text: {tokenizer.decode(x[start:end])}')\n",
    "        print(f'Predicted: {tokenizer.decode(x[torch.where(prediction[start:end].cpu() == 1)])}')\n",
    "        print(f'True: {tokenizer.decode(x[torch.where(y[start:end].cpu() == 1)])}')"
   ]
  },
  {
   "cell_type": "code",
   "execution_count": null,
   "metadata": {},
   "outputs": [],
   "source": [
    "metrics = pd.DataFrame.from_dict(map_val_id2scores)"
   ]
  },
  {
   "cell_type": "code",
   "execution_count": null,
   "metadata": {},
   "outputs": [],
   "source": [
    "metrics['target'] = metrics.apply(lambda row: 1 if row['jac'] > 0 else 0, axis=1)\n",
    "metrics"
   ]
  },
  {
   "cell_type": "code",
   "execution_count": null,
   "metadata": {},
   "outputs": [],
   "source": [
    "metrics[metrics.acc != 1].mean()"
   ]
  },
  {
   "cell_type": "code",
   "execution_count": null,
   "metadata": {},
   "outputs": [],
   "source": [
    "metrics[metrics.jac != 1].jac.mean()"
   ]
  },
  {
   "cell_type": "code",
   "execution_count": null,
   "metadata": {},
   "outputs": [],
   "source": [
    "markup.loc[metrics[metrics.jac != 1].id].rel_jac.mean()"
   ]
  },
  {
   "cell_type": "code",
   "execution_count": null,
   "metadata": {},
   "outputs": [],
   "source": [
    "val.rel_jac.fillna(0).mean()"
   ]
  },
  {
   "cell_type": "code",
   "execution_count": null,
   "metadata": {},
   "outputs": [],
   "source": [
    "metrics.target.mean() / (val.rel_target.fillna(0) > 0).astype(int).mean()"
   ]
  },
  {
   "cell_type": "code",
   "execution_count": null,
   "metadata": {},
   "outputs": [],
   "source": [
    "metrics.jac.mean() / (val.rel_jac.fillna(0) > 0).astype(int).mean()"
   ]
  },
  {
   "cell_type": "code",
   "execution_count": null,
   "metadata": {},
   "outputs": [],
   "source": [
    "(val.rel_target.fillna(0)).mean()"
   ]
  },
  {
   "cell_type": "code",
   "execution_count": null,
   "metadata": {},
   "outputs": [],
   "source": [
    "(val.rel_target.fillna(0) > 0).astype(int).mean()"
   ]
  },
  {
   "cell_type": "code",
   "execution_count": null,
   "metadata": {},
   "outputs": [],
   "source": [
    "mask = torch.where(y == -100)[0]\n",
    "start = mask[0]\n",
    "if mask.shape[0] <= 1:\n",
    "    end = 512\n",
    "else:\n",
    "    end = mask[1]"
   ]
  },
  {
   "cell_type": "code",
   "execution_count": null,
   "metadata": {},
   "outputs": [],
   "source": [
    "(prediction[start:end].cpu() == 1) == (y[start:end] == 1)).sum()"
   ]
  },
  {
   "cell_type": "code",
   "execution_count": null,
   "metadata": {},
   "outputs": [],
   "source": [
    "torch.where(y == -100)"
   ]
  },
  {
   "cell_type": "code",
   "execution_count": null,
   "metadata": {},
   "outputs": [],
   "source": [
    "y[torch.where(y == -100)[0][0] + 1:]"
   ]
  },
  {
   "cell_type": "code",
   "execution_count": null,
   "metadata": {},
   "outputs": [],
   "source": [
    "y"
   ]
  },
  {
   "cell_type": "code",
   "execution_count": null,
   "metadata": {},
   "outputs": [],
   "source": [
    "markup.loc[val_ids]"
   ]
  },
  {
   "cell_type": "code",
   "execution_count": null,
   "metadata": {},
   "outputs": [],
   "source": [
    "(y != -100)"
   ]
  },
  {
   "cell_type": "code",
   "execution_count": null,
   "metadata": {},
   "outputs": [],
   "source": [
    "for x, y in val_dataset[101]:\n",
    "    attention_mask = (y != 100)\n",
    "    preds = model(x.unsqueeze(0), attention_mask.unsqueeze(0))\n",
    "    predictions = preds.argmax(-1)\n",
    "    \n",
    "    for token_ids, ground_truth, prediction in zip(x, y, predictions):\n",
    "        print()\n",
    "        print(f'Text: {tokenizer.decode(token_ids).split(\"[SEP]\")[1].split(\"[PAD]\")[0]}')\n",
    "        print()\n",
    "        print(f'Entity: {tokenizer.decode(token_ids).split(\"[SEP]\")[0]}')\n",
    "        print()\n",
    "        print(f'Manipulation span: {tokenizer.decode(token_ids[np.where(np.array(ground_truth) == 1)])}')\n",
    "        print()\n",
    "        print(f'Predicted span: {tokenizer.decode(token_ids[np.where(np.array(prediction.cpu()) == 1)])}')\n",
    "        print()\n",
    "        print('############################################################')\n",
    "        break"
   ]
  },
  {
   "cell_type": "code",
   "execution_count": null,
   "metadata": {},
   "outputs": [],
   "source": [
    "token_ids, ground_truth = val_dataset[101]\n",
    "attention_mask = (ground_truth != 100)\n",
    "preds = model(token_ids.unsqueeze(0).to('cuda'), attention_mask.unsqueeze(0).to('cuda'))[0]\n",
    "predictions = preds.argmax(-1)\n",
    "mask = torch.where(ground_truth == -100)[0]\n",
    "start = mask[0]\n",
    "if mask.shape[0] <= 1:\n",
    "    end = 512\n",
    "else:\n",
    "    end = mask[1]\n",
    "\n",
    "\n",
    "print(((predictions[start:end].cpu() == 1) & (ground_truth[start:end] == 1)).sum() / \\\n",
    "            ((ground_truth[start:end] == 1) | (predictions[start:end].cpu() == 1)).cpu().sum())\n",
    "    \n",
    "print(predictions)\n",
    "\n",
    "print()\n",
    "print(f'Text: {tokenizer.decode(token_ids).split(\"[SEP]\")[1].split(\"[PAD]\")[0]}')\n",
    "print()\n",
    "print(f'Entity: {tokenizer.decode(token_ids).split(\"[SEP]\")[0]}')\n",
    "print()\n",
    "print(f'Manipulation span: {tokenizer.decode(token_ids[np.where(np.array(ground_truth) == 1)])}')\n",
    "print()\n",
    "print(f'Predicted span: {tokenizer.decode(token_ids[np.where(np.array(predictions.cpu()) == 1)])}')\n",
    "print()\n",
    "print('############################################################')"
   ]
  },
  {
   "cell_type": "code",
   "execution_count": null,
   "metadata": {},
   "outputs": [],
   "source": [
    "tokenizer.decode(token_ids)"
   ]
  },
  {
   "cell_type": "code",
   "execution_count": null,
   "metadata": {},
   "outputs": [],
   "source": [
    "texts[529]"
   ]
  },
  {
   "cell_type": "code",
   "execution_count": null,
   "metadata": {},
   "outputs": [],
   "source": [
    "|"
   ]
  }
 ],
 "metadata": {
  "accelerator": "GPU",
  "colab": {
   "collapsed_sections": [
    "iy0eN0gYbQ18",
    "x57ER_-VBB9s",
    "hNxhWd_T1EtX",
    "Aainm0OrF6-Y"
   ],
   "provenance": []
  },
  "gpuClass": "standard",
  "kernelspec": {
   "display_name": "Python 3 (ipykernel)",
   "language": "python",
   "name": "python3"
  },
  "language_info": {
   "codemirror_mode": {
    "name": "ipython",
    "version": 3
   },
   "file_extension": ".py",
   "mimetype": "text/x-python",
   "name": "python",
   "nbconvert_exporter": "python",
   "pygments_lexer": "ipython3",
   "version": "3.11.3"
  },
  "vscode": {
   "interpreter": {
    "hash": "3054ead98097fea4235956bcfdb3ae2fa441fdcfcdb34abea4d0717b684d09c0"
   }
  }
 },
 "nbformat": 4,
 "nbformat_minor": 1
}
